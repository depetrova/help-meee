{
 "cells": [
  {
   "cell_type": "markdown",
   "id": "5017ed8a",
   "metadata": {},
   "source": [
    "# Семинар 8: EDA и гипотезы"
   ]
  },
  {
   "cell_type": "markdown",
   "id": "c4d1b4d5",
   "metadata": {},
   "source": [
    "Сегодня мы будем решать кейс для отдела маркетинга некоторого банка. Задача - исследовать, какие характеристики могут влиять на принятие решения об открытии депозита."
   ]
  },
  {
   "cell_type": "markdown",
   "id": "1833c076",
   "metadata": {},
   "source": [
    "Для начала познакомимся с данными, которые нам предлагают.\n",
    "\n",
    "1. - age: возраст\n",
    "2. - job:тип работы\n",
    "3. - marital: семейный статус\n",
    "4. - education: уровень образования\n",
    "5. - default: имеет ли кредит в просрочке\n",
    "6. - housing: имеет ли клиент жилищный кредит\n",
    "7. - loan: имеет ли клиент персональный кредит\n",
    "8. - balance: баланс клиента\n",
    "9. - contact: тип контакта с клиентом\n",
    "10. - month: месяц, в котором был последний контакт\n",
    "11. - day: день, в который был последний контакт\n",
    "12. - duration: длительность контакта в секундах\n",
    "13. - campaign: количество контактов с этим клиентом в течение этой кампании\n",
    "14. - pdays: количество пропущенных дней с момента последней маркетинговой кампании до контакта в этой\n",
    "15. - previous: количество контактов до этой кампании\n",
    "16. - poutcome: результат прошлой маркетинговой кампании\n",
    "17. - deposit: согласился ли клиент открыть депозит\n",
    "\n"
   ]
  },
  {
   "cell_type": "markdown",
   "id": "700fc089",
   "metadata": {},
   "source": [
    "## Знакомство с данными и предобработка"
   ]
  },
  {
   "cell_type": "markdown",
   "id": "95533eff",
   "metadata": {},
   "source": [
    "Откроем наши данные:"
   ]
  },
  {
   "cell_type": "code",
   "execution_count": 1,
   "id": "a40a2a7c",
   "metadata": {},
   "outputs": [
    {
     "data": {
      "text/html": [
       "<div>\n",
       "<style scoped>\n",
       "    .dataframe tbody tr th:only-of-type {\n",
       "        vertical-align: middle;\n",
       "    }\n",
       "\n",
       "    .dataframe tbody tr th {\n",
       "        vertical-align: top;\n",
       "    }\n",
       "\n",
       "    .dataframe thead th {\n",
       "        text-align: right;\n",
       "    }\n",
       "</style>\n",
       "<table border=\"1\" class=\"dataframe\">\n",
       "  <thead>\n",
       "    <tr style=\"text-align: right;\">\n",
       "      <th></th>\n",
       "      <th>age</th>\n",
       "      <th>job</th>\n",
       "      <th>marital</th>\n",
       "      <th>education</th>\n",
       "      <th>default</th>\n",
       "      <th>balance</th>\n",
       "      <th>housing</th>\n",
       "      <th>loan</th>\n",
       "      <th>contact</th>\n",
       "      <th>day</th>\n",
       "      <th>month</th>\n",
       "      <th>duration</th>\n",
       "      <th>campaign</th>\n",
       "      <th>pdays</th>\n",
       "      <th>previous</th>\n",
       "      <th>poutcome</th>\n",
       "      <th>deposit</th>\n",
       "    </tr>\n",
       "  </thead>\n",
       "  <tbody>\n",
       "    <tr>\n",
       "      <th>0</th>\n",
       "      <td>59</td>\n",
       "      <td>admin.</td>\n",
       "      <td>married</td>\n",
       "      <td>secondary</td>\n",
       "      <td>no</td>\n",
       "      <td>2 343,00 $</td>\n",
       "      <td>yes</td>\n",
       "      <td>no</td>\n",
       "      <td>unknown</td>\n",
       "      <td>5</td>\n",
       "      <td>may</td>\n",
       "      <td>1042</td>\n",
       "      <td>1</td>\n",
       "      <td>-1</td>\n",
       "      <td>0</td>\n",
       "      <td>unknown</td>\n",
       "      <td>yes</td>\n",
       "    </tr>\n",
       "    <tr>\n",
       "      <th>1</th>\n",
       "      <td>56</td>\n",
       "      <td>admin.</td>\n",
       "      <td>married</td>\n",
       "      <td>secondary</td>\n",
       "      <td>no</td>\n",
       "      <td>45,00 $</td>\n",
       "      <td>no</td>\n",
       "      <td>no</td>\n",
       "      <td>unknown</td>\n",
       "      <td>5</td>\n",
       "      <td>may</td>\n",
       "      <td>1467</td>\n",
       "      <td>1</td>\n",
       "      <td>-1</td>\n",
       "      <td>0</td>\n",
       "      <td>unknown</td>\n",
       "      <td>yes</td>\n",
       "    </tr>\n",
       "    <tr>\n",
       "      <th>2</th>\n",
       "      <td>41</td>\n",
       "      <td>technician</td>\n",
       "      <td>married</td>\n",
       "      <td>secondary</td>\n",
       "      <td>no</td>\n",
       "      <td>1 270,00 $</td>\n",
       "      <td>yes</td>\n",
       "      <td>no</td>\n",
       "      <td>unknown</td>\n",
       "      <td>5</td>\n",
       "      <td>may</td>\n",
       "      <td>1389</td>\n",
       "      <td>1</td>\n",
       "      <td>-1</td>\n",
       "      <td>0</td>\n",
       "      <td>unknown</td>\n",
       "      <td>yes</td>\n",
       "    </tr>\n",
       "    <tr>\n",
       "      <th>3</th>\n",
       "      <td>55</td>\n",
       "      <td>services</td>\n",
       "      <td>married</td>\n",
       "      <td>secondary</td>\n",
       "      <td>no</td>\n",
       "      <td>2 476,00 $</td>\n",
       "      <td>yes</td>\n",
       "      <td>no</td>\n",
       "      <td>unknown</td>\n",
       "      <td>5</td>\n",
       "      <td>may</td>\n",
       "      <td>579</td>\n",
       "      <td>1</td>\n",
       "      <td>-1</td>\n",
       "      <td>0</td>\n",
       "      <td>unknown</td>\n",
       "      <td>yes</td>\n",
       "    </tr>\n",
       "    <tr>\n",
       "      <th>4</th>\n",
       "      <td>54</td>\n",
       "      <td>admin.</td>\n",
       "      <td>married</td>\n",
       "      <td>tertiary</td>\n",
       "      <td>no</td>\n",
       "      <td>184,00 $</td>\n",
       "      <td>no</td>\n",
       "      <td>no</td>\n",
       "      <td>unknown</td>\n",
       "      <td>5</td>\n",
       "      <td>may</td>\n",
       "      <td>673</td>\n",
       "      <td>2</td>\n",
       "      <td>-1</td>\n",
       "      <td>0</td>\n",
       "      <td>unknown</td>\n",
       "      <td>yes</td>\n",
       "    </tr>\n",
       "  </tbody>\n",
       "</table>\n",
       "</div>"
      ],
      "text/plain": [
       "   age         job  marital  education default       balance housing loan  \\\n",
       "0   59      admin.  married  secondary      no   2 343,00 $      yes   no   \n",
       "1   56      admin.  married  secondary      no      45,00 $       no   no   \n",
       "2   41  technician  married  secondary      no   1 270,00 $      yes   no   \n",
       "3   55    services  married  secondary      no   2 476,00 $      yes   no   \n",
       "4   54      admin.  married   tertiary      no     184,00 $       no   no   \n",
       "\n",
       "   contact  day month  duration  campaign  pdays  previous poutcome deposit  \n",
       "0  unknown    5   may      1042         1     -1         0  unknown     yes  \n",
       "1  unknown    5   may      1467         1     -1         0  unknown     yes  \n",
       "2  unknown    5   may      1389         1     -1         0  unknown     yes  \n",
       "3  unknown    5   may       579         1     -1         0  unknown     yes  \n",
       "4  unknown    5   may       673         2     -1         0  unknown     yes  "
      ]
     },
     "execution_count": 1,
     "metadata": {},
     "output_type": "execute_result"
    }
   ],
   "source": [
    "import warnings\n",
    "warnings.filterwarnings('ignore')\n",
    "import pandas as pd\n",
    "df = pd.read_csv('bank_fin.csv', sep = ';')\n",
    "df.head()"
   ]
  },
  {
   "cell_type": "markdown",
   "id": "900e2911",
   "metadata": {},
   "source": [
    "Давайте выясним, есть ли здесь пропущенные значения? Найдите, в каких признаках есть пропуски и сколько их:"
   ]
  },
  {
   "cell_type": "code",
   "execution_count": 2,
   "id": "66faf362",
   "metadata": {},
   "outputs": [
    {
     "data": {
      "text/plain": [
       "age           0\n",
       "job           0\n",
       "marital       0\n",
       "education     0\n",
       "default       0\n",
       "balance      25\n",
       "housing       0\n",
       "loan          0\n",
       "contact       0\n",
       "day           0\n",
       "month         0\n",
       "duration      0\n",
       "campaign      0\n",
       "pdays         0\n",
       "previous      0\n",
       "poutcome      0\n",
       "deposit       0\n",
       "dtype: int64"
      ]
     },
     "execution_count": 2,
     "metadata": {},
     "output_type": "execute_result"
    }
   ],
   "source": [
    "df.isnull().sum()"
   ]
  },
  {
   "cell_type": "code",
   "execution_count": 3,
   "id": "d6aea0bc",
   "metadata": {},
   "outputs": [
    {
     "data": {
      "text/plain": [
       "(11162, 17)"
      ]
     },
     "execution_count": 3,
     "metadata": {},
     "output_type": "execute_result"
    }
   ],
   "source": [
    "df.shape"
   ]
  },
  {
   "cell_type": "code",
   "execution_count": 4,
   "id": "bb66df0b",
   "metadata": {},
   "outputs": [
    {
     "data": {
      "text/plain": [
       "age           int64\n",
       "job          object\n",
       "marital      object\n",
       "education    object\n",
       "default      object\n",
       "balance      object\n",
       "housing      object\n",
       "loan         object\n",
       "contact      object\n",
       "day           int64\n",
       "month        object\n",
       "duration      int64\n",
       "campaign      int64\n",
       "pdays         int64\n",
       "previous      int64\n",
       "poutcome     object\n",
       "deposit      object\n",
       "dtype: object"
      ]
     },
     "execution_count": 4,
     "metadata": {},
     "output_type": "execute_result"
    }
   ],
   "source": [
    "df.dtypes"
   ]
  },
  {
   "cell_type": "markdown",
   "id": "7456c3af",
   "metadata": {},
   "source": [
    "Теперь нам хотелось бы обработать пропущенные значения, однако не все данные отображаются в корректном виде. Обратите внимание на признак balance: пока он воспринимается как строка, хотя должен быть числового формата. Исправим эту проблему:"
   ]
  },
  {
   "cell_type": "code",
   "execution_count": 5,
   "id": "33982844",
   "metadata": {},
   "outputs": [],
   "source": [
    "df['balance'] = df['balance'].str.replace(',00', '')\n",
    "df['balance'] = df['balance'].str.replace('$','')\n",
    "df['balance'] = df['balance'].str.replace(' ','')\n",
    "df['balance'] = df['balance'].astype('float')"
   ]
  },
  {
   "cell_type": "markdown",
   "id": "580cd8b5",
   "metadata": {},
   "source": [
    "Проверим результат:"
   ]
  },
  {
   "cell_type": "code",
   "execution_count": 6,
   "id": "106718dd",
   "metadata": {},
   "outputs": [
    {
     "data": {
      "text/plain": [
       "0        2343.0\n",
       "1          45.0\n",
       "2        1270.0\n",
       "3        2476.0\n",
       "4         184.0\n",
       "          ...  \n",
       "11157       1.0\n",
       "11158     733.0\n",
       "11159      29.0\n",
       "11160       0.0\n",
       "11161       0.0\n",
       "Name: balance, Length: 11162, dtype: float64"
      ]
     },
     "execution_count": 6,
     "metadata": {},
     "output_type": "execute_result"
    }
   ],
   "source": [
    "df['balance']"
   ]
  },
  {
   "cell_type": "markdown",
   "id": "067bdbdc",
   "metadata": {},
   "source": [
    "Теперь, когда численная переменная, отвечающая за баланс, приведена в корректный вид, мы можем обработать в ней пропуски."
   ]
  },
  {
   "cell_type": "markdown",
   "id": "ed70ec88",
   "metadata": {},
   "source": [
    "Например, заменим на медиану:"
   ]
  },
  {
   "cell_type": "code",
   "execution_count": 7,
   "id": "5207f055",
   "metadata": {},
   "outputs": [],
   "source": [
    "df['balance'] = df['balance'].fillna(df['balance'].median())"
   ]
  },
  {
   "cell_type": "markdown",
   "id": "34ca6f09",
   "metadata": {},
   "source": [
    "Итак, признак, отвечающий за баланс клиента, обработан.Теперь осталось разобраться с выбросами для него."
   ]
  },
  {
   "cell_type": "markdown",
   "id": "d52287e4",
   "metadata": {},
   "source": [
    "Есть разные стратегии выявления выбросов. Мы будем считать, что выбросы находятся за пределами интервала от  (Q1 - 1.5IQR) до (Q3 + 1.5IQR). "
   ]
  },
  {
   "cell_type": "code",
   "execution_count": 8,
   "id": "dea39555",
   "metadata": {},
   "outputs": [],
   "source": [
    "import numpy as np\n",
    "Q1 = np.percentile(df['balance'], 25,\n",
    "                   interpolation = 'midpoint')\n",
    " \n",
    "Q3 = np.percentile(df['balance'], 75,\n",
    "                   interpolation = 'midpoint')\n",
    "IQR = Q3 - Q1\n",
    "upper = Q3 + 1.5*IQR\n",
    "lower = Q1 - 1.5*IQR\n",
    "\n",
    "df = df[(df['balance']>=lower)&(df['balance']<=upper)]\n"
   ]
  },
  {
   "cell_type": "markdown",
   "id": "57d0153b",
   "metadata": {},
   "source": [
    "Также нам важно проанализировать возраста клиентов, склонных открывать депозит. Для того, чтобы нам было более удобно работать с возрастами, давайте перекодируем количественную переменную в порядковую, выделив следующие группы возрастов:\n",
    "\n",
    "* '<30'\n",
    "* '30-40'\n",
    "* '40-50'\n",
    "* '50-60'\n",
    "* '60+'\n"
   ]
  },
  {
   "cell_type": "code",
   "execution_count": 11,
   "id": "07afe309",
   "metadata": {},
   "outputs": [
    {
     "data": {
      "text/plain": [
       "<AxesSubplot:xlabel='age_group', ylabel='count'>"
      ]
     },
     "execution_count": 11,
     "metadata": {},
     "output_type": "execute_result"
    },
    {
     "data": {
      "image/png": "[encoded data removed]",
      "text/plain": [
       "<Figure size 432x288 with 1 Axes>"
      ]
     },
     "metadata": {
      "needs_background": "light"
     },
     "output_type": "display_data"
    }
   ],
   "source": [
    "import seaborn as sns\n",
    "df['age_group'] = pd.cut(df.age, [0,30,40,50,60,9999], labels = ['<30','30-40','40-50','50-60','60+'])\n",
    "sns.countplot(x=\"age_group\", hue=\"deposit\", data=df)\n",
    "#функция кат по заданному шаблону нарезает данные и делает порядковую переменную "
   ]
  },
  {
   "cell_type": "markdown",
   "id": "1d2e80d7",
   "metadata": {},
   "source": [
    "Также перекодируем образование (порядковый признак):"
   ]
  },
  {
   "cell_type": "code",
   "execution_count": 12,
   "id": "efdbf100",
   "metadata": {},
   "outputs": [],
   "source": [
    "education_mapper = {\"unknown\":0, \"primary\":1, \"secondary\":2, \"tertiary\":3}\n",
    "df[\"education_map\"] = df[\"education\"].replace(education_mapper) \n",
    "#маппер это словарь которому мы задаем что будет значением к ключу, работает это с реплейсом чтобы поменять категориальную переменную"
   ]
  },
  {
   "cell_type": "markdown",
   "id": "3cec5138",
   "metadata": {},
   "source": [
    "## Время описательных статистик"
   ]
  },
  {
   "cell_type": "markdown",
   "id": "259c168d",
   "metadata": {},
   "source": [
    "Давайте узнаем, много ли человек в целом открыли депозиты?\n"
   ]
  },
  {
   "cell_type": "code",
   "execution_count": 13,
   "id": "1daea19f",
   "metadata": {},
   "outputs": [
    {
     "name": "stdout",
     "output_type": "stream",
     "text": [
      "no     5424\n",
      "yes    4681\n",
      "Name: deposit, dtype: int64\n"
     ]
    },
    {
     "data": {
      "text/plain": [
       "<AxesSubplot:xlabel='deposit', ylabel='count'>"
      ]
     },
     "execution_count": 13,
     "metadata": {},
     "output_type": "execute_result"
    },
    {
     "data": {
      "image/png": "[encoded data removed]",
      "text/plain": [
       "<Figure size 432x288 with 1 Axes>"
      ]
     },
     "metadata": {
      "needs_background": "light"
     },
     "output_type": "display_data"
    }
   ],
   "source": [
    "print(df[\"deposit\"].value_counts())\n",
    "sns.countplot(data = df,x = df['deposit'])"
   ]
  },
  {
   "cell_type": "markdown",
   "id": "af6fd405",
   "metadata": {},
   "source": [
    "Теперь попробуйте сами с помощью известных вам функций ответить на следующие вопросы:"
   ]
  },
  {
   "cell_type": "markdown",
   "id": "29373fb3",
   "metadata": {},
   "source": [
    "#### Каков максимальный возраст клиента банка?\n"
   ]
  },
  {
   "cell_type": "code",
   "execution_count": 14,
   "id": "134bcd6e",
   "metadata": {},
   "outputs": [
    {
     "data": {
      "text/plain": [
       "95"
      ]
     },
     "execution_count": 14,
     "metadata": {},
     "output_type": "execute_result"
    }
   ],
   "source": [
    "df.age.max()"
   ]
  },
  {
   "cell_type": "markdown",
   "id": "e8115dac",
   "metadata": {},
   "source": [
    "#### Какова минимальная длительность разговора с клиентом банка? \n"
   ]
  },
  {
   "cell_type": "code",
   "execution_count": 13,
   "id": "dac8f747",
   "metadata": {},
   "outputs": [
    {
     "data": {
      "text/plain": [
       "2"
      ]
     },
     "execution_count": 13,
     "metadata": {},
     "output_type": "execute_result"
    }
   ],
   "source": [
    "df.duration.min()"
   ]
  },
  {
   "cell_type": "markdown",
   "id": "5faa5dbf",
   "metadata": {},
   "source": [
    "#### В скольких месяцах была маркетинговая кампания?"
   ]
  },
  {
   "cell_type": "code",
   "execution_count": 14,
   "id": "258dfd35",
   "metadata": {},
   "outputs": [
    {
     "data": {
      "text/plain": [
       "array(['may', 'jun', 'jul', 'aug', 'oct', 'nov', 'dec', 'jan', 'feb',\n",
       "       'mar', 'apr', 'sep'], dtype=object)"
      ]
     },
     "execution_count": 14,
     "metadata": {},
     "output_type": "execute_result"
    }
   ],
   "source": [
    "#ваш код\n",
    "df.month.unique()"
   ]
  },
  {
   "cell_type": "code",
   "execution_count": 15,
   "id": "c926c375",
   "metadata": {},
   "outputs": [
    {
     "data": {
      "text/plain": [
       "12"
      ]
     },
     "execution_count": 15,
     "metadata": {},
     "output_type": "execute_result"
    }
   ],
   "source": [
    "len(df.month.unique())"
   ]
  },
  {
   "cell_type": "markdown",
   "id": "ff57360d",
   "metadata": {},
   "source": [
    "#### Сколько всего профессий представлено среди клиентов банка?В какой профессии задействовано наибольшее количество клиентов банка?"
   ]
  },
  {
   "cell_type": "code",
   "execution_count": 15,
   "id": "be542880",
   "metadata": {},
   "outputs": [
    {
     "data": {
      "text/html": [
       "<div>\n",
       "<style scoped>\n",
       "    .dataframe tbody tr th:only-of-type {\n",
       "        vertical-align: middle;\n",
       "    }\n",
       "\n",
       "    .dataframe tbody tr th {\n",
       "        vertical-align: top;\n",
       "    }\n",
       "\n",
       "    .dataframe thead th {\n",
       "        text-align: right;\n",
       "    }\n",
       "</style>\n",
       "<table border=\"1\" class=\"dataframe\">\n",
       "  <thead>\n",
       "    <tr style=\"text-align: right;\">\n",
       "      <th></th>\n",
       "      <th>job</th>\n",
       "      <th>marital</th>\n",
       "      <th>education</th>\n",
       "      <th>default</th>\n",
       "      <th>housing</th>\n",
       "      <th>loan</th>\n",
       "      <th>contact</th>\n",
       "      <th>month</th>\n",
       "      <th>poutcome</th>\n",
       "      <th>deposit</th>\n",
       "    </tr>\n",
       "  </thead>\n",
       "  <tbody>\n",
       "    <tr>\n",
       "      <th>count</th>\n",
       "      <td>10105</td>\n",
       "      <td>10105</td>\n",
       "      <td>10105</td>\n",
       "      <td>10105</td>\n",
       "      <td>10105</td>\n",
       "      <td>10105</td>\n",
       "      <td>10105</td>\n",
       "      <td>10105</td>\n",
       "      <td>10105</td>\n",
       "      <td>10105</td>\n",
       "    </tr>\n",
       "    <tr>\n",
       "      <th>unique</th>\n",
       "      <td>12</td>\n",
       "      <td>3</td>\n",
       "      <td>4</td>\n",
       "      <td>2</td>\n",
       "      <td>2</td>\n",
       "      <td>2</td>\n",
       "      <td>3</td>\n",
       "      <td>12</td>\n",
       "      <td>4</td>\n",
       "      <td>2</td>\n",
       "    </tr>\n",
       "    <tr>\n",
       "      <th>top</th>\n",
       "      <td>management</td>\n",
       "      <td>married</td>\n",
       "      <td>secondary</td>\n",
       "      <td>no</td>\n",
       "      <td>no</td>\n",
       "      <td>no</td>\n",
       "      <td>cellular</td>\n",
       "      <td>may</td>\n",
       "      <td>unknown</td>\n",
       "      <td>no</td>\n",
       "    </tr>\n",
       "    <tr>\n",
       "      <th>freq</th>\n",
       "      <td>2254</td>\n",
       "      <td>5715</td>\n",
       "      <td>5078</td>\n",
       "      <td>9939</td>\n",
       "      <td>5243</td>\n",
       "      <td>8712</td>\n",
       "      <td>7283</td>\n",
       "      <td>2617</td>\n",
       "      <td>7570</td>\n",
       "      <td>5424</td>\n",
       "    </tr>\n",
       "  </tbody>\n",
       "</table>\n",
       "</div>"
      ],
      "text/plain": [
       "               job  marital  education default housing   loan   contact  \\\n",
       "count        10105    10105      10105   10105   10105  10105     10105   \n",
       "unique          12        3          4       2       2      2         3   \n",
       "top     management  married  secondary      no      no     no  cellular   \n",
       "freq          2254     5715       5078    9939    5243   8712      7283   \n",
       "\n",
       "        month poutcome deposit  \n",
       "count   10105    10105   10105  \n",
       "unique     12        4       2  \n",
       "top       may  unknown      no  \n",
       "freq     2617     7570    5424  "
      ]
     },
     "execution_count": 15,
     "metadata": {},
     "output_type": "execute_result"
    }
   ],
   "source": [
    "df.describe(include = 'object')"
   ]
  },
  {
   "cell_type": "markdown",
   "id": "2966a8c0",
   "metadata": {},
   "source": [
    "**Теперь давайте узнаем, есть ли разница в результатах текущей маркетинговой кампании в зависимости от предыдущей. Возможно, люди, которые уже однажды согласились на предложение банка, более склонны принять его вновь. А возможно, ситуация ровно обратная. Узнайте, для какого статуса предыдущей маркетинговой кампании успех в текущей превалирует над количеством неудач.**\n"
   ]
  },
  {
   "cell_type": "code",
   "execution_count": 16,
   "id": "33e61ce4",
   "metadata": {},
   "outputs": [
    {
     "data": {
      "text/plain": [
       "<AxesSubplot:xlabel='poutcome'>"
      ]
     },
     "execution_count": 16,
     "metadata": {},
     "output_type": "execute_result"
    },
    {
     "data": {
      "image/png": "[encoded data removed]",
      "text/plain": [
       "<Figure size 432x288 with 1 Axes>"
      ]
     },
     "metadata": {
      "needs_background": "light"
     },
     "output_type": "display_data"
    }
   ],
   "source": [
    "types = df.groupby(\"poutcome\")['deposit'].value_counts(normalize=False).unstack()\n",
    "types.plot(kind='bar', stacked='True') #анстак сделал столбики здесь чтобы красиво было, без него столбики рядом будут"
   ]
  },
  {
   "cell_type": "markdown",
   "id": "52d0435f",
   "metadata": {},
   "source": [
    "**Теперь давайте узнаем,  какова зависимость результата маркетинговых кампаний от месяца?Временные периоды, сезоны, близость к каким-то праздникам часто влияют на решение клиентов про использование определенных услуг. Рассчитайте, в каком месяце самый большой процент неудач при взаимодействии в текущей маркетинговой кампании. Возможно, этот месяц не является подходящим для проведения подобных акций, и это стоит отметить.**"
   ]
  },
  {
   "cell_type": "code",
   "execution_count": 17,
   "id": "b4cbc5cd",
   "metadata": {},
   "outputs": [
    {
     "name": "stdout",
     "output_type": "stream",
     "text": [
      "apr 38.19%\n",
      "aug 55.96%\n",
      "dec 9.68%\n",
      "feb 45.56%\n",
      "jan 60.82%\n",
      "jul 58.96%\n",
      "jun 54.89%\n",
      "mar 10.13%\n",
      "may 67.86%\n",
      "nov 58.46%\n",
      "oct 18.51%\n",
      "sep 16.55%\n"
     ]
    }
   ],
   "source": [
    "for i in np.unique(df.month):\n",
    "    a = round(df[(df.month == i)&(df.deposit == 'no')].shape[0]/df[(df.month == i)].shape[0]*100,2)\n",
    "    print(i, f'{a}%')"
   ]
  },
  {
   "cell_type": "markdown",
   "id": "ba0e2089",
   "metadata": {},
   "source": [
    "## Тестирование гипотез"
   ]
  },
  {
   "cell_type": "markdown",
   "id": "3d07de8e",
   "metadata": {},
   "source": [
    "Давайте теперь проверим предложенные ниже гипотезы. Для каждой гипотезы необходимо сформулировать нулевую и альтернативную гипотезы, подобрать необходимый статистический критерий, провести расчеты и сделать выводы."
   ]
  },
  {
   "cell_type": "markdown",
   "id": "385919fb",
   "metadata": {},
   "source": [
    "#### Отличается ли средняя длительность разговора у клиентов которые согласились открыть депозит и у клиентов, которые не согласились его открыть?"
   ]
  },
  {
   "cell_type": "code",
   "execution_count": 18,
   "id": "2d3ed576",
   "metadata": {},
   "outputs": [],
   "source": [
    "yes = df[df.deposit == 'yes']['duration'] #формируем выборки для текс кто согласился/нет на депозит\n",
    "no = df[df.deposit == 'no']['duration']"
   ]
  },
  {
   "cell_type": "code",
   "execution_count": 19,
   "id": "cdf916c2",
   "metadata": {},
   "outputs": [
    {
     "name": "stdout",
     "output_type": "stream",
     "text": [
      "51.7599050298825 0.0\n"
     ]
    }
   ],
   "source": [
    "from scipy import stats\n",
    "ttest, pval = stats.ttest_ind(yes, no, alternative = 'two-sided')\n",
    "print(ttest, pval) #нулевую гипотезу не принимаем"
   ]
  },
  {
   "cell_type": "code",
   "execution_count": 20,
   "id": "d30bb9fc",
   "metadata": {},
   "outputs": [
    {
     "name": "stdout",
     "output_type": "stream",
     "text": [
      "539.568895535142\n",
      "221.31674041297936\n"
     ]
    }
   ],
   "source": [
    "print(df[df.deposit == 'yes']['duration'].mean())\n",
    "print(df[df.deposit == 'no']['duration'].mean())"
   ]
  },
  {
   "cell_type": "markdown",
   "id": "bb712395",
   "metadata": {},
   "source": [
    "Изменится ли результат, если заменить альтернативу на одностороннюю?"
   ]
  },
  {
   "cell_type": "markdown",
   "id": "5dad9407",
   "metadata": {},
   "source": [
    "#### Правда ли, что средний баланс отличается у тех, у кого есть кредит в просрочке и у тех, у кого нет кредита в просрочке?"
   ]
  },
  {
   "cell_type": "code",
   "execution_count": 21,
   "id": "be16aa23",
   "metadata": {},
   "outputs": [
    {
     "name": "stdout",
     "output_type": "stream",
     "text": [
      "-11.219067944340582 4.8792674601876867e-29\n"
     ]
    }
   ],
   "source": [
    "yes = df[df.default == 'yes']['balance']\n",
    "no = df[df.default == 'no']['balance']\n",
    "ttest, pval = stats.ttest_ind(yes, no, alternative = 'two-sided')\n",
    "print(ttest, pval) #нулевую гипотезу не принимаем"
   ]
  },
  {
   "cell_type": "markdown",
   "id": "5a2f50c3",
   "metadata": {},
   "source": [
    "#### Проверим гипотезу о том, что доля взявших депозит равна 0.5\n",
    "АНДЕРСТЕНД ИТ БЕТТЕР"
   ]
  },
  {
   "cell_type": "code",
   "execution_count": 22,
   "id": "173c581b",
   "metadata": {},
   "outputs": [],
   "source": [
    "yes_d = len( df[df.deposit == 'yes']['duration'] )"
   ]
  },
  {
   "cell_type": "code",
   "execution_count": 23,
   "id": "a3596868",
   "metadata": {},
   "outputs": [
    {
     "data": {
      "text/plain": [
       "0.4632360217714003"
      ]
     },
     "execution_count": 23,
     "metadata": {},
     "output_type": "execute_result"
    }
   ],
   "source": [
    "yes_d/len(df)"
   ]
  },
  {
   "cell_type": "code",
   "execution_count": 25,
   "id": "f69d27dd",
   "metadata": {},
   "outputs": [
    {
     "data": {
      "text/plain": [
       "1.528995762689583e-13"
      ]
     },
     "execution_count": 25,
     "metadata": {},
     "output_type": "execute_result"
    }
   ],
   "source": [
    "stats.binom_test(yes_d, len(df), 0.5, alternative = 'two-sided')"
   ]
  },
  {
   "cell_type": "markdown",
   "id": "13d86c1e",
   "metadata": {},
   "source": [
    "#### Проверим гипотезу о том, что есть зависимость между уровнем образования и согласием/несогласием открыть депозит"
   ]
  },
  {
   "cell_type": "code",
   "execution_count": 26,
   "id": "eccd9488",
   "metadata": {},
   "outputs": [
    {
     "data": {
      "text/html": [
       "<div>\n",
       "<style scoped>\n",
       "    .dataframe tbody tr th:only-of-type {\n",
       "        vertical-align: middle;\n",
       "    }\n",
       "\n",
       "    .dataframe tbody tr th {\n",
       "        vertical-align: top;\n",
       "    }\n",
       "\n",
       "    .dataframe thead th {\n",
       "        text-align: right;\n",
       "    }\n",
       "</style>\n",
       "<table border=\"1\" class=\"dataframe\">\n",
       "  <thead>\n",
       "    <tr style=\"text-align: right;\">\n",
       "      <th>deposit</th>\n",
       "      <th>no</th>\n",
       "      <th>yes</th>\n",
       "    </tr>\n",
       "    <tr>\n",
       "      <th>education</th>\n",
       "      <th></th>\n",
       "      <th></th>\n",
       "    </tr>\n",
       "  </thead>\n",
       "  <tbody>\n",
       "    <tr>\n",
       "      <th>primary</th>\n",
       "      <td>832</td>\n",
       "      <td>517</td>\n",
       "    </tr>\n",
       "    <tr>\n",
       "      <th>secondary</th>\n",
       "      <td>2839</td>\n",
       "      <td>2239</td>\n",
       "    </tr>\n",
       "    <tr>\n",
       "      <th>tertiary</th>\n",
       "      <td>1526</td>\n",
       "      <td>1713</td>\n",
       "    </tr>\n",
       "    <tr>\n",
       "      <th>unknown</th>\n",
       "      <td>227</td>\n",
       "      <td>212</td>\n",
       "    </tr>\n",
       "  </tbody>\n",
       "</table>\n",
       "</div>"
      ],
      "text/plain": [
       "deposit      no   yes\n",
       "education            \n",
       "primary     832   517\n",
       "secondary  2839  2239\n",
       "tertiary   1526  1713\n",
       "unknown     227   212"
      ]
     },
     "execution_count": 26,
     "metadata": {},
     "output_type": "execute_result"
    }
   ],
   "source": [
    "t = df.groupby('education')['deposit'].value_counts().unstack()\n",
    "t"
   ]
  },
  {
   "cell_type": "code",
   "execution_count": 27,
   "id": "dba1a335",
   "metadata": {},
   "outputs": [
    {
     "data": {
      "text/plain": [
       "(101.67572341447327,\n",
       " 6.778848915395374e-22,\n",
       " 3,\n",
       " array([[ 724.09460663,  624.90539337],\n",
       "        [2725.68748144, 2352.31251856],\n",
       "        [1738.57852548, 1500.42147452],\n",
       "        [ 235.63938644,  203.36061356]]))"
      ]
     },
     "execution_count": 27,
     "metadata": {},
     "output_type": "execute_result"
    }
   ],
   "source": [
    "stats.chi2_contingency(t, correction=False)"
   ]
  },
  {
   "cell_type": "markdown",
   "id": "d36c5fe4",
   "metadata": {},
   "source": [
    "#### Проверьте гипотезу о том, что есть взаимосвязь между возрастом (категорией) и просрочкой кредита"
   ]
  },
  {
   "cell_type": "code",
   "execution_count": 29,
   "id": "f0aedf56",
   "metadata": {},
   "outputs": [
    {
     "data": {
      "text/html": [
       "<div>\n",
       "<style scoped>\n",
       "    .dataframe tbody tr th:only-of-type {\n",
       "        vertical-align: middle;\n",
       "    }\n",
       "\n",
       "    .dataframe tbody tr th {\n",
       "        vertical-align: top;\n",
       "    }\n",
       "\n",
       "    .dataframe thead th {\n",
       "        text-align: right;\n",
       "    }\n",
       "</style>\n",
       "<table border=\"1\" class=\"dataframe\">\n",
       "  <thead>\n",
       "    <tr style=\"text-align: right;\">\n",
       "      <th>default</th>\n",
       "      <th>no</th>\n",
       "      <th>yes</th>\n",
       "    </tr>\n",
       "    <tr>\n",
       "      <th>age_group</th>\n",
       "      <th></th>\n",
       "      <th></th>\n",
       "    </tr>\n",
       "  </thead>\n",
       "  <tbody>\n",
       "    <tr>\n",
       "      <th>&lt;30</th>\n",
       "      <td>1836</td>\n",
       "      <td>34</td>\n",
       "    </tr>\n",
       "    <tr>\n",
       "      <th>30-40</th>\n",
       "      <td>3788</td>\n",
       "      <td>54</td>\n",
       "    </tr>\n",
       "    <tr>\n",
       "      <th>40-50</th>\n",
       "      <td>2203</td>\n",
       "      <td>52</td>\n",
       "    </tr>\n",
       "    <tr>\n",
       "      <th>50-60</th>\n",
       "      <td>1600</td>\n",
       "      <td>25</td>\n",
       "    </tr>\n",
       "    <tr>\n",
       "      <th>60+</th>\n",
       "      <td>512</td>\n",
       "      <td>1</td>\n",
       "    </tr>\n",
       "  </tbody>\n",
       "</table>\n",
       "</div>"
      ],
      "text/plain": [
       "default      no  yes\n",
       "age_group           \n",
       "<30        1836   34\n",
       "30-40      3788   54\n",
       "40-50      2203   52\n",
       "50-60      1600   25\n",
       "60+         512    1"
      ]
     },
     "execution_count": 29,
     "metadata": {},
     "output_type": "execute_result"
    }
   ],
   "source": [
    "# проверьте гипотезу сами\n",
    "t = df.groupby('age_group')['default'].value_counts().unstack()\n",
    "t"
   ]
  },
  {
   "cell_type": "code",
   "execution_count": 30,
   "id": "7d43039d",
   "metadata": {},
   "outputs": [
    {
     "data": {
      "text/plain": [
       "(14.598192285978705,\n",
       " 0.005611430883334824,\n",
       " 4,\n",
       " array([[1839.28055418,   30.71944582],\n",
       "        [3778.88550223,   63.11449777],\n",
       "        [2217.95596239,   37.04403761],\n",
       "        [1598.30529441,   26.69470559],\n",
       "        [ 504.57268679,    8.42731321]]))"
      ]
     },
     "execution_count": 30,
     "metadata": {},
     "output_type": "execute_result"
    }
   ],
   "source": [
    "stats.chi2_contingency(t, correction=False)"
   ]
  },
  {
   "cell_type": "markdown",
   "id": "32cd56bb",
   "metadata": {},
   "source": [
    "#### Проверьте гипотезу, что есть разница в уровне образования между теми, кто открыл депозит и кто не открыл (используйте критерий Манна-Уитни)"
   ]
  },
  {
   "cell_type": "code",
   "execution_count": 32,
   "id": "03a2b087",
   "metadata": {},
   "outputs": [
    {
     "data": {
      "text/plain": [
       "MannwhitneyuResult(statistic=13890147.5, pvalue=4.226293920155862e-19)"
      ]
     },
     "execution_count": 32,
     "metadata": {},
     "output_type": "execute_result"
    }
   ],
   "source": [
    "x = df[df.deposit == 'yes'][\"education_map\"]\n",
    "y = df[df.deposit == 'no'][\"education_map\"]\n",
    "stats.mannwhitneyu(x, y, alternative = 'two-sided')"
   ]
  },
  {
   "cell_type": "markdown",
   "id": "f95eac71",
   "metadata": {},
   "source": [
    "#### Придумайте еще гипотезы, которые можно проверить на ваших данных и проверьте их"
   ]
  },
  {
   "cell_type": "code",
   "execution_count": null,
   "id": "5b141f69",
   "metadata": {},
   "outputs": [],
   "source": [
    "# место для вашей фантазии"
   ]
  }
 ],
 "metadata": {
  "kernelspec": {
   "display_name": "Python 3 (ipykernel)",
   "language": "python",
   "name": "python3"
  },
  "language_info": {
   "codemirror_mode": {
    "name": "ipython",
    "version": 3
   },
   "file_extension": ".py",
   "mimetype": "text/x-python",
   "name": "python",
   "nbconvert_exporter": "python",
   "pygments_lexer": "ipython3",
   "version": "3.9.7"
  }
 },
 "nbformat": 4,
 "nbformat_minor": 5
}
