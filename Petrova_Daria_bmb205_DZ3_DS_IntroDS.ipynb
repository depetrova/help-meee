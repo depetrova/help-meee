{
 "cells": [
  {
   "cell_type": "markdown",
   "id": "4c5300b0",
   "metadata": {
    "id": "4c5300b0"
   },
   "source": [
    "# Дз 3. Тестирование статистических гипотез"
   ]
  },
  {
   "cell_type": "markdown",
   "id": "e41ea851",
   "metadata": {
    "id": "e41ea851"
   },
   "source": [
    "<div class=\"alert alert-info\" role=\"alert\">\n",
    "\n",
    "Важно!\n",
    "\n",
    "* Плагиат карается обнулением работы\n",
    "* При использовании чужого кода из открытых источников необходимо указать ссылку на источник\n",
    "* В каждой задаче необходимо обосновывать выбор статистического критерия, формулировать нулевую и альтернативную гипотезу и делать интерпретацию получившихся результатов, а также содержательный вывод.\n",
    "* Весь текст оформляется строго в ячейках типа markdown"
   ]
  },
  {
   "cell_type": "markdown",
   "id": "e463f5b5",
   "metadata": {
    "id": "e463f5b5"
   },
   "source": [
    "## Задача 1. Осьминог Пауль (2 балла)\n",
    "\n",
    "\n",
    "* В период с 2008 по 2010 год в Германии жил Осьминог Пауль, который был известен тем, что мог предсказывать результаты матчей с участием сборной Германии.     \n",
    "   \n",
    "* В таблице ниже вы можете видеть результаты его предсказаний: \n"
   ]
  },
  {
   "cell_type": "markdown",
   "id": "63504b80",
   "metadata": {
    "id": "63504b80"
   },
   "source": [
    "<a href=\"https://ibb.co/VWnc5yG\"><img src=\"https://i.ibb.co/QFS3tBV/image.jpg\" alt=\"image\" border=\"0\"></a>"
   ]
  },
  {
   "cell_type": "markdown",
   "id": "346f6376",
   "metadata": {
    "id": "346f6376"
   },
   "source": [
    "* Если считать, что случайным образом мы угадывали ли бы 50% матчей, то можно ли утверждать, что осьминог Пауль был талантливым экстрасенсом со способностями к предсказаниям?"
   ]
  },
  {
   "cell_type": "markdown",
   "id": "4c39208c",
   "metadata": {
    "id": "9072470f"
   },
   "source": [
    "На семинаре мы разбирали похожую задачу про даму (похожую на монету), которая угадывала рецепт чая. Осьминог предсказывает правильный или неправильный результат матча со сборной Германии. Если фиксировать выбор Пауля, то Германия - 0, соперник - 1. Данная величина будет иметь распределение Бернулли.\n",
    "\n",
    "H0: P = 1/2\n",
    "\n",
    "H1: P > 1/2 альтернативная гипотеза такая, т.к. чтобы Пауль был талантливым экстрасенсом, он должен угадывать с большей вероятностью\n",
    "\n",
    "Сумма 13 (количество матчей) одинаково распределённых бернуллиевских случайных величин с параметром $p$ имеет биномиальное распределение $Bin(13, p)$. Тогда нулевое распределение статистики $T$ — $Bin\\left(13, \\frac1{2}\\right)$. Т.к. количество матчей небольшое, используется тест Фишера. \n",
    "\n",
    "\n",
    "Зафиксирую уровень значимости $\\alpha$ = 5%. "
   ]
  },
  {
   "cell_type": "code",
   "execution_count": 150,
   "id": "304f4021",
   "metadata": {},
   "outputs": [
    {
     "data": {
      "text/plain": [
       "0.01123046875"
      ]
     },
     "execution_count": 150,
     "metadata": {},
     "output_type": "execute_result"
    }
   ],
   "source": [
    "import numpy as np\n",
    "import pandas as pd\n",
    "from scipy import stats\n",
    "import scipy\n",
    "\n",
    "n = 13\n",
    "F_H0 = stats.binom(n, 0.5)\n",
    "stats.binom_test(11, 13, 0.5, alternative = 'greater') "
   ]
  },
  {
   "cell_type": "markdown",
   "id": "ad44f40d",
   "metadata": {},
   "source": [
    "Получили значение p-value = 0.01123046875. p-value < $\\alpha$, значит, на уровне значимости 5% не принимаем гипотезу Н0 (отвергаем в пользу альтернативной). Таким образом, у Осьминога Пауля действительно были способности к предсказаниям."
   ]
  },
  {
   "cell_type": "markdown",
   "id": "de312a8f",
   "metadata": {
    "id": "de312a8f"
   },
   "source": [
    "## Задача 2.  Корм и котики (2 балла)\n",
    "\n",
    "    \n",
    "* Новый корм для котиков рекламируется с помощью рекламного баннера. Отдел маркетинга разработал для рекламы новый баннер. Они считают, что он более красивый. Перед фирмой возникла необходимость проверить какой из двух баннеров лучше.\n",
    "\n",
    "* Для этого была создана специальная веб-форма. В этой веб-форме людям по очереди демонстрировали оба баннера и просили поставить лайк, если баннер нравится человеку. Если человеку нравятся оба баннера, он может поставить два лайка. Если ему не нравится ни один баннер, он может не ставить лайки вовсе. Собранные в конечном итоге данные находятся в табличке.\n",
    "\n",
    "* Можно ли утверждать, что оба баннера одинаково хороши? Сформулируйте статистическую гипотезу для проверки того, что оба баннера выбирают одинаково часто. Проверьте ее и сделайте выводы.\n"
   ]
  },
  {
   "cell_type": "code",
   "execution_count": 151,
   "id": "167378f2",
   "metadata": {
    "id": "167378f2"
   },
   "outputs": [],
   "source": [
    "catfood = pd.read_csv('banner_click_stat.csv', sep = '\\t', header = None)"
   ]
  },
  {
   "cell_type": "markdown",
   "id": "5b1b3455",
   "metadata": {},
   "source": [
    "sep = '\\t', для того, чтобы csv файл корректно открывался, header = None, чтобы первая строка не записывалась автоматически в заголовок, поменяю названия колонок и проверю данные на наличие пропущенных значений (получилось, что таких значений нет)"
   ]
  },
  {
   "cell_type": "code",
   "execution_count": 152,
   "id": "3e529575",
   "metadata": {},
   "outputs": [],
   "source": [
    "catfood.rename(columns = {0: 'Banner_A'}, inplace = True)"
   ]
  },
  {
   "cell_type": "code",
   "execution_count": 153,
   "id": "fae70786",
   "metadata": {},
   "outputs": [],
   "source": [
    "catfood.rename(columns = {1: 'Banner_B'}, inplace = True)"
   ]
  },
  {
   "cell_type": "code",
   "execution_count": 154,
   "id": "0721904a",
   "metadata": {},
   "outputs": [
    {
     "name": "stdout",
     "output_type": "stream",
     "text": [
      "<class 'pandas.core.frame.DataFrame'>\n",
      "RangeIndex: 1000 entries, 0 to 999\n",
      "Data columns (total 2 columns):\n",
      " #   Column    Non-Null Count  Dtype\n",
      "---  ------    --------------  -----\n",
      " 0   Banner_A  1000 non-null   int64\n",
      " 1   Banner_B  1000 non-null   int64\n",
      "dtypes: int64(2)\n",
      "memory usage: 15.8 KB\n"
     ]
    }
   ],
   "source": [
    "catfood.info()"
   ]
  },
  {
   "cell_type": "code",
   "execution_count": 196,
   "id": "9c653368",
   "metadata": {},
   "outputs": [
    {
     "data": {
      "text/html": [
       "<div>\n",
       "<style scoped>\n",
       "    .dataframe tbody tr th:only-of-type {\n",
       "        vertical-align: middle;\n",
       "    }\n",
       "\n",
       "    .dataframe tbody tr th {\n",
       "        vertical-align: top;\n",
       "    }\n",
       "\n",
       "    .dataframe thead th {\n",
       "        text-align: right;\n",
       "    }\n",
       "</style>\n",
       "<table border=\"1\" class=\"dataframe\">\n",
       "  <thead>\n",
       "    <tr style=\"text-align: right;\">\n",
       "      <th></th>\n",
       "      <th>Banner_A</th>\n",
       "      <th>Banner_B</th>\n",
       "    </tr>\n",
       "  </thead>\n",
       "  <tbody>\n",
       "    <tr>\n",
       "      <th>0</th>\n",
       "      <td>0</td>\n",
       "      <td>0</td>\n",
       "    </tr>\n",
       "    <tr>\n",
       "      <th>1</th>\n",
       "      <td>1</td>\n",
       "      <td>1</td>\n",
       "    </tr>\n",
       "    <tr>\n",
       "      <th>2</th>\n",
       "      <td>0</td>\n",
       "      <td>0</td>\n",
       "    </tr>\n",
       "    <tr>\n",
       "      <th>3</th>\n",
       "      <td>0</td>\n",
       "      <td>0</td>\n",
       "    </tr>\n",
       "    <tr>\n",
       "      <th>4</th>\n",
       "      <td>0</td>\n",
       "      <td>0</td>\n",
       "    </tr>\n",
       "    <tr>\n",
       "      <th>...</th>\n",
       "      <td>...</td>\n",
       "      <td>...</td>\n",
       "    </tr>\n",
       "    <tr>\n",
       "      <th>995</th>\n",
       "      <td>0</td>\n",
       "      <td>0</td>\n",
       "    </tr>\n",
       "    <tr>\n",
       "      <th>996</th>\n",
       "      <td>0</td>\n",
       "      <td>0</td>\n",
       "    </tr>\n",
       "    <tr>\n",
       "      <th>997</th>\n",
       "      <td>0</td>\n",
       "      <td>0</td>\n",
       "    </tr>\n",
       "    <tr>\n",
       "      <th>998</th>\n",
       "      <td>0</td>\n",
       "      <td>0</td>\n",
       "    </tr>\n",
       "    <tr>\n",
       "      <th>999</th>\n",
       "      <td>0</td>\n",
       "      <td>0</td>\n",
       "    </tr>\n",
       "  </tbody>\n",
       "</table>\n",
       "<p>1000 rows × 2 columns</p>\n",
       "</div>"
      ],
      "text/plain": [
       "     Banner_A  Banner_B\n",
       "0           0         0\n",
       "1           1         1\n",
       "2           0         0\n",
       "3           0         0\n",
       "4           0         0\n",
       "..        ...       ...\n",
       "995         0         0\n",
       "996         0         0\n",
       "997         0         0\n",
       "998         0         0\n",
       "999         0         0\n",
       "\n",
       "[1000 rows x 2 columns]"
      ]
     },
     "execution_count": 196,
     "metadata": {},
     "output_type": "execute_result"
    }
   ],
   "source": [
    "catfood"
   ]
  },
  {
   "cell_type": "markdown",
   "id": "5b4e63a3",
   "metadata": {},
   "source": [
    "В выборке предствленно 1000 наблюдений, это довольно много. Также, я делаю вывод о том, что выборки зависимы, потому что оба баннера каждый раз оценивают одни и те же люди, значит, использовать z-тест нельзя. Критерий знаков - аналогичный параметрический тест, используется при проверке нулевой гипотезы о равенстве нулю медианы разности для двух связанных выборок, воспользуюсь этим тестом"
   ]
  },
  {
   "cell_type": "markdown",
   "id": "7ead4b01",
   "metadata": {},
   "source": [
    "Нулевая гипотеза - оба баннера одинаково хороши, альтернативная - один из баннеров лучше или хуже.\n",
    "\n",
    "ma - медиана выборки банннера А, mb - медиана выборки баннера Б\n",
    "\n",
    "Н0: ma-mb = 0\n",
    "\n",
    "H1: ma-mb !=0\n",
    "\n",
    "Зафиксирую уровень значимости $\\alpha$ = 5%. "
   ]
  },
  {
   "cell_type": "code",
   "execution_count": 155,
   "id": "0143cf61",
   "metadata": {},
   "outputs": [],
   "source": [
    "from statsmodels.stats.descriptivestats import sign_test"
   ]
  },
  {
   "cell_type": "code",
   "execution_count": 156,
   "id": "86876266",
   "metadata": {},
   "outputs": [
    {
     "data": {
      "text/plain": [
       "(-8.0, 0.005222879350185395)"
      ]
     },
     "execution_count": 156,
     "metadata": {},
     "output_type": "execute_result"
    }
   ],
   "source": [
    "sign_test(catfood['Banner_A'] - catfood['Banner_B'])"
   ]
  },
  {
   "cell_type": "markdown",
   "id": "1cb74070",
   "metadata": {},
   "source": [
    "Получили значение p-value = 0.005222879350185395. p-value < $\\alpha$, значит, на уровне значимости 5% не принимаем гипотезу Н0 (отвергаем в пользу альтернативной). Таким образом, баннер А и баннер Б выбирают НЕ одинаково часто (разница медиан не равна нулю)"
   ]
  },
  {
   "cell_type": "markdown",
   "id": "ceefe195",
   "metadata": {
    "id": "ceefe195"
   },
   "source": [
    "## Задача 3. Немного АВ-тестов (3 балла)\n",
    "## Игра Cookie Cat"
   ]
  },
  {
   "cell_type": "markdown",
   "id": "7a6e5960",
   "metadata": {
    "id": "7a6e5960"
   },
   "source": [
    "В этом задании мы поработаем с данными Cookie Cats - популярной игры-головоломки, которую разработала компания Tactile Entertainment. В этой игре игрок должен соединять одинаковые элементы в ряд, чтобы очистить поле и выиграть уровень. "
   ]
  },
  {
   "cell_type": "markdown",
   "id": "f010877f",
   "metadata": {
    "id": "f010877f"
   },
   "source": [
    "<p style=\"align: center;\"><img align=center src=\"https://i.ytimg.com/vi/iPxZIp0cbJE/maxresdefault.jpg\"  width=500></p>\n",
    " \n",
    " \n",
    "<p style=\"align: center;\"><img align=center src=\"https://s3.amazonaws.com/assets.datacamp.com/production/project_184/img/cc_gates.png\"  width=500></p>\n"
   ]
  },
  {
   "cell_type": "markdown",
   "id": "45a869f8",
   "metadata": {
    "id": "45a869f8"
   },
   "source": [
    "По мере прохождения уровней перед игроками появляются ворота, открытия которых нужно ждать какое-то время или пропускать их, совершая покупки в приложении. С точки зрения создателей эти ворота повышают интерес к игре и стимулируют к вложению денег в игру.\n"
   ]
  },
  {
   "cell_type": "markdown",
   "id": "1992bbd9",
   "metadata": {
    "id": "1992bbd9"
   },
   "source": [
    "Но у создателей появляется важный вопрос: **где лучше всего ставить ворота?**\n",
    "Первоначально первые ворота были размещены на уровне 30. Однако есть гипотеза, что лучше переместить их на уровень 40. В этом задании вам предлагается проанализировать результаты AB-теста, в котором создатели переместили первые ворота в Cookie Cats с 30 уровня на уровень 40. "
   ]
  },
  {
   "cell_type": "markdown",
   "id": "0178c412",
   "metadata": {
    "id": "0178c412"
   },
   "source": [
    "**Данные получены от 90 189 игроков, которые установили игру во время проведения AB-теста. Переменные:**\n",
    "\n",
    "* `userid` - уникальный номер, идентифицирующий каждого игрока.\n",
    "\n",
    "* `version` - был ли игрок помещен в контрольную группу (gate_30 - ворота на уровне 30) или в тестовую группу (gate_40 - ворота на уровне 40).\n",
    "\n",
    "* `sum_gamerounds` - количество игровых раундов, сыгранных игроком в течение первой недели после установки\n",
    "* `retention_1` - вернулся ли игрок в игру через 1 день после установки\n",
    "* `retention_7` - вернулся ли игрок в игру через 7 дней после установки\n",
    "\n",
    "Когда игрок устанавливал игру, ему случайным образом назначали `gate_30` или `gate_40`."
   ]
  },
  {
   "cell_type": "code",
   "execution_count": 157,
   "id": "5d32953b",
   "metadata": {
    "id": "5d32953b",
    "outputId": "e19bff24-d56e-419f-9197-a6169b9e1cf4"
   },
   "outputs": [
    {
     "data": {
      "text/html": [
       "<div>\n",
       "<style scoped>\n",
       "    .dataframe tbody tr th:only-of-type {\n",
       "        vertical-align: middle;\n",
       "    }\n",
       "\n",
       "    .dataframe tbody tr th {\n",
       "        vertical-align: top;\n",
       "    }\n",
       "\n",
       "    .dataframe thead th {\n",
       "        text-align: right;\n",
       "    }\n",
       "</style>\n",
       "<table border=\"1\" class=\"dataframe\">\n",
       "  <thead>\n",
       "    <tr style=\"text-align: right;\">\n",
       "      <th></th>\n",
       "      <th>userid</th>\n",
       "      <th>version</th>\n",
       "      <th>sum_gamerounds</th>\n",
       "      <th>retention_1</th>\n",
       "      <th>retention_7</th>\n",
       "    </tr>\n",
       "  </thead>\n",
       "  <tbody>\n",
       "    <tr>\n",
       "      <th>0</th>\n",
       "      <td>116</td>\n",
       "      <td>gate_30</td>\n",
       "      <td>3</td>\n",
       "      <td>False</td>\n",
       "      <td>False</td>\n",
       "    </tr>\n",
       "    <tr>\n",
       "      <th>1</th>\n",
       "      <td>337</td>\n",
       "      <td>gate_30</td>\n",
       "      <td>38</td>\n",
       "      <td>True</td>\n",
       "      <td>False</td>\n",
       "    </tr>\n",
       "    <tr>\n",
       "      <th>2</th>\n",
       "      <td>377</td>\n",
       "      <td>gate_40</td>\n",
       "      <td>165</td>\n",
       "      <td>True</td>\n",
       "      <td>False</td>\n",
       "    </tr>\n",
       "    <tr>\n",
       "      <th>3</th>\n",
       "      <td>483</td>\n",
       "      <td>gate_40</td>\n",
       "      <td>1</td>\n",
       "      <td>False</td>\n",
       "      <td>False</td>\n",
       "    </tr>\n",
       "    <tr>\n",
       "      <th>4</th>\n",
       "      <td>488</td>\n",
       "      <td>gate_40</td>\n",
       "      <td>179</td>\n",
       "      <td>True</td>\n",
       "      <td>True</td>\n",
       "    </tr>\n",
       "  </tbody>\n",
       "</table>\n",
       "</div>"
      ],
      "text/plain": [
       "   userid  version  sum_gamerounds  retention_1  retention_7\n",
       "0     116  gate_30               3        False        False\n",
       "1     337  gate_30              38         True        False\n",
       "2     377  gate_40             165         True        False\n",
       "3     483  gate_40               1        False        False\n",
       "4     488  gate_40             179         True         True"
      ]
     },
     "execution_count": 157,
     "metadata": {},
     "output_type": "execute_result"
    }
   ],
   "source": [
    "import pandas as pd\n",
    "catgame = pd.read_csv('cookie_cats.csv')\n",
    "catgame.head()"
   ]
  },
  {
   "cell_type": "code",
   "execution_count": 158,
   "id": "563bbcbb",
   "metadata": {
    "id": "563bbcbb",
    "outputId": "4467f65d-2988-455a-ebf0-ec78e3269d38"
   },
   "outputs": [
    {
     "name": "stdout",
     "output_type": "stream",
     "text": [
      "<class 'pandas.core.frame.DataFrame'>\n",
      "RangeIndex: 90189 entries, 0 to 90188\n",
      "Data columns (total 5 columns):\n",
      " #   Column          Non-Null Count  Dtype \n",
      "---  ------          --------------  ----- \n",
      " 0   userid          90189 non-null  int64 \n",
      " 1   version         90189 non-null  object\n",
      " 2   sum_gamerounds  90189 non-null  int64 \n",
      " 3   retention_1     90189 non-null  bool  \n",
      " 4   retention_7     90189 non-null  bool  \n",
      "dtypes: bool(2), int64(2), object(1)\n",
      "memory usage: 2.2+ MB\n"
     ]
    }
   ],
   "source": [
    "catgame.info()"
   ]
  },
  {
   "cell_type": "markdown",
   "id": "2bd5758d",
   "metadata": {
    "id": "2bd5758d"
   },
   "source": [
    "### Вопрос 1: есть ли зависимость между возвращаемостью игроков и расположением ворот?"
   ]
  },
  {
   "cell_type": "markdown",
   "id": "c5412061",
   "metadata": {
    "id": "c5412061"
   },
   "source": [
    "### **1.1 Проверьте гипотезу для возвращения через день**"
   ]
  },
  {
   "cell_type": "markdown",
   "id": "ceeffbaf",
   "metadata": {},
   "source": [
    "Так как нужно проверить есть ли зависимость между возвращаемостью игроков от того, где поставить ворота, надо сгруппировать данные по воротам. Иными словами нам нужно проверить наличие взаимосвязи между двумя признаками. Для этого используется критерий независимости Хи-квадрат Пирсона.\n",
    "\n",
    "H0: взаимосвязи между возвращаемостью игроков через день и расположением ворот нет\n",
    "\n",
    "Н1: взаимосвязь между возвращаемостью игроков через день и расположением ворот есть\n",
    "\n",
    "Зафиксирую уровень значимости $\\alpha$ = 5%. "
   ]
  },
  {
   "cell_type": "code",
   "execution_count": 159,
   "id": "e7ee4751",
   "metadata": {
    "id": "e7ee4751"
   },
   "outputs": [
    {
     "data": {
      "text/html": [
       "<div>\n",
       "<style scoped>\n",
       "    .dataframe tbody tr th:only-of-type {\n",
       "        vertical-align: middle;\n",
       "    }\n",
       "\n",
       "    .dataframe tbody tr th {\n",
       "        vertical-align: top;\n",
       "    }\n",
       "\n",
       "    .dataframe thead th {\n",
       "        text-align: right;\n",
       "    }\n",
       "</style>\n",
       "<table border=\"1\" class=\"dataframe\">\n",
       "  <thead>\n",
       "    <tr style=\"text-align: right;\">\n",
       "      <th>retention_1</th>\n",
       "      <th>False</th>\n",
       "      <th>True</th>\n",
       "    </tr>\n",
       "    <tr>\n",
       "      <th>version</th>\n",
       "      <th></th>\n",
       "      <th></th>\n",
       "    </tr>\n",
       "  </thead>\n",
       "  <tbody>\n",
       "    <tr>\n",
       "      <th>gate_30</th>\n",
       "      <td>24666</td>\n",
       "      <td>20034</td>\n",
       "    </tr>\n",
       "    <tr>\n",
       "      <th>gate_40</th>\n",
       "      <td>25370</td>\n",
       "      <td>20119</td>\n",
       "    </tr>\n",
       "  </tbody>\n",
       "</table>\n",
       "</div>"
      ],
      "text/plain": [
       "retention_1  False   True\n",
       "version                  \n",
       "gate_30      24666  20034\n",
       "gate_40      25370  20119"
      ]
     },
     "execution_count": 159,
     "metadata": {},
     "output_type": "execute_result"
    }
   ],
   "source": [
    "game_1 = catgame.groupby('version')['retention_1'].value_counts().unstack()\n",
    "game_1"
   ]
  },
  {
   "cell_type": "code",
   "execution_count": 160,
   "id": "ddfe858b",
   "metadata": {},
   "outputs": [
    {
     "data": {
      "text/plain": [
       "(3.182963657512031,\n",
       " 0.07440965529692188,\n",
       " 1,\n",
       " array([[24799.13514952, 19900.86485048],\n",
       "        [25236.86485048, 20252.13514952]]))"
      ]
     },
     "execution_count": 160,
     "metadata": {},
     "output_type": "execute_result"
    }
   ],
   "source": [
    "stats.chi2_contingency(game_1, correction=False)"
   ]
  },
  {
   "cell_type": "markdown",
   "id": "b69a95d5",
   "metadata": {},
   "source": [
    "Получили значение p-value = 0.07440965529692188. p-value > $\\alpha$, значит, на уровне значимости 5%  гипотезу Н0 не отвергаем. Таким образом, взаимосвязи между возвращаемостью игороков через день и расположением ворот нет"
   ]
  },
  {
   "cell_type": "markdown",
   "id": "15ebcdad",
   "metadata": {
    "id": "15ebcdad"
   },
   "source": [
    "### **1.2 Проверьте гипотезу для возвращения через семь дней**"
   ]
  },
  {
   "cell_type": "markdown",
   "id": "d095d34e",
   "metadata": {},
   "source": [
    "Аналогично предыдущему пункту воспользуемся критерием независимости Хи-квадрат Пирсона, также сгруппируем по воротам\n",
    "\n",
    "H0: взаимосвязи между возвращаемостью игроков через 7 дней и расположением ворот нет\n",
    "\n",
    "Н1: взаимосвязь между возвращаемостью игроков через 7 дней и расположением ворот есть\n",
    "\n",
    "Зафиксирую уровень значимости $\\alpha$ = 5%. "
   ]
  },
  {
   "cell_type": "code",
   "execution_count": 161,
   "id": "1703de87",
   "metadata": {
    "id": "1703de87"
   },
   "outputs": [
    {
     "data": {
      "text/html": [
       "<div>\n",
       "<style scoped>\n",
       "    .dataframe tbody tr th:only-of-type {\n",
       "        vertical-align: middle;\n",
       "    }\n",
       "\n",
       "    .dataframe tbody tr th {\n",
       "        vertical-align: top;\n",
       "    }\n",
       "\n",
       "    .dataframe thead th {\n",
       "        text-align: right;\n",
       "    }\n",
       "</style>\n",
       "<table border=\"1\" class=\"dataframe\">\n",
       "  <thead>\n",
       "    <tr style=\"text-align: right;\">\n",
       "      <th>retention_7</th>\n",
       "      <th>False</th>\n",
       "      <th>True</th>\n",
       "    </tr>\n",
       "    <tr>\n",
       "      <th>version</th>\n",
       "      <th></th>\n",
       "      <th></th>\n",
       "    </tr>\n",
       "  </thead>\n",
       "  <tbody>\n",
       "    <tr>\n",
       "      <th>gate_30</th>\n",
       "      <td>36198</td>\n",
       "      <td>8502</td>\n",
       "    </tr>\n",
       "    <tr>\n",
       "      <th>gate_40</th>\n",
       "      <td>37210</td>\n",
       "      <td>8279</td>\n",
       "    </tr>\n",
       "  </tbody>\n",
       "</table>\n",
       "</div>"
      ],
      "text/plain": [
       "retention_7  False  True\n",
       "version                 \n",
       "gate_30      36198  8502\n",
       "gate_40      37210  8279"
      ]
     },
     "execution_count": 161,
     "metadata": {},
     "output_type": "execute_result"
    }
   ],
   "source": [
    "game_7 = catgame.groupby('version')['retention_7'].value_counts().unstack()\n",
    "game_7"
   ]
  },
  {
   "cell_type": "code",
   "execution_count": 162,
   "id": "0b4ce93e",
   "metadata": {},
   "outputs": [
    {
     "data": {
      "text/plain": [
       "(10.013167328688969,\n",
       " 0.0015542499756142805,\n",
       " 1,\n",
       " array([[36382.90257127,  8317.09742873],\n",
       "        [37025.09742873,  8463.90257127]]))"
      ]
     },
     "execution_count": 162,
     "metadata": {},
     "output_type": "execute_result"
    }
   ],
   "source": [
    "stats.chi2_contingency(game_7, correction=False)"
   ]
  },
  {
   "cell_type": "markdown",
   "id": "c2739ad6",
   "metadata": {},
   "source": [
    "Получили значение p-value = 0.0015542499756142805. p-value < $\\alpha$, значит, на уровне значимости 5%  гипотезу Н0 не принимаем (отвергаем в пользу альтернативной). Таким образом, взаимосвязь между возвращаемостью игороков через 7 дней и расположением ворот есть."
   ]
  },
  {
   "cell_type": "markdown",
   "id": "498a3f1d",
   "metadata": {
    "id": "498a3f1d"
   },
   "source": [
    "### **Вопрос 2: Отличается ли среднее количество раундов в группах gate_40 и gate_30?**"
   ]
  },
  {
   "cell_type": "markdown",
   "id": "d8742d37",
   "metadata": {
    "id": "a2504ebd"
   },
   "source": [
    "Отмечу, нам даны десятки тысяч наблюдейний (точнее - 90188), тогда выборочное распределение стремится к нормальному. Для проверки гипотез о среднем между независимыми выборками с большим кол-вом наблюдений используется z-тест, однако нам не даны значения дисперсий генеральных совокупностей, поэтому воспользуемся t-тестом для независимых выборок.\n",
    "\n",
    "H0: $\\mu = \\mu_0$\n",
    "\n",
    "H1: $\\mu \\neq \\mu_0$\n",
    "\n",
    "(мю - среднее)\n",
    "\n",
    "Зафиксирую уровень значимости $\\alpha$ = 5%. "
   ]
  },
  {
   "cell_type": "code",
   "execution_count": 163,
   "id": "7ddb9587",
   "metadata": {},
   "outputs": [],
   "source": [
    "g30 = catgame[catgame['version'] == 'gate_30']['sum_gamerounds']\n",
    "g40 = catgame[catgame['version'] == 'gate_40']['sum_gamerounds']\n",
    "g30.name, g40.name = 'gate_30', 'gate_40'"
   ]
  },
  {
   "cell_type": "code",
   "execution_count": 164,
   "id": "a3ae8f28",
   "metadata": {},
   "outputs": [],
   "source": [
    "from scipy.stats import ttest_ind"
   ]
  },
  {
   "cell_type": "code",
   "execution_count": 165,
   "id": "c637af39",
   "metadata": {},
   "outputs": [
    {
     "name": "stdout",
     "output_type": "stream",
     "text": [
      "0.8910426211362967 0.37290868247405207\n"
     ]
    }
   ],
   "source": [
    "ttest, pval = ttest_ind(g30, g40, alternative = 'two-sided')\n",
    "print(ttest, pval)"
   ]
  },
  {
   "cell_type": "markdown",
   "id": "55e5f6c7",
   "metadata": {},
   "source": [
    "Получили значение p-value = 0.37290868247405207. p-value > $\\alpha$, значит, на уровне значимости 5%  гипотезу Н0 не отвергаем. Таким образом, среднее количество раундов в группах gate_30 и gate_40 не отличается"
   ]
  },
  {
   "cell_type": "code",
   "execution_count": null,
   "id": "b8b3ba0e",
   "metadata": {},
   "outputs": [],
   "source": []
  },
  {
   "cell_type": "markdown",
   "id": "e236e864",
   "metadata": {
    "id": "e236e864"
   },
   "source": [
    "### **Вопрос 3: Отличается ли медианное количество раундов в группах gate_40 и gate_30?**"
   ]
  },
  {
   "cell_type": "markdown",
   "id": "cb51911a",
   "metadata": {},
   "source": [
    "Так как обе выборки независимы, у обеих выборок огромное количество наблюдений, они обе стремятся к нормальному распределению, значит для тестирования гипотезы о равенстве медианного кол-ва раундов можно использовать критерий Манна-Уитни.\n",
    "\n",
    "Н0: медианное кол-во раундов в gate_30 и в gate_40 равно\n",
    "\n",
    "Н1: медианное кол-во раундов в gate_30 и в gate_40 не равно\n",
    "\n",
    "Зафиксирую уровень значимости $\\alpha$ = 5%. "
   ]
  },
  {
   "cell_type": "code",
   "execution_count": 166,
   "id": "028d8822",
   "metadata": {},
   "outputs": [],
   "source": [
    "g30m = catgame[catgame['version'] == 'gate_30']['sum_gamerounds']\n",
    "g40m = catgame[catgame['version'] == 'gate_40']['sum_gamerounds']\n",
    "g30m.name, g40m.name = 'gate_30', 'gate_40'"
   ]
  },
  {
   "cell_type": "code",
   "execution_count": 167,
   "id": "fb59f98e",
   "metadata": {},
   "outputs": [
    {
     "name": "stdout",
     "output_type": "stream",
     "text": [
      "p-value: 0.05020880772044255\n"
     ]
    }
   ],
   "source": [
    "medianaresult = stats.mannwhitneyu(g30m, g40m, alternative = 'two-sided')\n",
    "print('p-value:', medianaresult[1])"
   ]
  },
  {
   "cell_type": "markdown",
   "id": "eaee17c5",
   "metadata": {},
   "source": [
    "Получили значение p-value = 0.05020880772044255. p-value > $\\alpha$ (чуть-чуть, но все таки больше), значит, на уровне значимости 5%  гипотезу Н0 не отвергаем. Таким образом, медианное количество раундов в группах gate_30 и gate_40 не отличается"
   ]
  },
  {
   "cell_type": "code",
   "execution_count": null,
   "id": "dd1b6673",
   "metadata": {},
   "outputs": [],
   "source": []
  },
  {
   "cell_type": "code",
   "execution_count": null,
   "id": "8ed44995",
   "metadata": {},
   "outputs": [],
   "source": []
  },
  {
   "cell_type": "code",
   "execution_count": null,
   "id": "2f8a1061",
   "metadata": {},
   "outputs": [],
   "source": []
  },
  {
   "cell_type": "code",
   "execution_count": null,
   "id": "41ae9216",
   "metadata": {},
   "outputs": [],
   "source": []
  },
  {
   "cell_type": "code",
   "execution_count": null,
   "id": "84b7043d",
   "metadata": {},
   "outputs": [],
   "source": []
  },
  {
   "cell_type": "code",
   "execution_count": null,
   "id": "ed2d1a3a",
   "metadata": {},
   "outputs": [],
   "source": []
  },
  {
   "cell_type": "code",
   "execution_count": null,
   "id": "fde14395",
   "metadata": {},
   "outputs": [],
   "source": []
  },
  {
   "cell_type": "markdown",
   "id": "8d2d7abc",
   "metadata": {},
   "source": [
    "в какой то момент выполнения задания я задумалась и решила посмотреть на результаты, если избавиться от выбросов, от выбросов избавляемся по столбцу sum_gamerounds, тк он содержит количественные данные\n",
    "далее я проделала все те же тесты что и сверху, только с новыми данными, я не стану их подробно расписывать и интерпретировать полностью, посмотрю подробнее на результат, только если результат будет отличаться от результатов выше "
   ]
  },
  {
   "cell_type": "code",
   "execution_count": 168,
   "id": "033f19bf",
   "metadata": {},
   "outputs": [],
   "source": [
    "new = catgame.copy()"
   ]
  },
  {
   "cell_type": "code",
   "execution_count": 169,
   "id": "7fdff2ed",
   "metadata": {},
   "outputs": [],
   "source": [
    "q25 = np.quantile(new['sum_gamerounds'], 0.25)\n",
    "q75 = np.quantile(new['sum_gamerounds'], 0.75)\n",
    "IQR = q75 - q25\n",
    "minn = q25 - (1.5*IQR)\n",
    "maxx = q75 + (1.5*IQR)"
   ]
  },
  {
   "cell_type": "code",
   "execution_count": 170,
   "id": "322ff3c1",
   "metadata": {},
   "outputs": [
    {
     "name": "stdout",
     "output_type": "stream",
     "text": [
      "5.0\n",
      "51.0\n",
      "46.0\n",
      "-64.0\n",
      "120.0\n"
     ]
    }
   ],
   "source": [
    "print(q25)\n",
    "print(q75)\n",
    "print(IQR)\n",
    "print(minn)\n",
    "print(maxx)"
   ]
  },
  {
   "cell_type": "code",
   "execution_count": 171,
   "id": "a10e7f86",
   "metadata": {},
   "outputs": [],
   "source": [
    "new.loc[new['sum_gamerounds'] < minn, 'sum_gamerounds'] = np.nan\n",
    "new.loc[new['sum_gamerounds'] > maxx, 'sum_gamerounds'] = np.nan"
   ]
  },
  {
   "cell_type": "code",
   "execution_count": 172,
   "id": "6274ce7b",
   "metadata": {},
   "outputs": [
    {
     "data": {
      "text/plain": [
       "userid                0\n",
       "version               0\n",
       "sum_gamerounds    10177\n",
       "retention_1           0\n",
       "retention_7           0\n",
       "dtype: int64"
      ]
     },
     "execution_count": 172,
     "metadata": {},
     "output_type": "execute_result"
    }
   ],
   "source": [
    "new.isnull().sum()"
   ]
  },
  {
   "cell_type": "code",
   "execution_count": 173,
   "id": "b3892e1e",
   "metadata": {},
   "outputs": [
    {
     "name": "stdout",
     "output_type": "stream",
     "text": [
      "<class 'pandas.core.frame.DataFrame'>\n",
      "RangeIndex: 90189 entries, 0 to 90188\n",
      "Data columns (total 5 columns):\n",
      " #   Column          Non-Null Count  Dtype  \n",
      "---  ------          --------------  -----  \n",
      " 0   userid          90189 non-null  int64  \n",
      " 1   version         90189 non-null  object \n",
      " 2   sum_gamerounds  80012 non-null  float64\n",
      " 3   retention_1     90189 non-null  bool   \n",
      " 4   retention_7     90189 non-null  bool   \n",
      "dtypes: bool(2), float64(1), int64(1), object(1)\n",
      "memory usage: 2.2+ MB\n"
     ]
    }
   ],
   "source": [
    "new.info()"
   ]
  },
  {
   "cell_type": "code",
   "execution_count": 174,
   "id": "38563e37",
   "metadata": {},
   "outputs": [],
   "source": [
    "new = new.dropna()"
   ]
  },
  {
   "cell_type": "code",
   "execution_count": 175,
   "id": "810bed23",
   "metadata": {},
   "outputs": [
    {
     "name": "stdout",
     "output_type": "stream",
     "text": [
      "<class 'pandas.core.frame.DataFrame'>\n",
      "Int64Index: 80012 entries, 0 to 90188\n",
      "Data columns (total 5 columns):\n",
      " #   Column          Non-Null Count  Dtype  \n",
      "---  ------          --------------  -----  \n",
      " 0   userid          80012 non-null  int64  \n",
      " 1   version         80012 non-null  object \n",
      " 2   sum_gamerounds  80012 non-null  float64\n",
      " 3   retention_1     80012 non-null  bool   \n",
      " 4   retention_7     80012 non-null  bool   \n",
      "dtypes: bool(2), float64(1), int64(1), object(1)\n",
      "memory usage: 2.6+ MB\n"
     ]
    }
   ],
   "source": [
    "new.info()"
   ]
  },
  {
   "cell_type": "code",
   "execution_count": 176,
   "id": "de50f563",
   "metadata": {},
   "outputs": [
    {
     "data": {
      "text/plain": [
       "(2.7710619216570604,\n",
       " 0.09598246591228103,\n",
       " 1,\n",
       " array([[24329.62328151, 15308.37671849],\n",
       "        [24781.37671849, 15592.62328151]]))"
      ]
     },
     "execution_count": 176,
     "metadata": {},
     "output_type": "execute_result"
    }
   ],
   "source": [
    "#1.1\n",
    "new_game_1 = new.groupby('version')['retention_1'].value_counts().unstack()\n",
    "stats.chi2_contingency(new_game_1, correction=False)"
   ]
  },
  {
   "cell_type": "code",
   "execution_count": 177,
   "id": "5bca56cf",
   "metadata": {},
   "outputs": [
    {
     "data": {
      "text/plain": [
       "(13.718054474978015,\n",
       " 0.00021240277684543275,\n",
       " 1,\n",
       " array([[35122.42271159,  4515.57728841],\n",
       "        [35774.57728841,  4599.42271159]]))"
      ]
     },
     "execution_count": 177,
     "metadata": {},
     "output_type": "execute_result"
    }
   ],
   "source": [
    "#1.2\n",
    "new_game_7 = new.groupby('version')['retention_7'].value_counts().unstack()\n",
    "stats.chi2_contingency(new_game_7, correction=False)"
   ]
  },
  {
   "cell_type": "code",
   "execution_count": 178,
   "id": "9d7ea478",
   "metadata": {},
   "outputs": [
    {
     "name": "stdout",
     "output_type": "stream",
     "text": [
      "-0.34674581278382155 0.7287832012343212\n"
     ]
    }
   ],
   "source": [
    "#2\n",
    "new_g30 = new[new['version'] == 'gate_30']['sum_gamerounds']\n",
    "new_g40 = new[new['version'] == 'gate_40']['sum_gamerounds']\n",
    "new_g30.name, new_g40.name = 'gate_30', 'gate_40'\n",
    "ttest, pval = ttest_ind(new_g30, new_g40, alternative = 'two-sided')\n",
    "print(ttest, pval)"
   ]
  },
  {
   "cell_type": "code",
   "execution_count": 179,
   "id": "82c36761",
   "metadata": {},
   "outputs": [
    {
     "name": "stdout",
     "output_type": "stream",
     "text": [
      "p-value: 0.03885510150342266\n"
     ]
    }
   ],
   "source": [
    "#3\n",
    "new_g30m = new[new['version'] == 'gate_30']['sum_gamerounds']\n",
    "new_g40m = new[new['version'] == 'gate_40']['sum_gamerounds']\n",
    "new_g30m.name, new_g40m.name = 'gate_30', 'gate_40'\n",
    "medianaresult = stats.mannwhitneyu(new_g30m, new_g40m, alternative = 'two-sided')\n",
    "print('p-value:', medianaresult[1])"
   ]
  },
  {
   "cell_type": "markdown",
   "id": "a39e8826",
   "metadata": {},
   "source": [
    "Напомню, уровень значимости alpha = 5%\n",
    "В данном случае у нас получился другой результат. В изначальном варинате p-value > alpha, поэтому там не отвергали Н9, здесь же наоборот, p-value < alpha, значит не принимаем Н0 (отвергаем в сторону альтернативной гипотезы)"
   ]
  },
  {
   "cell_type": "code",
   "execution_count": null,
   "id": "dd89a12a",
   "metadata": {},
   "outputs": [],
   "source": []
  },
  {
   "cell_type": "markdown",
   "id": "d6f787d8",
   "metadata": {},
   "source": [
    "Интересно, я могу для себя сделать вывод, что тестирование гипотез зависит от того, очищены данные или нет, поэтому нужно исходить из ситуации, в которой находишься."
   ]
  },
  {
   "cell_type": "markdown",
   "id": "8d99f1e5",
   "metadata": {},
   "source": [
    "В данном случае нельзя точно осказать, дали ли нам очищенные данные или нет, поэтому нельзя сделать четкий вывод о том, какие результаты тестирования гипотез правильные. Я сделала и так и так"
   ]
  },
  {
   "cell_type": "code",
   "execution_count": null,
   "id": "e430ff0e",
   "metadata": {},
   "outputs": [],
   "source": []
  },
  {
   "cell_type": "code",
   "execution_count": null,
   "id": "b0742469",
   "metadata": {},
   "outputs": [],
   "source": []
  },
  {
   "cell_type": "code",
   "execution_count": null,
   "id": "cae5cf1b",
   "metadata": {},
   "outputs": [],
   "source": []
  },
  {
   "cell_type": "code",
   "execution_count": null,
   "id": "77eae1dc",
   "metadata": {},
   "outputs": [],
   "source": []
  },
  {
   "cell_type": "code",
   "execution_count": null,
   "id": "6dad3259",
   "metadata": {},
   "outputs": [],
   "source": []
  },
  {
   "cell_type": "code",
   "execution_count": null,
   "id": "be3daa47",
   "metadata": {},
   "outputs": [],
   "source": []
  },
  {
   "cell_type": "code",
   "execution_count": null,
   "id": "3b50cf2b",
   "metadata": {},
   "outputs": [],
   "source": []
  },
  {
   "cell_type": "markdown",
   "id": "03f0c2b4",
   "metadata": {
    "id": "03f0c2b4"
   },
   "source": [
    "## Задача 4: Время покемонов (3 балла)"
   ]
  },
  {
   "cell_type": "markdown",
   "id": "413f4923",
   "metadata": {
    "id": "413f4923"
   },
   "source": [
    "В данной задаче вам будет необходимо проанализировать различные характеристики покемонов и сравнить их между собой"
   ]
  },
  {
   "cell_type": "markdown",
   "id": "a253705e",
   "metadata": {
    "id": "a253705e"
   },
   "source": [
    "<p style=\"align: center;\"><img align=center src=\"https://proprikol.ru/wp-content/uploads/2020/11/kartinki-pokemonov-2.jpg\"  width=500></p>"
   ]
  },
  {
   "cell_type": "markdown",
   "id": "1810bfee",
   "metadata": {
    "id": "1810bfee"
   },
   "source": [
    "Покемоны - это маленькие существа, которые сражаются друг с другом на соревнованиях. Все покемоны имеют разные характеристики (сила атаки, защиты и т. д.) и относятся к одному или двум так называемым классам (вода, огонь и т. д.). Профессор Оук является изобретателем Pokedex, портативного устройства, которое хранит информацию обо всех существующих покемонах. Как его ведущий специалист по данным, Вы только что получили от него запрос с просьбой осуществить аналитику данных на всех устройствах Pokedex."
   ]
  },
  {
   "cell_type": "markdown",
   "id": "19045811",
   "metadata": {
    "id": "19045811"
   },
   "source": [
    "### Описание данных\n",
    "\n",
    "Профессор Оук скопировал все содержимое память одного устройства Pokedex, в результате чего получился набор данных, с которым Вы будете работать в этой задаче. В этом файле каждая строка представляет характеристики одного покемона:\n",
    "\n",
    "* pid: Numeric - ID покемона\n",
    "* HP: Numeric - Очки здоровья\n",
    "* Attack: Numeric - Сила обычной атаки\n",
    "* Defense: Numeric - Сила обычной защиты\n",
    "* Sp. Atk: Numeric - Сила специальной атаки\n",
    "* Sp. Def: Numeric - Сила специальной защиты\n",
    "* Speed: Numeric - Скорость движений\n",
    "* Legendary: Boolean - «True», если покемон редкий\n",
    "* Class 1: Categorical - Класс покемона\n",
    "* Class 2: Categorical - Класс покемона"
   ]
  },
  {
   "cell_type": "code",
   "execution_count": 180,
   "id": "246a4553",
   "metadata": {},
   "outputs": [
    {
     "name": "stdout",
     "output_type": "stream",
     "text": [
      "<class 'pandas.core.frame.DataFrame'>\n",
      "RangeIndex: 800 entries, 0 to 799\n",
      "Data columns (total 11 columns):\n",
      " #   Column     Non-Null Count  Dtype \n",
      "---  ------     --------------  ----- \n",
      " 0   pid        800 non-null    int64 \n",
      " 1   Name       799 non-null    object\n",
      " 2   Class 1    800 non-null    object\n",
      " 3   Class 2    414 non-null    object\n",
      " 4   HP         800 non-null    int64 \n",
      " 5   Attack     800 non-null    int64 \n",
      " 6   Defense    800 non-null    int64 \n",
      " 7   Sp. Atk    800 non-null    int64 \n",
      " 8   Sp. Def    800 non-null    int64 \n",
      " 9   Speed      800 non-null    int64 \n",
      " 10  Legendary  800 non-null    bool  \n",
      "dtypes: bool(1), int64(7), object(3)\n",
      "memory usage: 63.4+ KB\n"
     ]
    },
    {
     "data": {
      "text/html": [
       "<div>\n",
       "<style scoped>\n",
       "    .dataframe tbody tr th:only-of-type {\n",
       "        vertical-align: middle;\n",
       "    }\n",
       "\n",
       "    .dataframe tbody tr th {\n",
       "        vertical-align: top;\n",
       "    }\n",
       "\n",
       "    .dataframe thead th {\n",
       "        text-align: right;\n",
       "    }\n",
       "</style>\n",
       "<table border=\"1\" class=\"dataframe\">\n",
       "  <thead>\n",
       "    <tr style=\"text-align: right;\">\n",
       "      <th></th>\n",
       "      <th>pid</th>\n",
       "      <th>Name</th>\n",
       "      <th>Class 1</th>\n",
       "      <th>Class 2</th>\n",
       "      <th>HP</th>\n",
       "      <th>Attack</th>\n",
       "      <th>Defense</th>\n",
       "      <th>Sp. Atk</th>\n",
       "      <th>Sp. Def</th>\n",
       "      <th>Speed</th>\n",
       "      <th>Legendary</th>\n",
       "    </tr>\n",
       "  </thead>\n",
       "  <tbody>\n",
       "    <tr>\n",
       "      <th>0</th>\n",
       "      <td>1</td>\n",
       "      <td>Bulbasaur</td>\n",
       "      <td>Grass</td>\n",
       "      <td>Poison</td>\n",
       "      <td>45</td>\n",
       "      <td>49</td>\n",
       "      <td>49</td>\n",
       "      <td>65</td>\n",
       "      <td>65</td>\n",
       "      <td>45</td>\n",
       "      <td>False</td>\n",
       "    </tr>\n",
       "    <tr>\n",
       "      <th>1</th>\n",
       "      <td>2</td>\n",
       "      <td>Ivysaur</td>\n",
       "      <td>Grass</td>\n",
       "      <td>Poison</td>\n",
       "      <td>60</td>\n",
       "      <td>62</td>\n",
       "      <td>63</td>\n",
       "      <td>80</td>\n",
       "      <td>80</td>\n",
       "      <td>60</td>\n",
       "      <td>False</td>\n",
       "    </tr>\n",
       "    <tr>\n",
       "      <th>2</th>\n",
       "      <td>3</td>\n",
       "      <td>Venusaur</td>\n",
       "      <td>Grass</td>\n",
       "      <td>Poison</td>\n",
       "      <td>80</td>\n",
       "      <td>82</td>\n",
       "      <td>83</td>\n",
       "      <td>100</td>\n",
       "      <td>100</td>\n",
       "      <td>80</td>\n",
       "      <td>False</td>\n",
       "    </tr>\n",
       "    <tr>\n",
       "      <th>3</th>\n",
       "      <td>4</td>\n",
       "      <td>Mega Venusaur</td>\n",
       "      <td>Grass</td>\n",
       "      <td>Poison</td>\n",
       "      <td>80</td>\n",
       "      <td>100</td>\n",
       "      <td>123</td>\n",
       "      <td>122</td>\n",
       "      <td>120</td>\n",
       "      <td>80</td>\n",
       "      <td>False</td>\n",
       "    </tr>\n",
       "    <tr>\n",
       "      <th>4</th>\n",
       "      <td>5</td>\n",
       "      <td>Charmander</td>\n",
       "      <td>Fire</td>\n",
       "      <td>NaN</td>\n",
       "      <td>39</td>\n",
       "      <td>52</td>\n",
       "      <td>43</td>\n",
       "      <td>60</td>\n",
       "      <td>50</td>\n",
       "      <td>65</td>\n",
       "      <td>False</td>\n",
       "    </tr>\n",
       "  </tbody>\n",
       "</table>\n",
       "</div>"
      ],
      "text/plain": [
       "   pid           Name Class 1 Class 2  HP  Attack  Defense  Sp. Atk  Sp. Def  \\\n",
       "0    1      Bulbasaur   Grass  Poison  45      49       49       65       65   \n",
       "1    2        Ivysaur   Grass  Poison  60      62       63       80       80   \n",
       "2    3       Venusaur   Grass  Poison  80      82       83      100      100   \n",
       "3    4  Mega Venusaur   Grass  Poison  80     100      123      122      120   \n",
       "4    5     Charmander    Fire     NaN  39      52       43       60       50   \n",
       "\n",
       "   Speed  Legendary  \n",
       "0     45      False  \n",
       "1     60      False  \n",
       "2     80      False  \n",
       "3     80      False  \n",
       "4     65      False  "
      ]
     },
     "execution_count": 180,
     "metadata": {},
     "output_type": "execute_result"
    }
   ],
   "source": [
    "pkmn = pd.read_csv('pokemon.csv')\n",
    "pkmn.info()\n",
    "pkmn.head()"
   ]
  },
  {
   "cell_type": "markdown",
   "id": "a1db8f55",
   "metadata": {},
   "source": [
    "Ого, у нас есть пропущенное значение в столбце с именами, данную строку нужно удалить, тк пропущенное имя покемона ничем нельзя заполнить. функцию notna чтобы дропнуть строку взяла отсюда https://stackoverflow.com/questions/13413590/how-to-drop-rows-of-pandas-dataframe-whose-value-in-a-certain-column-is-nan"
   ]
  },
  {
   "cell_type": "code",
   "execution_count": 181,
   "id": "0dbb4d17",
   "metadata": {},
   "outputs": [],
   "source": [
    "pkmn = pkmn[pkmn['Name'].notna()]"
   ]
  },
  {
   "cell_type": "code",
   "execution_count": 182,
   "id": "3aadc947",
   "metadata": {},
   "outputs": [
    {
     "name": "stdout",
     "output_type": "stream",
     "text": [
      "<class 'pandas.core.frame.DataFrame'>\n",
      "Int64Index: 799 entries, 0 to 799\n",
      "Data columns (total 11 columns):\n",
      " #   Column     Non-Null Count  Dtype \n",
      "---  ------     --------------  ----- \n",
      " 0   pid        799 non-null    int64 \n",
      " 1   Name       799 non-null    object\n",
      " 2   Class 1    799 non-null    object\n",
      " 3   Class 2    414 non-null    object\n",
      " 4   HP         799 non-null    int64 \n",
      " 5   Attack     799 non-null    int64 \n",
      " 6   Defense    799 non-null    int64 \n",
      " 7   Sp. Atk    799 non-null    int64 \n",
      " 8   Sp. Def    799 non-null    int64 \n",
      " 9   Speed      799 non-null    int64 \n",
      " 10  Legendary  799 non-null    bool  \n",
      "dtypes: bool(1), int64(7), object(3)\n",
      "memory usage: 69.4+ KB\n"
     ]
    }
   ],
   "source": [
    "pkmn.info()"
   ]
  },
  {
   "cell_type": "code",
   "execution_count": 183,
   "id": "2f7ed0c2",
   "metadata": {},
   "outputs": [
    {
     "data": {
      "text/plain": [
       "array(['Grass', 'Fire', 'Water', 'Bug', 'Normal', 'Poison', 'Electric',\n",
       "       'Ground', 'Fairy', 'Fighting', 'Psychic', 'Rock', 'Ghost', 'Ice',\n",
       "       'Dragon', 'Dark', 'Steel', 'Flying'], dtype=object)"
      ]
     },
     "execution_count": 183,
     "metadata": {},
     "output_type": "execute_result"
    }
   ],
   "source": [
    "pkmn['Class 1'].unique()"
   ]
  },
  {
   "cell_type": "code",
   "execution_count": 184,
   "id": "d229d1e5",
   "metadata": {},
   "outputs": [
    {
     "data": {
      "text/plain": [
       "array(['Poison', nan, 'Flying', 'Dragon', 'Ground', 'Fairy', 'Grass',\n",
       "       'Fighting', 'Psychic', 'Steel', 'Ice', 'Rock', 'Dark', 'Water',\n",
       "       'Electric', 'Fire', 'Ghost', 'Bug', 'Normal'], dtype=object)"
      ]
     },
     "execution_count": 184,
     "metadata": {},
     "output_type": "execute_result"
    }
   ],
   "source": [
    "pkmn['Class 2'].unique()"
   ]
  },
  {
   "cell_type": "markdown",
   "id": "216b24ea",
   "metadata": {
    "id": "216b24ea"
   },
   "source": [
    "### Вопрос 1"
   ]
  },
  {
   "cell_type": "markdown",
   "id": "83dadefc",
   "metadata": {
    "id": "83dadefc"
   },
   "source": [
    "Профессор Оук подозревает, что покемоны в классе `grass` имеют более сильную обычную атаку, чем у покемонов в классе `rock`. Проверьте, прав ли он, и убедите его в своем выводе статистически. "
   ]
  },
  {
   "cell_type": "markdown",
   "id": "8f4b5b0e",
   "metadata": {
    "id": "fb6a5007"
   },
   "source": [
    "Выше можно увидеть что классы повторяются и в Class 1 и в Class 2, поэтому для анализа я буду использовать только признак Class 1, тк в Class 2 очень много пропущенных значений."
   ]
  },
  {
   "cell_type": "markdown",
   "id": "a1dc3b33",
   "metadata": {},
   "source": [
    "Нужно опять сгруппировать данные, на этот раз данные по силе аттаки по классам grass и rock"
   ]
  },
  {
   "cell_type": "code",
   "execution_count": 185,
   "id": "d1aa2267",
   "metadata": {},
   "outputs": [],
   "source": [
    "import seaborn as sns"
   ]
  },
  {
   "cell_type": "code",
   "execution_count": 186,
   "id": "d254b65e",
   "metadata": {},
   "outputs": [
    {
     "data": {
      "text/plain": [
       "<AxesSubplot:xlabel='Attack', ylabel='Count'>"
      ]
     },
     "execution_count": 186,
     "metadata": {},
     "output_type": "execute_result"
    },
    {
     "data": {
      "image/png": "[encoded data removed]",
      "text/plain": [
       "<Figure size 432x288 with 1 Axes>"
      ]
     },
     "metadata": {
      "needs_background": "light"
     },
     "output_type": "display_data"
    }
   ],
   "source": [
    "sns.histplot(data = pkmn['Attack'], kde = True)"
   ]
  },
  {
   "cell_type": "markdown",
   "id": "041dacf0",
   "metadata": {},
   "source": [
    "Распределение признака близко к нормальному"
   ]
  },
  {
   "cell_type": "code",
   "execution_count": 187,
   "id": "9ead65e8",
   "metadata": {},
   "outputs": [],
   "source": [
    "grass = pkmn[pkmn['Class 1'] == 'Grass']['Attack']\n",
    "rock = pkmn[pkmn['Class 1'] == 'Rock']['Attack']\n",
    "grass.name, rock.name = 'grass', 'rock'"
   ]
  },
  {
   "cell_type": "markdown",
   "id": "fa435770",
   "metadata": {},
   "source": [
    "Во-первых, нужно проверить гипотезу о среднем, во-вторых, распределение близко к нормальному, в третьих, выборка относительно мала (всего 799 наблюдений), в-четвертых, выборки независимы (я считаю, что они независимы, так как мы не измеряем изменение одного признака через промежуток времени, на эти признаки ничто общее не влияет). При таких вводных используется t-тест.\n",
    "\n",
    "H0: $\\mu_g = \\mu_r$\n",
    "\n",
    "H1: $\\mu_g > \\mu_r$\n",
    "\n",
    "(мю - среднее)\n",
    "\n",
    "Зафиксирую уровень значимости $\\alpha$ = 5%.  "
   ]
  },
  {
   "cell_type": "code",
   "execution_count": 188,
   "id": "7e790c66",
   "metadata": {},
   "outputs": [
    {
     "name": "stdout",
     "output_type": "stream",
     "text": [
      "-3.450882886571366 0.9996055325966033\n"
     ]
    }
   ],
   "source": [
    "ttest, pval = stats.ttest_ind(grass, rock, 0, alternative = 'greater')\n",
    "print(ttest, pval)"
   ]
  },
  {
   "cell_type": "markdown",
   "id": "126b975d",
   "metadata": {},
   "source": [
    "Получили значение p-value = 0.9996055325966033. p-value > $\\alpha$, значит, на уровне значимости 5% гипотезу Н0 не отвергаем. Таким образом, нельзя сказать, что у покемонов grass более сильная обычная атака, чем у покемонов rock"
   ]
  },
  {
   "cell_type": "markdown",
   "id": "89b2ceb1",
   "metadata": {},
   "source": []
  },
  {
   "cell_type": "markdown",
   "id": "cf26b6f1",
   "metadata": {},
   "source": [
    " Из интереса проверю гипотезу, что наоборот, rock сильнее grass\n",
    "\n",
    "H0: $\\mu_r = \\mu_g$\n",
    "\n",
    "H1: $\\mu_r > \\mu_g$\n",
    "\n",
    "(мю - среднее)\n",
    "\n",
    "Зафиксирую уровень значимости $\\alpha$ = 5%.  \n"
   ]
  },
  {
   "cell_type": "code",
   "execution_count": 189,
   "id": "7252b116",
   "metadata": {},
   "outputs": [
    {
     "name": "stdout",
     "output_type": "stream",
     "text": [
      "3.450882886571366 0.00039446740339659745\n"
     ]
    }
   ],
   "source": [
    "ttest, pval = stats.ttest_ind(rock, grass, 0, alternative = 'greater')\n",
    "print(ttest, pval)"
   ]
  },
  {
   "cell_type": "markdown",
   "id": "7f0f736e",
   "metadata": {},
   "source": [
    "Вот, теперь получили значение p-value = 0.00039446740339659745. p-value < $\\alpha$, значит, на уровне значимости 5% гипотезу Н0 не принимаем (отвергаем в пользу альтернативной). Таким образом, у покемонов rock более сильная обычная атака, чем у покемонов grass"
   ]
  },
  {
   "cell_type": "markdown",
   "id": "efe3805e",
   "metadata": {
    "id": "efe3805e"
   },
   "source": [
    "### Вопрос 2"
   ]
  },
  {
   "cell_type": "markdown",
   "id": "baeb5aeb",
   "metadata": {
    "id": "baeb5aeb"
   },
   "source": [
    "Также профессор Оук очень хочет проверить, правда ли нет значимой разницы между силой обычной атаки и силой обычной защиты у покемонов. Помогите ему и ответьте на вопрос, подтвердив свои выводы с помощью проверки статистических гипотез"
   ]
  },
  {
   "cell_type": "code",
   "execution_count": 190,
   "id": "a8ae940e",
   "metadata": {
    "id": "a8ae940e"
   },
   "outputs": [
    {
     "data": {
      "text/plain": [
       "<AxesSubplot:xlabel='Defense', ylabel='Count'>"
      ]
     },
     "execution_count": 190,
     "metadata": {},
     "output_type": "execute_result"
    },
    {
     "data": {
      "image/png": "[encoded data removed]",
      "text/plain": [
       "<Figure size 432x288 with 1 Axes>"
      ]
     },
     "metadata": {
      "needs_background": "light"
     },
     "output_type": "display_data"
    }
   ],
   "source": [
    "sns.histplot(data = pkmn['Defense'], kde = True)"
   ]
  },
  {
   "cell_type": "markdown",
   "id": "8f7e0b9a",
   "metadata": {},
   "source": [
    "Аналогично предыдущему пункту распределение defense близко к нормальному, также нужно проверить гипотезу о среднем, обе выборки все также относительно малы и независимы. Используем t-тест\n",
    "\n",
    "H0: $\\mu_a = \\mu_d$\n",
    "\n",
    "H1: $\\mu_a \\not= \\mu_d$\n",
    "\n",
    "(мю - среднее)\n",
    "\n",
    "Зафиксирую уровень значимости $\\alpha$ = 5%.  \n"
   ]
  },
  {
   "cell_type": "code",
   "execution_count": 191,
   "id": "f0b87a33",
   "metadata": {},
   "outputs": [
    {
     "name": "stdout",
     "output_type": "stream",
     "text": [
      "3.207274676881722 0.0013665550776650538\n"
     ]
    }
   ],
   "source": [
    "ttest, pval = stats.ttest_ind(pkmn['Attack'], pkmn['Defense'], 0, alternative = 'two-sided')\n",
    "print(ttest, pval)"
   ]
  },
  {
   "cell_type": "markdown",
   "id": "0ab52d61",
   "metadata": {},
   "source": [
    "Получили значение p-value = 0.0013665550776650538. p-value < $\\alpha$, значит, на уровне значимости 5% гипотезу Н0 не принимаем (отвергаем в сторону альтернативной). Таким образом, разница между силой обычной атаки и силой обычной защиты у покемонов есть"
   ]
  },
  {
   "cell_type": "code",
   "execution_count": null,
   "id": "7cea9ef1",
   "metadata": {},
   "outputs": [],
   "source": []
  },
  {
   "cell_type": "markdown",
   "id": "e908b174",
   "metadata": {},
   "source": [
    "Из интереса проверю односторонние гипотезы\n",
    "\n",
    "H0: $\\mu_a = \\mu_d$\n",
    "\n",
    "H1: $\\mu_a < \\mu_d$\n",
    "\n",
    "(мю - среднее)\n",
    "\n",
    "Зафиксирую уровень значимости $\\alpha$ = 5%.  "
   ]
  },
  {
   "cell_type": "code",
   "execution_count": 192,
   "id": "0fb992ad",
   "metadata": {},
   "outputs": [
    {
     "name": "stdout",
     "output_type": "stream",
     "text": [
      "3.207274676881722 0.9993167224611675\n"
     ]
    }
   ],
   "source": [
    "ttest, pval = stats.ttest_ind(pkmn['Attack'], pkmn['Defense'], 0, alternative = 'less')\n",
    "print(ttest, pval)"
   ]
  },
  {
   "cell_type": "markdown",
   "id": "06b9eee1",
   "metadata": {},
   "source": [
    "Получили значение p-value = 0.9993167224611675. p-value > $\\alpha$, значит, на уровне значимости 5% гипотезу Н0 не отвергаем. Таким образом, нельяз утверждать, что сила обычной атаки меньше силы обычной защиты у покемонов "
   ]
  },
  {
   "cell_type": "markdown",
   "id": "01195479",
   "metadata": {},
   "source": [
    "H0: $\\mu_a = \\mu_d$\n",
    "\n",
    "H1: $\\mu_a > \\mu_d$\n",
    "\n",
    "(мю - среднее)\n",
    "\n",
    "Зафиксирую уровень значимости $\\alpha$ = 5%.  "
   ]
  },
  {
   "cell_type": "code",
   "execution_count": 193,
   "id": "72d10145",
   "metadata": {},
   "outputs": [
    {
     "name": "stdout",
     "output_type": "stream",
     "text": [
      "3.207274676881722 0.0006832775388325269\n"
     ]
    }
   ],
   "source": [
    "ttest, pval = stats.ttest_ind(pkmn['Attack'], pkmn['Defense'], 0, alternative = 'greater')\n",
    "print(ttest, pval)"
   ]
  },
  {
   "cell_type": "markdown",
   "id": "db76525f",
   "metadata": {},
   "source": [
    "Получили значение p-value = 0.0006832775388325269. p-value < $\\alpha$, значит, на уровне значимости 5% гипотезу Н0 не принимаем (отвергаем в сторону альтернативной). Таким образом, сила обычной атаки больше силы обычной защиты"
   ]
  },
  {
   "cell_type": "markdown",
   "id": "55c372da",
   "metadata": {
    "id": "55c372da"
   },
   "source": [
    "### Вопрос 3"
   ]
  },
  {
   "cell_type": "markdown",
   "id": "781cbb94",
   "metadata": {
    "id": "781cbb94"
   },
   "source": [
    "И последний вопрос, который мучает профессора Оука: правда ли, что средняя скорость покемонов превышает 66.6 ? Сформулируйте подходящие гипотезы и помогите профессору Оуку, ответив на вопрос."
   ]
  },
  {
   "cell_type": "code",
   "execution_count": 194,
   "id": "ca5342a1",
   "metadata": {},
   "outputs": [
    {
     "data": {
      "text/plain": [
       "<AxesSubplot:xlabel='Speed', ylabel='Count'>"
      ]
     },
     "execution_count": 194,
     "metadata": {},
     "output_type": "execute_result"
    },
    {
     "data": {
      "image/png": "[encoded data removed]",
      "text/plain": [
       "<Figure size 432x288 with 1 Axes>"
      ]
     },
     "metadata": {
      "needs_background": "light"
     },
     "output_type": "display_data"
    }
   ],
   "source": [
    "sns.histplot(data = pkmn['Speed'], kde = True)"
   ]
  },
  {
   "cell_type": "markdown",
   "id": "77e37d5a",
   "metadata": {},
   "source": [
    "Я считаю, что данное распределение стремится и близко к нормальному."
   ]
  },
  {
   "cell_type": "markdown",
   "id": "b439fb89",
   "metadata": {
    "id": "aefbfc32"
   },
   "source": [
    "Здесь просят проверить гипотезу о равенстве среднего какому-то числу, в таких случаях используется t-тест по одной выборке\n",
    "\n",
    "Н0: $\\mu_a = 66,6$\n",
    "\n",
    "H1: $\\mu_a > 66,6$\n",
    "\n",
    "Зафиксирую уровень значимости $\\alpha$ = 5%.  "
   ]
  },
  {
   "cell_type": "code",
   "execution_count": 195,
   "id": "e7fb5e70",
   "metadata": {},
   "outputs": [
    {
     "data": {
      "text/plain": [
       "Ttest_1sampResult(statistic=1.5989884605854279, pvalue=0.05510949908488242)"
      ]
     },
     "execution_count": 195,
     "metadata": {},
     "output_type": "execute_result"
    }
   ],
   "source": [
    "stats.ttest_1samp(pkmn['Speed'], popmean = 66.6, alternative = 'greater')"
   ]
  },
  {
   "cell_type": "markdown",
   "id": "c43d7b98",
   "metadata": {},
   "source": [
    "Получили значение p-value = 0.05510949908488242. p-value > $\\alpha$, значит, на уровне значимости 5% гипотезу Н0 не отвергаем. Таким образом, средняя скорость покемонов не превышает 66,6"
   ]
  },
  {
   "cell_type": "code",
   "execution_count": null,
   "id": "a35c92df",
   "metadata": {},
   "outputs": [],
   "source": []
  },
  {
   "cell_type": "markdown",
   "id": "0fef2773",
   "metadata": {},
   "source": [
    "В данной задаче я не стала проверять выбросы, так как посчитала все данные релевантными из-за относительно маленькой выборки"
   ]
  }
 ],
 "metadata": {
  "colab": {
   "name": "DZ3_DS.ipynb",
   "provenance": []
  },
  "kernelspec": {
   "display_name": "Python 3 (ipykernel)",
   "language": "python",
   "name": "python3"
  },
  "language_info": {
   "codemirror_mode": {
    "name": "ipython",
    "version": 3
   },
   "file_extension": ".py",
   "mimetype": "text/x-python",
   "name": "python",
   "nbconvert_exporter": "python",
   "pygments_lexer": "ipython3",
   "version": "3.9.7"
  }
 },
 "nbformat": 4,
 "nbformat_minor": 5
}
