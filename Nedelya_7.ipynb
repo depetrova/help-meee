{
 "cells": [
  {
   "cell_type": "code",
   "execution_count": null,
   "id": "5fff6d7f",
   "metadata": {},
   "outputs": [],
   "source": [
    "#1\n",
    "print(*sorted(input().split()))"
   ]
  },
  {
   "cell_type": "code",
   "execution_count": null,
   "id": "0b96378b",
   "metadata": {},
   "outputs": [],
   "source": [
    "#2\n",
    "marks = input().split()\n",
    "marks = map(float, marks)\n",
    "marks = sorted(marks, reverse = True)\n",
    "print(*marks)"
   ]
  },
  {
   "cell_type": "code",
   "execution_count": null,
   "id": "e34f54a9",
   "metadata": {},
   "outputs": [],
   "source": [
    "#3\n",
    "num = int(input())\n",
    "li = []\n",
    "for i in range(num):\n",
    "    li.append(input().split())\n",
    "n = int(input())\n",
    "for i in li:\n",
    "    print(i[n].replace(',', ''))"
   ]
  },
  {
   "cell_type": "code",
   "execution_count": null,
   "id": "872b15ea",
   "metadata": {},
   "outputs": [],
   "source": [
    "#4\n",
    "stroka = input().split()\n",
    "N = int(input())\n",
    "print(stroka[N])"
   ]
  },
  {
   "cell_type": "code",
   "execution_count": null,
   "id": "8395b896",
   "metadata": {},
   "outputs": [],
   "source": [
    "#5\n",
    "passwords = {'vk.com': 'njvesvevjvjenon', 'ok.ru': 'enjverwjve34tr8324qfnpu', \n",
    "            'hse.ru': 'jenvjefhv', 'mail.ru': 'nevielvwuvhrrwiu3349fhansci', \n",
    "            'n.ru': 'eveve224cb', 'ners.com': 'nvjevjenj444', 'ya.ru': \n",
    "            'dvejv33014c', 'ddd.ru': 'wmcklwcnkw', 'ker.ku': 'wfwf2', \n",
    "            'dmo.ru': 'cerjvnevn24r'}\n",
    "print(len(passwords[input()]))"
   ]
  },
  {
   "cell_type": "code",
   "execution_count": 17,
   "id": "77c6e8fa",
   "metadata": {},
   "outputs": [
    {
     "name": "stdout",
     "output_type": "stream",
     "text": [
      "5\n",
      "Петя Даша Кирилл Дима Миша Настя Глеб\n"
     ]
    }
   ],
   "source": [
    "#6\n",
    "results = { 'Петя': 100, 'Даша': 85, 'Кирилл': 28, \n",
    "            'Дима': 44, 'Миша': 91, 'Настя': 76, \n",
    "            'Глеб': 75} \n",
    "N = int(input())\n",
    "li = []\n",
    "for i in results:\n",
    "    if results[i] >= N:\n",
    "        li.append(i)\n",
    "print('\\n'.join(li))"
   ]
  },
  {
   "cell_type": "code",
   "execution_count": 10,
   "id": "221bf626",
   "metadata": {},
   "outputs": [
    {
     "name": "stdout",
     "output_type": "stream",
     "text": [
      "Лондон\n",
      "Великобритания 2\n"
     ]
    }
   ],
   "source": [
    "#7\n",
    "cities = {  'Россия': ['Москва', 'Санкт-Петербург', 'Ростов-на-Дону', 'Казань'],\n",
    "            'Германия': ['Берлин', 'Дюссельдорф', 'Дрезден', 'Кельн'], \n",
    "            'Франция': ['Марсель', 'Ницца', 'Лион'], \n",
    "            'Великобритания': ['Лондон', 'Глазго']}\n",
    "city = input()\n",
    "for country in cities:\n",
    "    if city in cities[country]:\n",
    "        print(f'{country} {len(cities[country])}')"
   ]
  },
  {
   "cell_type": "code",
   "execution_count": null,
   "id": "a121ff19",
   "metadata": {},
   "outputs": [],
   "source": [
    "#8\n",
    "#Queen: Innuendo\n",
    "#Queen: The Miracle\n",
    "#Dawid Bowie: Space Oddity\n",
    "#Queen: A Night at the Opera\n",
    "#Simon & Garfunkel: The Sound of Silence\n",
    "#Queen\n",
    "all = {}\n",
    "while 1:\n",
    "    sti = input().split(\": \")\n",
    "    if len(sti) == 1:\n",
    "        sti = sti[0]\n",
    "        print(f\"{sti} ({len(all[sti])}): {', '.join(sorted(all[sti]))}.\")\n",
    "        break\n",
    "    if sti[0] not in all: all[sti[0]] = []\n",
    "    all[sti[0]].append(sti[1])"
   ]
  },
  {
   "cell_type": "code",
   "execution_count": 3,
   "id": "c69af5bf",
   "metadata": {},
   "outputs": [
    {
     "ename": "SyntaxError",
     "evalue": "invalid syntax (Temp/ipykernel_2716/3194714743.py, line 3)",
     "output_type": "error",
     "traceback": [
      "\u001b[1;36m  File \u001b[1;32m\"C:\\Users\\Oskarr\\AppData\\Local\\Temp/ipykernel_2716/3194714743.py\"\u001b[1;36m, line \u001b[1;32m3\u001b[0m\n\u001b[1;33m    Миша : b()\u001b[0m\n\u001b[1;37m    ^\u001b[0m\n\u001b[1;31mSyntaxError\u001b[0m\u001b[1;31m:\u001b[0m invalid syntax\n"
     ]
    }
   ],
   "source": [
    "#9\n",
    "all = {\"Вася\": [],\"Миша\": [], \"Петя\": []}\n",
    "while 1:\n",
    "    stri = input()\n",
    "    if stri == \"конец\": break\n",
    "    name, user = stri.split(\": \")\n",
    "    all[name].append(user)\n",
    "print(f\"У Васи {len(set(all['Вася']))} уникальных комментатора.\")\n",
    "print(f\"У Миши {len(set(all['Миша']))} уникальных комментатора.\")\n",
    "print(f\"У Пети {len(set(all['Петя']))} уникальных комментатора.\")"
   ]
  },
  {
   "cell_type": "code",
   "execution_count": null,
   "id": "1b417a73",
   "metadata": {},
   "outputs": [],
   "source": [
    "#10\n",
    "num_of_stings = int(input())\n",
    "all = {}\n",
    "for i in range(num_of_stings):\n",
    "    stri = input()\n",
    "    if not stri in all: all[stri] = 0\n",
    "    all[stri]+=1\n",
    "all = sorted(all.items(),key=lambda item: int(item[1])) #сотрировка словаря\n",
    "all.reverse()\n",
    "print(f\"{all[0][0]}: {all[0][1]}\")\n",
    "print(f\"{all[-1][0]}: {all[-1][1]}\")"
   ]
  }
 ],
 "metadata": {
  "kernelspec": {
   "display_name": "Python 3 (ipykernel)",
   "language": "python",
   "name": "python3"
  },
  "language_info": {
   "codemirror_mode": {
    "name": "ipython",
    "version": 3
   },
   "file_extension": ".py",
   "mimetype": "text/x-python",
   "name": "python",
   "nbconvert_exporter": "python",
   "pygments_lexer": "ipython3",
   "version": "3.9.7"
  }
 },
 "nbformat": 4,
 "nbformat_minor": 5
}
