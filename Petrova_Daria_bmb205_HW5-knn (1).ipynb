{
 "cells": [
  {
   "cell_type": "markdown",
   "metadata": {},
   "source": [
    "## Введение в DS на УБ и МиРА (2022)\n",
    "### Домашнее задание #5:  Ближайшие соседи\n",
    "Дедлайн: 19 июня 2022 года, 23:59\n",
    "Правила игры\n",
    "\n",
    "Домашнее задание состоит из двух частей, которые оцениваются в 3 - 7 балла. Все пункты в пределах одной части имеют одинаковый вес.\n",
    "\n",
    "Решения принимаются до 19 июня 2022 года, 23:59 МСК включительно. Работы, отправленные после дедлайна, не проверяются. Дата и время сдачи определяются по последнему запушенному в репозиторий коммиту (можно увидеть на GitHub, наведя мышкой на указатель срока (например, 3 days ago) справа от файлов).\n",
    "\n",
    "Все решения нужно загрузить в личный репозиторий на GitHub Classroom.\n",
    "\n",
    "Разрешается использовать без доказательства любые результаты, встречавшиеся на лекциях или семинарах по курсу, если получение этих результатов не является вопросом задания. Разрешается использовать любые свободные источники с указанием ссылки на них.\n",
    "\n",
    "Плагиат не допускается. При обнаружении случаев списывания, \n",
    "0\n",
    " за работу выставляется всем участникам нарушения, даже если можно установить, кто у кого списал.\n"
   ]
  },
  {
   "cell_type": "markdown",
   "metadata": {},
   "source": [
    " ---"
   ]
  },
  {
   "cell_type": "markdown",
   "metadata": {},
   "source": []
  },
  {
   "cell_type": "markdown",
   "metadata": {},
   "source": [
    "В этом задании будем предсказывать удовлетворенность студентов их программой (`LikeDegree`). Скачайте  Student_Behaviour.csv, содержащую информацию о студентов бакалавриата.\n"
   ]
  },
  {
   "cell_type": "markdown",
   "metadata": {},
   "source": [
    "### Часть 1: Исследуем данные\n",
    "**Задание 1.** Загрузите данные из файла Student_Behaviour.csv. Выведите первые 5 строк таблицы."
   ]
  },
  {
   "cell_type": "code",
   "execution_count": 94,
   "metadata": {},
   "outputs": [
    {
     "data": {
      "text/html": [
       "<div>\n",
       "<style scoped>\n",
       "    .dataframe tbody tr th:only-of-type {\n",
       "        vertical-align: middle;\n",
       "    }\n",
       "\n",
       "    .dataframe tbody tr th {\n",
       "        vertical-align: top;\n",
       "    }\n",
       "\n",
       "    .dataframe thead th {\n",
       "        text-align: right;\n",
       "    }\n",
       "</style>\n",
       "<table border=\"1\" class=\"dataframe\">\n",
       "  <thead>\n",
       "    <tr style=\"text-align: right;\">\n",
       "      <th></th>\n",
       "      <th>CertificationCourses</th>\n",
       "      <th>Gender</th>\n",
       "      <th>Department</th>\n",
       "      <th>Height(CM)</th>\n",
       "      <th>Weight(KG)</th>\n",
       "      <th>10Mark</th>\n",
       "      <th>12Mark</th>\n",
       "      <th>CollegeMark</th>\n",
       "      <th>Hobbies</th>\n",
       "      <th>DailyStudingTime</th>\n",
       "      <th>PreferToStudyIn</th>\n",
       "      <th>SalaryExpectation</th>\n",
       "      <th>LikeDegree</th>\n",
       "      <th>CareerBasedonDegree</th>\n",
       "      <th>GamesSpendingTime</th>\n",
       "      <th>TravellingTime</th>\n",
       "      <th>StressLevel</th>\n",
       "      <th>FinancialStatus</th>\n",
       "      <th>PartTimeJob?</th>\n",
       "    </tr>\n",
       "  </thead>\n",
       "  <tbody>\n",
       "    <tr>\n",
       "      <th>0</th>\n",
       "      <td>No</td>\n",
       "      <td>Male</td>\n",
       "      <td>BCA</td>\n",
       "      <td>100.0</td>\n",
       "      <td>58.0</td>\n",
       "      <td>79.0</td>\n",
       "      <td>65.0</td>\n",
       "      <td>80.0</td>\n",
       "      <td>Video Games</td>\n",
       "      <td>0 - 30 minute</td>\n",
       "      <td>Morning</td>\n",
       "      <td>40000</td>\n",
       "      <td>No</td>\n",
       "      <td>50%</td>\n",
       "      <td>1.30 - 2 hour</td>\n",
       "      <td>30 - 60 minutes</td>\n",
       "      <td>Bad</td>\n",
       "      <td>Bad</td>\n",
       "      <td>No</td>\n",
       "    </tr>\n",
       "    <tr>\n",
       "      <th>1</th>\n",
       "      <td>No</td>\n",
       "      <td>Female</td>\n",
       "      <td>BCA</td>\n",
       "      <td>90.0</td>\n",
       "      <td>40.0</td>\n",
       "      <td>70.0</td>\n",
       "      <td>80.0</td>\n",
       "      <td>70.0</td>\n",
       "      <td>Cinema</td>\n",
       "      <td>30 - 60 minute</td>\n",
       "      <td>Morning</td>\n",
       "      <td>15000</td>\n",
       "      <td>Yes</td>\n",
       "      <td>75%</td>\n",
       "      <td>1 - 1.30 hour</td>\n",
       "      <td>0 - 30 minutes</td>\n",
       "      <td>Bad</td>\n",
       "      <td>Bad</td>\n",
       "      <td>No</td>\n",
       "    </tr>\n",
       "    <tr>\n",
       "      <th>2</th>\n",
       "      <td>Yes</td>\n",
       "      <td>Male</td>\n",
       "      <td>BCA</td>\n",
       "      <td>159.0</td>\n",
       "      <td>78.0</td>\n",
       "      <td>69.5</td>\n",
       "      <td>61.0</td>\n",
       "      <td>55.0</td>\n",
       "      <td>Cinema</td>\n",
       "      <td>1 - 2 Hour</td>\n",
       "      <td>Anytime</td>\n",
       "      <td>13000</td>\n",
       "      <td>Yes</td>\n",
       "      <td>50%</td>\n",
       "      <td>More than 2 hour</td>\n",
       "      <td>30 - 60 minutes</td>\n",
       "      <td>Awful</td>\n",
       "      <td>Bad</td>\n",
       "      <td>No</td>\n",
       "    </tr>\n",
       "    <tr>\n",
       "      <th>3</th>\n",
       "      <td>Yes</td>\n",
       "      <td>Female</td>\n",
       "      <td>BCA</td>\n",
       "      <td>147.0</td>\n",
       "      <td>20.0</td>\n",
       "      <td>70.0</td>\n",
       "      <td>59.0</td>\n",
       "      <td>58.0</td>\n",
       "      <td>Reading books</td>\n",
       "      <td>1 - 2 Hour</td>\n",
       "      <td>Anytime</td>\n",
       "      <td>1500000</td>\n",
       "      <td>No</td>\n",
       "      <td>50%</td>\n",
       "      <td>1.30 - 2 hour</td>\n",
       "      <td>0 - 30 minutes</td>\n",
       "      <td>Bad</td>\n",
       "      <td>good</td>\n",
       "      <td>No</td>\n",
       "    </tr>\n",
       "    <tr>\n",
       "      <th>4</th>\n",
       "      <td>No</td>\n",
       "      <td>Male</td>\n",
       "      <td>BCA</td>\n",
       "      <td>170.0</td>\n",
       "      <td>54.0</td>\n",
       "      <td>40.0</td>\n",
       "      <td>65.0</td>\n",
       "      <td>30.0</td>\n",
       "      <td>Video Games</td>\n",
       "      <td>30 - 60 minute</td>\n",
       "      <td>Morning</td>\n",
       "      <td>50000</td>\n",
       "      <td>Yes</td>\n",
       "      <td>25%</td>\n",
       "      <td>1.30 - 2 hour</td>\n",
       "      <td>30 - 60 minutes</td>\n",
       "      <td>Good</td>\n",
       "      <td>good</td>\n",
       "      <td>No</td>\n",
       "    </tr>\n",
       "  </tbody>\n",
       "</table>\n",
       "</div>"
      ],
      "text/plain": [
       "  CertificationCourses  Gender Department  Height(CM)  Weight(KG)  10Mark  \\\n",
       "0                   No    Male        BCA       100.0        58.0    79.0   \n",
       "1                   No  Female        BCA        90.0        40.0    70.0   \n",
       "2                  Yes    Male        BCA       159.0        78.0    69.5   \n",
       "3                  Yes  Female        BCA       147.0        20.0    70.0   \n",
       "4                   No    Male        BCA       170.0        54.0    40.0   \n",
       "\n",
       "   12Mark  CollegeMark        Hobbies DailyStudingTime PreferToStudyIn  \\\n",
       "0    65.0         80.0    Video Games    0 - 30 minute         Morning   \n",
       "1    80.0         70.0         Cinema   30 - 60 minute         Morning   \n",
       "2    61.0         55.0         Cinema       1 - 2 Hour         Anytime   \n",
       "3    59.0         58.0  Reading books       1 - 2 Hour         Anytime   \n",
       "4    65.0         30.0    Video Games   30 - 60 minute         Morning   \n",
       "\n",
       "   SalaryExpectation LikeDegree CareerBasedonDegree GamesSpendingTime  \\\n",
       "0              40000         No                 50%     1.30 - 2 hour   \n",
       "1              15000        Yes                 75%     1 - 1.30 hour   \n",
       "2              13000        Yes                 50%  More than 2 hour   \n",
       "3            1500000         No                 50%     1.30 - 2 hour   \n",
       "4              50000        Yes                 25%     1.30 - 2 hour   \n",
       "\n",
       "   TravellingTime  StressLevel  FinancialStatus PartTimeJob?  \n",
       "0  30 - 60 minutes          Bad             Bad           No  \n",
       "1   0 - 30 minutes          Bad             Bad           No  \n",
       "2  30 - 60 minutes        Awful             Bad           No  \n",
       "3   0 - 30 minutes          Bad            good           No  \n",
       "4  30 - 60 minutes         Good            good           No  "
      ]
     },
     "execution_count": 94,
     "metadata": {},
     "output_type": "execute_result"
    }
   ],
   "source": [
    "import pandas as pd\n",
    "df = pd.read_csv('Student_Behaviour.csv')\n",
    "df.head()"
   ]
  },
  {
   "cell_type": "markdown",
   "metadata": {},
   "source": [
    "**Задание 2.** Проверьте колонки на наличие пропусков, избавьтесь их. "
   ]
  },
  {
   "cell_type": "code",
   "execution_count": 95,
   "metadata": {},
   "outputs": [
    {
     "data": {
      "text/plain": [
       "CertificationCourses    0\n",
       "Gender                  0\n",
       "Department              0\n",
       "Height(CM)              0\n",
       "Weight(KG)              0\n",
       "10Mark                  0\n",
       "12Mark                  0\n",
       "CollegeMark             0\n",
       "Hobbies                 0\n",
       "DailyStudingTime        0\n",
       "PreferToStudyIn         0\n",
       "SalaryExpectation       0\n",
       "LikeDegree              0\n",
       "CareerBasedonDegree     0\n",
       "GamesSpendingTime       0\n",
       "TravellingTime          0\n",
       "StressLevel             0\n",
       "FinancialStatus         0\n",
       "PartTimeJob?            0\n",
       "dtype: int64"
      ]
     },
     "execution_count": 95,
     "metadata": {},
     "output_type": "execute_result"
    }
   ],
   "source": [
    "df.isnull().sum()"
   ]
  },
  {
   "cell_type": "markdown",
   "metadata": {},
   "source": [
    "Получается, пропусков нет"
   ]
  },
  {
   "cell_type": "markdown",
   "metadata": {},
   "source": [
    "**Задание 3.**  Колонку `CareerBasedonDegree` приведите к числовому виду."
   ]
  },
  {
   "cell_type": "code",
   "execution_count": null,
   "metadata": {},
   "outputs": [],
   "source": []
  },
  {
   "cell_type": "code",
   "execution_count": 96,
   "metadata": {},
   "outputs": [
    {
     "name": "stdout",
     "output_type": "stream",
     "text": [
      "<class 'pandas.core.frame.DataFrame'>\n",
      "RangeIndex: 235 entries, 0 to 234\n",
      "Data columns (total 19 columns):\n",
      " #   Column                Non-Null Count  Dtype  \n",
      "---  ------                --------------  -----  \n",
      " 0   CertificationCourses  235 non-null    object \n",
      " 1   Gender                235 non-null    object \n",
      " 2   Department            235 non-null    object \n",
      " 3   Height(CM)            235 non-null    float64\n",
      " 4   Weight(KG)            235 non-null    float64\n",
      " 5   10Mark                235 non-null    float64\n",
      " 6   12Mark                235 non-null    float64\n",
      " 7   CollegeMark           235 non-null    float64\n",
      " 8   Hobbies               235 non-null    object \n",
      " 9   DailyStudingTime      235 non-null    object \n",
      " 10  PreferToStudyIn       235 non-null    object \n",
      " 11  SalaryExpectation     235 non-null    int64  \n",
      " 12  LikeDegree            235 non-null    object \n",
      " 13  CareerBasedonDegree   235 non-null    object \n",
      " 14  GamesSpendingTime     235 non-null    object \n",
      " 15  TravellingTime        235 non-null    object \n",
      " 16  StressLevel           235 non-null    object \n",
      " 17  FinancialStatus       235 non-null    object \n",
      " 18  PartTimeJob?          235 non-null    object \n",
      "dtypes: float64(5), int64(1), object(13)\n",
      "memory usage: 35.0+ KB\n"
     ]
    }
   ],
   "source": [
    "df.info()"
   ]
  },
  {
   "cell_type": "code",
   "execution_count": 97,
   "metadata": {},
   "outputs": [
    {
     "data": {
      "text/plain": [
       "<class 'str'>    235\n",
       "Name: CareerBasedonDegree, dtype: int64"
      ]
     },
     "execution_count": 97,
     "metadata": {},
     "output_type": "execute_result"
    }
   ],
   "source": [
    "df['CareerBasedonDegree'].apply(type).value_counts() "
   ]
  },
  {
   "cell_type": "markdown",
   "metadata": {},
   "source": [
    "Я уже один раз переводила колонку к числовому типу, воспользуюсь похожим кодом, написав функцию."
   ]
  },
  {
   "cell_type": "code",
   "execution_count": 98,
   "metadata": {},
   "outputs": [],
   "source": [
    "def fixing(x):\n",
    "    if isinstance(x, str):\n",
    "        x = x.replace('%', '')\n",
    "        x = pd.to_numeric(x)\n",
    "        x = x/100\n",
    "    return(x)"
   ]
  },
  {
   "cell_type": "code",
   "execution_count": 99,
   "metadata": {},
   "outputs": [],
   "source": [
    "df['CareerBasedonDegree'] = df['CareerBasedonDegree'].apply(fixing)"
   ]
  },
  {
   "cell_type": "code",
   "execution_count": 100,
   "metadata": {},
   "outputs": [
    {
     "data": {
      "text/html": [
       "<div>\n",
       "<style scoped>\n",
       "    .dataframe tbody tr th:only-of-type {\n",
       "        vertical-align: middle;\n",
       "    }\n",
       "\n",
       "    .dataframe tbody tr th {\n",
       "        vertical-align: top;\n",
       "    }\n",
       "\n",
       "    .dataframe thead th {\n",
       "        text-align: right;\n",
       "    }\n",
       "</style>\n",
       "<table border=\"1\" class=\"dataframe\">\n",
       "  <thead>\n",
       "    <tr style=\"text-align: right;\">\n",
       "      <th></th>\n",
       "      <th>CertificationCourses</th>\n",
       "      <th>Gender</th>\n",
       "      <th>Department</th>\n",
       "      <th>Height(CM)</th>\n",
       "      <th>Weight(KG)</th>\n",
       "      <th>10Mark</th>\n",
       "      <th>12Mark</th>\n",
       "      <th>CollegeMark</th>\n",
       "      <th>Hobbies</th>\n",
       "      <th>DailyStudingTime</th>\n",
       "      <th>PreferToStudyIn</th>\n",
       "      <th>SalaryExpectation</th>\n",
       "      <th>LikeDegree</th>\n",
       "      <th>CareerBasedonDegree</th>\n",
       "      <th>GamesSpendingTime</th>\n",
       "      <th>TravellingTime</th>\n",
       "      <th>StressLevel</th>\n",
       "      <th>FinancialStatus</th>\n",
       "      <th>PartTimeJob?</th>\n",
       "    </tr>\n",
       "  </thead>\n",
       "  <tbody>\n",
       "    <tr>\n",
       "      <th>0</th>\n",
       "      <td>No</td>\n",
       "      <td>Male</td>\n",
       "      <td>BCA</td>\n",
       "      <td>100.0</td>\n",
       "      <td>58.0</td>\n",
       "      <td>79.0</td>\n",
       "      <td>65.0</td>\n",
       "      <td>80.0</td>\n",
       "      <td>Video Games</td>\n",
       "      <td>0 - 30 minute</td>\n",
       "      <td>Morning</td>\n",
       "      <td>40000</td>\n",
       "      <td>No</td>\n",
       "      <td>0.50</td>\n",
       "      <td>1.30 - 2 hour</td>\n",
       "      <td>30 - 60 minutes</td>\n",
       "      <td>Bad</td>\n",
       "      <td>Bad</td>\n",
       "      <td>No</td>\n",
       "    </tr>\n",
       "    <tr>\n",
       "      <th>1</th>\n",
       "      <td>No</td>\n",
       "      <td>Female</td>\n",
       "      <td>BCA</td>\n",
       "      <td>90.0</td>\n",
       "      <td>40.0</td>\n",
       "      <td>70.0</td>\n",
       "      <td>80.0</td>\n",
       "      <td>70.0</td>\n",
       "      <td>Cinema</td>\n",
       "      <td>30 - 60 minute</td>\n",
       "      <td>Morning</td>\n",
       "      <td>15000</td>\n",
       "      <td>Yes</td>\n",
       "      <td>0.75</td>\n",
       "      <td>1 - 1.30 hour</td>\n",
       "      <td>0 - 30 minutes</td>\n",
       "      <td>Bad</td>\n",
       "      <td>Bad</td>\n",
       "      <td>No</td>\n",
       "    </tr>\n",
       "    <tr>\n",
       "      <th>2</th>\n",
       "      <td>Yes</td>\n",
       "      <td>Male</td>\n",
       "      <td>BCA</td>\n",
       "      <td>159.0</td>\n",
       "      <td>78.0</td>\n",
       "      <td>69.5</td>\n",
       "      <td>61.0</td>\n",
       "      <td>55.0</td>\n",
       "      <td>Cinema</td>\n",
       "      <td>1 - 2 Hour</td>\n",
       "      <td>Anytime</td>\n",
       "      <td>13000</td>\n",
       "      <td>Yes</td>\n",
       "      <td>0.50</td>\n",
       "      <td>More than 2 hour</td>\n",
       "      <td>30 - 60 minutes</td>\n",
       "      <td>Awful</td>\n",
       "      <td>Bad</td>\n",
       "      <td>No</td>\n",
       "    </tr>\n",
       "    <tr>\n",
       "      <th>3</th>\n",
       "      <td>Yes</td>\n",
       "      <td>Female</td>\n",
       "      <td>BCA</td>\n",
       "      <td>147.0</td>\n",
       "      <td>20.0</td>\n",
       "      <td>70.0</td>\n",
       "      <td>59.0</td>\n",
       "      <td>58.0</td>\n",
       "      <td>Reading books</td>\n",
       "      <td>1 - 2 Hour</td>\n",
       "      <td>Anytime</td>\n",
       "      <td>1500000</td>\n",
       "      <td>No</td>\n",
       "      <td>0.50</td>\n",
       "      <td>1.30 - 2 hour</td>\n",
       "      <td>0 - 30 minutes</td>\n",
       "      <td>Bad</td>\n",
       "      <td>good</td>\n",
       "      <td>No</td>\n",
       "    </tr>\n",
       "    <tr>\n",
       "      <th>4</th>\n",
       "      <td>No</td>\n",
       "      <td>Male</td>\n",
       "      <td>BCA</td>\n",
       "      <td>170.0</td>\n",
       "      <td>54.0</td>\n",
       "      <td>40.0</td>\n",
       "      <td>65.0</td>\n",
       "      <td>30.0</td>\n",
       "      <td>Video Games</td>\n",
       "      <td>30 - 60 minute</td>\n",
       "      <td>Morning</td>\n",
       "      <td>50000</td>\n",
       "      <td>Yes</td>\n",
       "      <td>0.25</td>\n",
       "      <td>1.30 - 2 hour</td>\n",
       "      <td>30 - 60 minutes</td>\n",
       "      <td>Good</td>\n",
       "      <td>good</td>\n",
       "      <td>No</td>\n",
       "    </tr>\n",
       "    <tr>\n",
       "      <th>...</th>\n",
       "      <td>...</td>\n",
       "      <td>...</td>\n",
       "      <td>...</td>\n",
       "      <td>...</td>\n",
       "      <td>...</td>\n",
       "      <td>...</td>\n",
       "      <td>...</td>\n",
       "      <td>...</td>\n",
       "      <td>...</td>\n",
       "      <td>...</td>\n",
       "      <td>...</td>\n",
       "      <td>...</td>\n",
       "      <td>...</td>\n",
       "      <td>...</td>\n",
       "      <td>...</td>\n",
       "      <td>...</td>\n",
       "      <td>...</td>\n",
       "      <td>...</td>\n",
       "      <td>...</td>\n",
       "    </tr>\n",
       "    <tr>\n",
       "      <th>230</th>\n",
       "      <td>Yes</td>\n",
       "      <td>Male</td>\n",
       "      <td>B.com ISM</td>\n",
       "      <td>170.0</td>\n",
       "      <td>76.0</td>\n",
       "      <td>72.0</td>\n",
       "      <td>67.0</td>\n",
       "      <td>65.0</td>\n",
       "      <td>Video Games</td>\n",
       "      <td>30 - 60 minute</td>\n",
       "      <td>Morning</td>\n",
       "      <td>7000</td>\n",
       "      <td>Yes</td>\n",
       "      <td>0.50</td>\n",
       "      <td>More than 2 hour</td>\n",
       "      <td>30 - 60 minutes</td>\n",
       "      <td>Bad</td>\n",
       "      <td>Bad</td>\n",
       "      <td>No</td>\n",
       "    </tr>\n",
       "    <tr>\n",
       "      <th>231</th>\n",
       "      <td>Yes</td>\n",
       "      <td>Male</td>\n",
       "      <td>B.com ISM</td>\n",
       "      <td>172.0</td>\n",
       "      <td>52.0</td>\n",
       "      <td>72.0</td>\n",
       "      <td>70.0</td>\n",
       "      <td>76.0</td>\n",
       "      <td>Cinema</td>\n",
       "      <td>2 - 3 hour</td>\n",
       "      <td>Anytime</td>\n",
       "      <td>25000</td>\n",
       "      <td>Yes</td>\n",
       "      <td>0.75</td>\n",
       "      <td>30 - 60 Minute</td>\n",
       "      <td>30 - 60 minutes</td>\n",
       "      <td>Good</td>\n",
       "      <td>good</td>\n",
       "      <td>No</td>\n",
       "    </tr>\n",
       "    <tr>\n",
       "      <th>232</th>\n",
       "      <td>Yes</td>\n",
       "      <td>Female</td>\n",
       "      <td>BCA</td>\n",
       "      <td>139.0</td>\n",
       "      <td>33.0</td>\n",
       "      <td>90.0</td>\n",
       "      <td>75.0</td>\n",
       "      <td>70.0</td>\n",
       "      <td>Cinema</td>\n",
       "      <td>30 - 60 minute</td>\n",
       "      <td>Night</td>\n",
       "      <td>20000</td>\n",
       "      <td>Yes</td>\n",
       "      <td>0.50</td>\n",
       "      <td>30 - 60 Minute</td>\n",
       "      <td>2.30 - 3 hour</td>\n",
       "      <td>Bad</td>\n",
       "      <td>good</td>\n",
       "      <td>No</td>\n",
       "    </tr>\n",
       "    <tr>\n",
       "      <th>233</th>\n",
       "      <td>Yes</td>\n",
       "      <td>Female</td>\n",
       "      <td>Commerce</td>\n",
       "      <td>153.0</td>\n",
       "      <td>58.0</td>\n",
       "      <td>85.0</td>\n",
       "      <td>74.0</td>\n",
       "      <td>75.0</td>\n",
       "      <td>Cinema</td>\n",
       "      <td>0 - 30 minute</td>\n",
       "      <td>Anytime</td>\n",
       "      <td>20000</td>\n",
       "      <td>Yes</td>\n",
       "      <td>0.75</td>\n",
       "      <td>More than 2 hour</td>\n",
       "      <td>2.30 - 3 hour</td>\n",
       "      <td>Awful</td>\n",
       "      <td>good</td>\n",
       "      <td>No</td>\n",
       "    </tr>\n",
       "    <tr>\n",
       "      <th>234</th>\n",
       "      <td>No</td>\n",
       "      <td>Female</td>\n",
       "      <td>B.com ISM</td>\n",
       "      <td>155.0</td>\n",
       "      <td>39.0</td>\n",
       "      <td>45.0</td>\n",
       "      <td>45.0</td>\n",
       "      <td>50.0</td>\n",
       "      <td>Sports</td>\n",
       "      <td>3 - 4 hour</td>\n",
       "      <td>Night</td>\n",
       "      <td>10</td>\n",
       "      <td>No</td>\n",
       "      <td>0.75</td>\n",
       "      <td>30 - 60 Minute</td>\n",
       "      <td>2.30 - 3 hour</td>\n",
       "      <td>fabulous</td>\n",
       "      <td>good</td>\n",
       "      <td>No</td>\n",
       "    </tr>\n",
       "  </tbody>\n",
       "</table>\n",
       "<p>235 rows × 19 columns</p>\n",
       "</div>"
      ],
      "text/plain": [
       "    CertificationCourses  Gender Department  Height(CM)  Weight(KG)  10Mark  \\\n",
       "0                     No    Male        BCA       100.0        58.0    79.0   \n",
       "1                     No  Female        BCA        90.0        40.0    70.0   \n",
       "2                    Yes    Male        BCA       159.0        78.0    69.5   \n",
       "3                    Yes  Female        BCA       147.0        20.0    70.0   \n",
       "4                     No    Male        BCA       170.0        54.0    40.0   \n",
       "..                   ...     ...        ...         ...         ...     ...   \n",
       "230                  Yes    Male  B.com ISM       170.0        76.0    72.0   \n",
       "231                  Yes    Male  B.com ISM       172.0        52.0    72.0   \n",
       "232                  Yes  Female        BCA       139.0        33.0    90.0   \n",
       "233                  Yes  Female   Commerce       153.0        58.0    85.0   \n",
       "234                   No  Female  B.com ISM       155.0        39.0    45.0   \n",
       "\n",
       "     12Mark  CollegeMark        Hobbies DailyStudingTime PreferToStudyIn  \\\n",
       "0      65.0         80.0    Video Games    0 - 30 minute         Morning   \n",
       "1      80.0         70.0         Cinema   30 - 60 minute         Morning   \n",
       "2      61.0         55.0         Cinema       1 - 2 Hour         Anytime   \n",
       "3      59.0         58.0  Reading books       1 - 2 Hour         Anytime   \n",
       "4      65.0         30.0    Video Games   30 - 60 minute         Morning   \n",
       "..      ...          ...            ...              ...             ...   \n",
       "230    67.0         65.0    Video Games   30 - 60 minute         Morning   \n",
       "231    70.0         76.0         Cinema       2 - 3 hour         Anytime   \n",
       "232    75.0         70.0         Cinema   30 - 60 minute           Night   \n",
       "233    74.0         75.0         Cinema    0 - 30 minute         Anytime   \n",
       "234    45.0         50.0         Sports       3 - 4 hour           Night   \n",
       "\n",
       "     SalaryExpectation LikeDegree  CareerBasedonDegree GamesSpendingTime  \\\n",
       "0                40000         No                 0.50     1.30 - 2 hour   \n",
       "1                15000        Yes                 0.75     1 - 1.30 hour   \n",
       "2                13000        Yes                 0.50  More than 2 hour   \n",
       "3              1500000         No                 0.50     1.30 - 2 hour   \n",
       "4                50000        Yes                 0.25     1.30 - 2 hour   \n",
       "..                 ...        ...                  ...               ...   \n",
       "230               7000        Yes                 0.50  More than 2 hour   \n",
       "231              25000        Yes                 0.75    30 - 60 Minute   \n",
       "232              20000        Yes                 0.50    30 - 60 Minute   \n",
       "233              20000        Yes                 0.75  More than 2 hour   \n",
       "234                 10         No                 0.75    30 - 60 Minute   \n",
       "\n",
       "     TravellingTime  StressLevel  FinancialStatus PartTimeJob?  \n",
       "0    30 - 60 minutes          Bad             Bad           No  \n",
       "1     0 - 30 minutes          Bad             Bad           No  \n",
       "2    30 - 60 minutes        Awful             Bad           No  \n",
       "3     0 - 30 minutes          Bad            good           No  \n",
       "4    30 - 60 minutes         Good            good           No  \n",
       "..               ...          ...             ...          ...  \n",
       "230  30 - 60 minutes          Bad             Bad           No  \n",
       "231  30 - 60 minutes         Good            good           No  \n",
       "232    2.30 - 3 hour          Bad            good           No  \n",
       "233    2.30 - 3 hour        Awful            good           No  \n",
       "234    2.30 - 3 hour     fabulous            good           No  \n",
       "\n",
       "[235 rows x 19 columns]"
      ]
     },
     "execution_count": 100,
     "metadata": {},
     "output_type": "execute_result"
    }
   ],
   "source": [
    "df"
   ]
  },
  {
   "cell_type": "markdown",
   "metadata": {},
   "source": [
    "Я решила перевести колонку CareerBasedonDegree в тип float, тк изначальные данные были в процентах, а проценты без значка \"%\" записываются в виде десятичных дробей"
   ]
  },
  {
   "cell_type": "markdown",
   "metadata": {},
   "source": [
    "**Задание 4.**  В датасете есть 3 поля, с суффиксом `Time`, данные в них строковые, которые означают временной интервал. Извлеките минимальное время(левую границу интервала) для каждой из этих переменных и переведите в минуты, запишите в новые столбцы, удалите старые."
   ]
  },
  {
   "cell_type": "code",
   "execution_count": 101,
   "metadata": {},
   "outputs": [
    {
     "data": {
      "text/plain": [
       "Index(['CertificationCourses', 'Gender', 'Department', 'Height(CM)',\n",
       "       'Weight(KG)', '10Mark', '12Mark', 'CollegeMark', 'Hobbies',\n",
       "       'DailyStudingTime', 'PreferToStudyIn', 'SalaryExpectation',\n",
       "       'LikeDegree', 'CareerBasedonDegree', 'GamesSpendingTime',\n",
       "       'TravellingTime ', 'StressLevel ', 'FinancialStatus', 'PartTimeJob?'],\n",
       "      dtype='object')"
      ]
     },
     "execution_count": 101,
     "metadata": {},
     "output_type": "execute_result"
    }
   ],
   "source": [
    "df.columns"
   ]
  },
  {
   "cell_type": "markdown",
   "metadata": {},
   "source": [
    "сначала я хотела вывести все названия колонок, чтобы было удобнее писать код просто скопировав названия нужных колонок, но случайно заметила, что в некоторых из них после названия стоит пробел (например, в 'TravellingTime '). Подозреваю, что такое неожиданное \"открытие\" сэкономило мне время, иначе я бы сидела и думала \"да почему код не работает\". Ну, работаем.\n",
    "\n",
    "с Time встречаются колонки 'DailyStudingTime', 'GamesSpendingTime', 'TravellingTime '. Какого-то универсального кода, который выводил только левую границу я не придумала, поэтому буду действовать по тупому"
   ]
  },
  {
   "cell_type": "code",
   "execution_count": 102,
   "metadata": {},
   "outputs": [
    {
     "data": {
      "text/plain": [
       "array(['0 - 30 minute', '30 - 60 minute', '1 - 2 Hour', '2 - 3 hour',\n",
       "       '3 - 4 hour', 'More Than 4 hour'], dtype=object)"
      ]
     },
     "execution_count": 102,
     "metadata": {},
     "output_type": "execute_result"
    }
   ],
   "source": [
    "df['DailyStudingTime'].unique()\n"
   ]
  },
  {
   "cell_type": "code",
   "execution_count": 103,
   "metadata": {},
   "outputs": [],
   "source": [
    "df['minDailyStudingTime'] = df['DailyStudingTime'].replace('0 - 30 minute', value=0)\n",
    "df['minDailyStudingTime'] = df['minDailyStudingTime'].replace('30 - 60 minute', value=30)\n",
    "df['minDailyStudingTime'] = df['minDailyStudingTime'].replace('1 - 2 Hour', value=1*60)\n",
    "df['minDailyStudingTime'] = df['minDailyStudingTime'].replace( '2 - 3 hour', value = 2*60)\n",
    "df['minDailyStudingTime'] = df['minDailyStudingTime'].replace('3 - 4 hour', value = 3*60)\n",
    "df['minDailyStudingTime'] = df['minDailyStudingTime'].replace('More Than 4 hour', value = 4*60)"
   ]
  },
  {
   "cell_type": "code",
   "execution_count": 104,
   "metadata": {},
   "outputs": [
    {
     "data": {
      "text/plain": [
       "array([  0,  30,  60, 120, 180, 240], dtype=int64)"
      ]
     },
     "execution_count": 104,
     "metadata": {},
     "output_type": "execute_result"
    }
   ],
   "source": [
    "df['minDailyStudingTime'].unique()"
   ]
  },
  {
   "cell_type": "code",
   "execution_count": 105,
   "metadata": {},
   "outputs": [
    {
     "data": {
      "text/plain": [
       "array(['1.30 - 2 hour', '1 - 1.30 hour', 'More than 2 hour',\n",
       "       '30 - 60 Minute', '1 - 30 Minute', '0 Minute'], dtype=object)"
      ]
     },
     "execution_count": 105,
     "metadata": {},
     "output_type": "execute_result"
    }
   ],
   "source": [
    "df['GamesSpendingTime'].unique()"
   ]
  },
  {
   "cell_type": "code",
   "execution_count": 106,
   "metadata": {},
   "outputs": [],
   "source": [
    "df['minGamesSpendingTime'] = df['GamesSpendingTime'].replace('1.30 - 2 hour', value = 60+30)\n",
    "df['minGamesSpendingTime'] = df['minGamesSpendingTime'].replace('1 - 1.30 hour', value = 1*60)\n",
    "df['minGamesSpendingTime'] = df['minGamesSpendingTime'].replace('More than 2 hour', value = 2*60)\n",
    "df['minGamesSpendingTime'] = df['minGamesSpendingTime'].replace( '30 - 60 Minute', value = 30)\n",
    "df['minGamesSpendingTime'] = df['minGamesSpendingTime'].replace('1 - 30 Minute', value = 1)\n",
    "df['minGamesSpendingTime'] = df['minGamesSpendingTime'].replace('0 Minute', value = 0)"
   ]
  },
  {
   "cell_type": "code",
   "execution_count": 107,
   "metadata": {},
   "outputs": [
    {
     "data": {
      "text/plain": [
       "array([ 90,  60, 120,  30,   1,   0], dtype=int64)"
      ]
     },
     "execution_count": 107,
     "metadata": {},
     "output_type": "execute_result"
    }
   ],
   "source": [
    "df['minGamesSpendingTime'].unique()"
   ]
  },
  {
   "cell_type": "code",
   "execution_count": 108,
   "metadata": {},
   "outputs": [
    {
     "data": {
      "text/plain": [
       "array(['30 - 60 minutes', '0 - 30 minutes', '1 - 1.30 hour',\n",
       "       '2 - 2.30 hour', '1.30 - 2 hour', 'more than 3 hour',\n",
       "       '2.30 - 3 hour'], dtype=object)"
      ]
     },
     "execution_count": 108,
     "metadata": {},
     "output_type": "execute_result"
    }
   ],
   "source": [
    "df['TravellingTime '].unique()"
   ]
  },
  {
   "cell_type": "code",
   "execution_count": 109,
   "metadata": {},
   "outputs": [],
   "source": [
    "df['minTravellingTime'] = df['TravellingTime '].replace('30 - 60 minutes', value = 30)\n",
    "df['minTravellingTime'] = df['minTravellingTime'].replace('0 - 30 minutes', value = 0)\n",
    "df['minTravellingTime'] = df['minTravellingTime'].replace('1 - 1.30 hour', value = 60)\n",
    "df['minTravellingTime'] = df['minTravellingTime'].replace('2 - 2.30 hour', value = 2*60)\n",
    "df['minTravellingTime'] = df['minTravellingTime'].replace('1.30 - 2 hour', value = 60+30)\n",
    "df['minTravellingTime'] = df['minTravellingTime'].replace('more than 3 hour', value = 3*60)\n",
    "df['minTravellingTime'] = df['minTravellingTime'].replace('2.30 - 3 hour', value = 2*60+30)"
   ]
  },
  {
   "cell_type": "code",
   "execution_count": 110,
   "metadata": {},
   "outputs": [
    {
     "data": {
      "text/plain": [
       "array([ 30,   0,  60, 120,  90, 180, 150], dtype=int64)"
      ]
     },
     "execution_count": 110,
     "metadata": {},
     "output_type": "execute_result"
    }
   ],
   "source": [
    "df['minTravellingTime'].unique()"
   ]
  },
  {
   "cell_type": "code",
   "execution_count": 111,
   "metadata": {},
   "outputs": [],
   "source": [
    "df.drop('DailyStudingTime', inplace = True, axis = 1)\n",
    "df.drop('GamesSpendingTime', inplace = True, axis = 1)\n",
    "df.drop('TravellingTime ', inplace = True, axis = 1)"
   ]
  },
  {
   "cell_type": "code",
   "execution_count": 112,
   "metadata": {
    "scrolled": true
   },
   "outputs": [
    {
     "data": {
      "text/html": [
       "<div>\n",
       "<style scoped>\n",
       "    .dataframe tbody tr th:only-of-type {\n",
       "        vertical-align: middle;\n",
       "    }\n",
       "\n",
       "    .dataframe tbody tr th {\n",
       "        vertical-align: top;\n",
       "    }\n",
       "\n",
       "    .dataframe thead th {\n",
       "        text-align: right;\n",
       "    }\n",
       "</style>\n",
       "<table border=\"1\" class=\"dataframe\">\n",
       "  <thead>\n",
       "    <tr style=\"text-align: right;\">\n",
       "      <th></th>\n",
       "      <th>CertificationCourses</th>\n",
       "      <th>Gender</th>\n",
       "      <th>Department</th>\n",
       "      <th>Height(CM)</th>\n",
       "      <th>Weight(KG)</th>\n",
       "      <th>10Mark</th>\n",
       "      <th>12Mark</th>\n",
       "      <th>CollegeMark</th>\n",
       "      <th>Hobbies</th>\n",
       "      <th>PreferToStudyIn</th>\n",
       "      <th>SalaryExpectation</th>\n",
       "      <th>LikeDegree</th>\n",
       "      <th>CareerBasedonDegree</th>\n",
       "      <th>StressLevel</th>\n",
       "      <th>FinancialStatus</th>\n",
       "      <th>PartTimeJob?</th>\n",
       "      <th>minDailyStudingTime</th>\n",
       "      <th>minGamesSpendingTime</th>\n",
       "      <th>minTravellingTime</th>\n",
       "    </tr>\n",
       "  </thead>\n",
       "  <tbody>\n",
       "    <tr>\n",
       "      <th>0</th>\n",
       "      <td>No</td>\n",
       "      <td>Male</td>\n",
       "      <td>BCA</td>\n",
       "      <td>100.0</td>\n",
       "      <td>58.0</td>\n",
       "      <td>79.0</td>\n",
       "      <td>65.0</td>\n",
       "      <td>80.0</td>\n",
       "      <td>Video Games</td>\n",
       "      <td>Morning</td>\n",
       "      <td>40000</td>\n",
       "      <td>No</td>\n",
       "      <td>0.50</td>\n",
       "      <td>Bad</td>\n",
       "      <td>Bad</td>\n",
       "      <td>No</td>\n",
       "      <td>0</td>\n",
       "      <td>90</td>\n",
       "      <td>30</td>\n",
       "    </tr>\n",
       "    <tr>\n",
       "      <th>1</th>\n",
       "      <td>No</td>\n",
       "      <td>Female</td>\n",
       "      <td>BCA</td>\n",
       "      <td>90.0</td>\n",
       "      <td>40.0</td>\n",
       "      <td>70.0</td>\n",
       "      <td>80.0</td>\n",
       "      <td>70.0</td>\n",
       "      <td>Cinema</td>\n",
       "      <td>Morning</td>\n",
       "      <td>15000</td>\n",
       "      <td>Yes</td>\n",
       "      <td>0.75</td>\n",
       "      <td>Bad</td>\n",
       "      <td>Bad</td>\n",
       "      <td>No</td>\n",
       "      <td>30</td>\n",
       "      <td>60</td>\n",
       "      <td>0</td>\n",
       "    </tr>\n",
       "    <tr>\n",
       "      <th>2</th>\n",
       "      <td>Yes</td>\n",
       "      <td>Male</td>\n",
       "      <td>BCA</td>\n",
       "      <td>159.0</td>\n",
       "      <td>78.0</td>\n",
       "      <td>69.5</td>\n",
       "      <td>61.0</td>\n",
       "      <td>55.0</td>\n",
       "      <td>Cinema</td>\n",
       "      <td>Anytime</td>\n",
       "      <td>13000</td>\n",
       "      <td>Yes</td>\n",
       "      <td>0.50</td>\n",
       "      <td>Awful</td>\n",
       "      <td>Bad</td>\n",
       "      <td>No</td>\n",
       "      <td>60</td>\n",
       "      <td>120</td>\n",
       "      <td>30</td>\n",
       "    </tr>\n",
       "    <tr>\n",
       "      <th>3</th>\n",
       "      <td>Yes</td>\n",
       "      <td>Female</td>\n",
       "      <td>BCA</td>\n",
       "      <td>147.0</td>\n",
       "      <td>20.0</td>\n",
       "      <td>70.0</td>\n",
       "      <td>59.0</td>\n",
       "      <td>58.0</td>\n",
       "      <td>Reading books</td>\n",
       "      <td>Anytime</td>\n",
       "      <td>1500000</td>\n",
       "      <td>No</td>\n",
       "      <td>0.50</td>\n",
       "      <td>Bad</td>\n",
       "      <td>good</td>\n",
       "      <td>No</td>\n",
       "      <td>60</td>\n",
       "      <td>90</td>\n",
       "      <td>0</td>\n",
       "    </tr>\n",
       "    <tr>\n",
       "      <th>4</th>\n",
       "      <td>No</td>\n",
       "      <td>Male</td>\n",
       "      <td>BCA</td>\n",
       "      <td>170.0</td>\n",
       "      <td>54.0</td>\n",
       "      <td>40.0</td>\n",
       "      <td>65.0</td>\n",
       "      <td>30.0</td>\n",
       "      <td>Video Games</td>\n",
       "      <td>Morning</td>\n",
       "      <td>50000</td>\n",
       "      <td>Yes</td>\n",
       "      <td>0.25</td>\n",
       "      <td>Good</td>\n",
       "      <td>good</td>\n",
       "      <td>No</td>\n",
       "      <td>30</td>\n",
       "      <td>90</td>\n",
       "      <td>30</td>\n",
       "    </tr>\n",
       "  </tbody>\n",
       "</table>\n",
       "</div>"
      ],
      "text/plain": [
       "  CertificationCourses  Gender Department  Height(CM)  Weight(KG)  10Mark  \\\n",
       "0                   No    Male        BCA       100.0        58.0    79.0   \n",
       "1                   No  Female        BCA        90.0        40.0    70.0   \n",
       "2                  Yes    Male        BCA       159.0        78.0    69.5   \n",
       "3                  Yes  Female        BCA       147.0        20.0    70.0   \n",
       "4                   No    Male        BCA       170.0        54.0    40.0   \n",
       "\n",
       "   12Mark  CollegeMark        Hobbies PreferToStudyIn  SalaryExpectation  \\\n",
       "0    65.0         80.0    Video Games         Morning              40000   \n",
       "1    80.0         70.0         Cinema         Morning              15000   \n",
       "2    61.0         55.0         Cinema         Anytime              13000   \n",
       "3    59.0         58.0  Reading books         Anytime            1500000   \n",
       "4    65.0         30.0    Video Games         Morning              50000   \n",
       "\n",
       "  LikeDegree  CareerBasedonDegree StressLevel  FinancialStatus PartTimeJob?  \\\n",
       "0         No                 0.50          Bad             Bad           No   \n",
       "1        Yes                 0.75          Bad             Bad           No   \n",
       "2        Yes                 0.50        Awful             Bad           No   \n",
       "3         No                 0.50          Bad            good           No   \n",
       "4        Yes                 0.25         Good            good           No   \n",
       "\n",
       "   minDailyStudingTime  minGamesSpendingTime  minTravellingTime  \n",
       "0                    0                    90                 30  \n",
       "1                   30                    60                  0  \n",
       "2                   60                   120                 30  \n",
       "3                   60                    90                  0  \n",
       "4                   30                    90                 30  "
      ]
     },
     "execution_count": 112,
     "metadata": {},
     "output_type": "execute_result"
    }
   ],
   "source": [
    "df.head()"
   ]
  },
  {
   "cell_type": "markdown",
   "metadata": {},
   "source": [
    "Итак, три новых колонки созданы, минимальные значения переведены в минуты, старые колонки удалены. Джаст ин кейс я не стала переводить новые колонки в тип str, оставила в int."
   ]
  },
  {
   "cell_type": "markdown",
   "metadata": {},
   "source": [
    "**Задание 5.**  Выбрете колонки (непрерывные переменные), которые будете использовать для предсказания целевой переменной с помощью knn"
   ]
  },
  {
   "cell_type": "code",
   "execution_count": 113,
   "metadata": {},
   "outputs": [
    {
     "name": "stdout",
     "output_type": "stream",
     "text": [
      "<class 'pandas.core.frame.DataFrame'>\n",
      "RangeIndex: 235 entries, 0 to 234\n",
      "Data columns (total 19 columns):\n",
      " #   Column                Non-Null Count  Dtype  \n",
      "---  ------                --------------  -----  \n",
      " 0   CertificationCourses  235 non-null    object \n",
      " 1   Gender                235 non-null    object \n",
      " 2   Department            235 non-null    object \n",
      " 3   Height(CM)            235 non-null    float64\n",
      " 4   Weight(KG)            235 non-null    float64\n",
      " 5   10Mark                235 non-null    float64\n",
      " 6   12Mark                235 non-null    float64\n",
      " 7   CollegeMark           235 non-null    float64\n",
      " 8   Hobbies               235 non-null    object \n",
      " 9   PreferToStudyIn       235 non-null    object \n",
      " 10  SalaryExpectation     235 non-null    int64  \n",
      " 11  LikeDegree            235 non-null    object \n",
      " 12  CareerBasedonDegree   235 non-null    float64\n",
      " 13  StressLevel           235 non-null    object \n",
      " 14  FinancialStatus       235 non-null    object \n",
      " 15  PartTimeJob?          235 non-null    object \n",
      " 16  minDailyStudingTime   235 non-null    int64  \n",
      " 17  minGamesSpendingTime  235 non-null    int64  \n",
      " 18  minTravellingTime     235 non-null    int64  \n",
      "dtypes: float64(6), int64(4), object(9)\n",
      "memory usage: 35.0+ KB\n"
     ]
    }
   ],
   "source": [
    "df.info()"
   ]
  },
  {
   "cell_type": "code",
   "execution_count": 114,
   "metadata": {},
   "outputs": [
    {
     "data": {
      "text/plain": [
       "Index(['CertificationCourses', 'Gender', 'Department', 'Height(CM)',\n",
       "       'Weight(KG)', '10Mark', '12Mark', 'CollegeMark', 'Hobbies',\n",
       "       'PreferToStudyIn', 'SalaryExpectation', 'LikeDegree',\n",
       "       'CareerBasedonDegree', 'StressLevel ', 'FinancialStatus',\n",
       "       'PartTimeJob?', 'minDailyStudingTime', 'minGamesSpendingTime',\n",
       "       'minTravellingTime'],\n",
       "      dtype='object')"
      ]
     },
     "execution_count": 114,
     "metadata": {},
     "output_type": "execute_result"
    }
   ],
   "source": [
    "df.columns"
   ]
  },
  {
   "cell_type": "markdown",
   "metadata": {},
   "source": [
    "Для удобства создам список из непрерывных переменных"
   ]
  },
  {
   "cell_type": "code",
   "execution_count": 115,
   "metadata": {},
   "outputs": [],
   "source": [
    "X = ['Height(CM)',\n",
    "     'Weight(KG)',\n",
    "     '10Mark',\n",
    "     '12Mark',\n",
    "     'CollegeMark',\n",
    "     'SalaryExpectation',\n",
    "     'CareerBasedonDegree',\n",
    "     'minDailyStudingTime',\n",
    "     'minGamesSpendingTime',\n",
    "     'minTravellingTime'\n",
    "    ]"
   ]
  },
  {
   "cell_type": "markdown",
   "metadata": {},
   "source": [
    "Вот тут я не уверена, потому что с одной стороны некоторые признаки принимают ограниченное количество значений (как минимум признаки с суффиксом time), но я предполагаю, что в целом это непрерывные величины, просто у нас вот такая выборка, поэтому их я также взяла для рассмотрения"
   ]
  },
  {
   "cell_type": "markdown",
   "metadata": {},
   "source": [
    "**Задание 6.**  Есть ли в выбранных колонках выбросы? (Пока не нужно их чистить)"
   ]
  },
  {
   "cell_type": "code",
   "execution_count": 116,
   "metadata": {},
   "outputs": [
    {
     "data": {
      "image/png": "[encoded data removed]",
      "text/plain": [
       "<Figure size 432x288 with 1 Axes>"
      ]
     },
     "metadata": {
      "needs_background": "light"
     },
     "output_type": "display_data"
    }
   ],
   "source": [
    "import warnings\n",
    "sns.boxplot(df['Height(CM)'])\n",
    "warnings.filterwarnings('ignore')"
   ]
  },
  {
   "cell_type": "code",
   "execution_count": 117,
   "metadata": {},
   "outputs": [
    {
     "data": {
      "text/plain": [
       "<AxesSubplot:xlabel='Weight(KG)'>"
      ]
     },
     "execution_count": 117,
     "metadata": {},
     "output_type": "execute_result"
    },
    {
     "data": {
      "image/png": "[encoded data removed]",
      "text/plain": [
       "<Figure size 432x288 with 1 Axes>"
      ]
     },
     "metadata": {
      "needs_background": "light"
     },
     "output_type": "display_data"
    }
   ],
   "source": [
    "sns.boxplot(df['Weight(KG)'])"
   ]
  },
  {
   "cell_type": "code",
   "execution_count": 118,
   "metadata": {},
   "outputs": [
    {
     "data": {
      "text/plain": [
       "<AxesSubplot:xlabel='10Mark'>"
      ]
     },
     "execution_count": 118,
     "metadata": {},
     "output_type": "execute_result"
    },
    {
     "data": {
      "image/png": "[encoded data removed]",
      "text/plain": [
       "<Figure size 432x288 with 1 Axes>"
      ]
     },
     "metadata": {
      "needs_background": "light"
     },
     "output_type": "display_data"
    }
   ],
   "source": [
    "sns.boxplot(df['10Mark'])"
   ]
  },
  {
   "cell_type": "code",
   "execution_count": 119,
   "metadata": {},
   "outputs": [
    {
     "data": {
      "text/plain": [
       "<AxesSubplot:xlabel='12Mark'>"
      ]
     },
     "execution_count": 119,
     "metadata": {},
     "output_type": "execute_result"
    },
    {
     "data": {
      "image/png": "[encoded data removed]",
      "text/plain": [
       "<Figure size 432x288 with 1 Axes>"
      ]
     },
     "metadata": {
      "needs_background": "light"
     },
     "output_type": "display_data"
    }
   ],
   "source": [
    "sns.boxplot(df['12Mark'])"
   ]
  },
  {
   "cell_type": "code",
   "execution_count": 120,
   "metadata": {},
   "outputs": [
    {
     "data": {
      "text/plain": [
       "<AxesSubplot:xlabel='CollegeMark'>"
      ]
     },
     "execution_count": 120,
     "metadata": {},
     "output_type": "execute_result"
    },
    {
     "data": {
      "image/png": "[encoded data removed]",
      "text/plain": [
       "<Figure size 432x288 with 1 Axes>"
      ]
     },
     "metadata": {
      "needs_background": "light"
     },
     "output_type": "display_data"
    }
   ],
   "source": [
    "sns.boxplot(df['CollegeMark'])"
   ]
  },
  {
   "cell_type": "code",
   "execution_count": 121,
   "metadata": {},
   "outputs": [
    {
     "data": {
      "text/plain": [
       "<AxesSubplot:xlabel='SalaryExpectation'>"
      ]
     },
     "execution_count": 121,
     "metadata": {},
     "output_type": "execute_result"
    },
    {
     "data": {
      "image/png": "[encoded data removed]",
      "text/plain": [
       "<Figure size 432x288 with 1 Axes>"
      ]
     },
     "metadata": {
      "needs_background": "light"
     },
     "output_type": "display_data"
    }
   ],
   "source": [
    "sns.boxplot(df['SalaryExpectation'])"
   ]
  },
  {
   "cell_type": "code",
   "execution_count": 122,
   "metadata": {},
   "outputs": [
    {
     "data": {
      "text/plain": [
       "<AxesSubplot:xlabel='CareerBasedonDegree'>"
      ]
     },
     "execution_count": 122,
     "metadata": {},
     "output_type": "execute_result"
    },
    {
     "data": {
      "image/png": "[encoded data removed]",
      "text/plain": [
       "<Figure size 432x288 with 1 Axes>"
      ]
     },
     "metadata": {
      "needs_background": "light"
     },
     "output_type": "display_data"
    }
   ],
   "source": [
    "sns.boxplot(df['CareerBasedonDegree'])"
   ]
  },
  {
   "cell_type": "code",
   "execution_count": 123,
   "metadata": {},
   "outputs": [
    {
     "data": {
      "text/plain": [
       "<AxesSubplot:xlabel='minDailyStudingTime'>"
      ]
     },
     "execution_count": 123,
     "metadata": {},
     "output_type": "execute_result"
    },
    {
     "data": {
      "image/png": "[encoded data removed]",
      "text/plain": [
       "<Figure size 432x288 with 1 Axes>"
      ]
     },
     "metadata": {
      "needs_background": "light"
     },
     "output_type": "display_data"
    }
   ],
   "source": [
    "sns.boxplot(df['minDailyStudingTime'])"
   ]
  },
  {
   "cell_type": "code",
   "execution_count": 124,
   "metadata": {},
   "outputs": [
    {
     "data": {
      "text/plain": [
       "<AxesSubplot:xlabel='minGamesSpendingTime'>"
      ]
     },
     "execution_count": 124,
     "metadata": {},
     "output_type": "execute_result"
    },
    {
     "data": {
      "image/png": "[encoded data removed]",
      "text/plain": [
       "<Figure size 432x288 with 1 Axes>"
      ]
     },
     "metadata": {
      "needs_background": "light"
     },
     "output_type": "display_data"
    }
   ],
   "source": [
    "sns.boxplot(df['minGamesSpendingTime'])"
   ]
  },
  {
   "cell_type": "code",
   "execution_count": 125,
   "metadata": {},
   "outputs": [
    {
     "data": {
      "text/plain": [
       "<AxesSubplot:xlabel='minTravellingTime'>"
      ]
     },
     "execution_count": 125,
     "metadata": {},
     "output_type": "execute_result"
    },
    {
     "data": {
      "image/png": "[encoded data removed]",
      "text/plain": [
       "<Figure size 432x288 with 1 Axes>"
      ]
     },
     "metadata": {
      "needs_background": "light"
     },
     "output_type": "display_data"
    }
   ],
   "source": [
    "sns.boxplot(df['minTravellingTime'])"
   ]
  },
  {
   "cell_type": "markdown",
   "metadata": {},
   "source": [
    "По графикам видно, что выбросы есть почти в каждом из признаков"
   ]
  },
  {
   "cell_type": "markdown",
   "metadata": {},
   "source": [
    "**Задание 7.**  Как распределена целевая переменная? Нет ли дисбаланса классов? Если есть дисбаланс, какие метрики качества классификатора можно использовать, какие нет? Рассматриваем метрики, которые проходили в рамках курса."
   ]
  },
  {
   "cell_type": "code",
   "execution_count": 126,
   "metadata": {},
   "outputs": [],
   "source": [
    "import matplotlib as plt\n",
    "import seaborn as sns"
   ]
  },
  {
   "cell_type": "code",
   "execution_count": 127,
   "metadata": {},
   "outputs": [
    {
     "data": {
      "image/png": "[encoded data removed]",
      "text/plain": [
       "<Figure size 432x288 with 1 Axes>"
      ]
     },
     "metadata": {
      "needs_background": "light"
     },
     "output_type": "display_data"
    }
   ],
   "source": [
    "sns.histplot(df['LikeDegree'], kde = True);"
   ]
  },
  {
   "cell_type": "code",
   "execution_count": 128,
   "metadata": {},
   "outputs": [
    {
     "data": {
      "text/plain": [
       "Yes    215\n",
       "No      20\n",
       "Name: LikeDegree, dtype: int64"
      ]
     },
     "execution_count": 128,
     "metadata": {},
     "output_type": "execute_result"
    }
   ],
   "source": [
    "df['LikeDegree'].value_counts()"
   ]
  },
  {
   "cell_type": "markdown",
   "metadata": {},
   "source": [
    "Как можно увидеть график и сумма по уникальным значениям показали, что целевая переменная распределена ненормально. В ней присутствует всего два значения - Yes и No (это биноминальное распределение, можно перевести в дамми переменную и ответы будут 0 или 1), при этом замечу, что \"нет\" составляет менее 10% от всех значений. Из-за такого дисбаланса в количестве значений не стоит пользоваться метрикой accuracy так она будет очень плохо работать с предсказанием результатов \"нет\" (информацию про минусы данной метрики мы проходили на семинаре, а еще я дополнительно почитала про нее вот тут https://habr.com/ru/company/ods/blog/328372/)\n",
    "Помимо accuracy мы также проходили метрики precision, recall и F-меру, они подходят для работы с несбалансированными данными, ими и буду далее пользоваться"
   ]
  },
  {
   "cell_type": "markdown",
   "metadata": {},
   "source": [
    "**Задание 8.**  Переведите целевую переменную к численному формату."
   ]
  },
  {
   "cell_type": "code",
   "execution_count": 129,
   "metadata": {},
   "outputs": [
    {
     "data": {
      "text/plain": [
       "array([0, 1], dtype=int64)"
      ]
     },
     "execution_count": 129,
     "metadata": {},
     "output_type": "execute_result"
    }
   ],
   "source": [
    "df['LikeDegree'] = df['LikeDegree'].map({'No':0, 'Yes':1})\n",
    "df['LikeDegree'].unique()"
   ]
  },
  {
   "cell_type": "markdown",
   "metadata": {},
   "source": [
    "просто воспользовалась кодом, который у нас уже был и в семинаре и в прошлой домашке"
   ]
  },
  {
   "cell_type": "markdown",
   "metadata": {},
   "source": [
    "### Часть 2: Строим модели\n",
    "**Задание 1.** Разбейте выборку на обучающую и тестовую. "
   ]
  },
  {
   "cell_type": "code",
   "execution_count": 133,
   "metadata": {},
   "outputs": [],
   "source": [
    "y = df['LikeDegree']"
   ]
  },
  {
   "cell_type": "code",
   "execution_count": 135,
   "metadata": {},
   "outputs": [],
   "source": [
    "from sklearn.model_selection import train_test_split\n",
    "\n",
    "train, test = train_test_split(df, test_size = 0.2, random_state=201905, stratify=df['LikeDegree'])"
   ]
  },
  {
   "cell_type": "markdown",
   "metadata": {},
   "source": [
    "**Задание 2.** Постройте наивную модель предсказания для целевой переменной. Наивная модель - это самая простая модель, без сложных зависимостей. Например, для регрессии наивная модель - среднее для целевой переменной (см. семинар 11). В данном случае наивной моделью может быть преположение \"все студенты (не)довольны\"."
   ]
  },
  {
   "cell_type": "markdown",
   "metadata": {},
   "source": [
    "Пусть наивной моделью будет \"все студенты довольны\" (1), тогда"
   ]
  },
  {
   "cell_type": "code",
   "execution_count": 137,
   "metadata": {},
   "outputs": [],
   "source": [
    "import numpy as np"
   ]
  },
  {
   "cell_type": "code",
   "execution_count": 141,
   "metadata": {},
   "outputs": [
    {
     "data": {
      "text/plain": [
       "array([1., 1., 1., 1., 1., 1., 1., 1., 1., 1., 1., 1., 1., 1., 1., 1., 1.,\n",
       "       1., 1., 1., 1., 1., 1., 1., 1., 1., 1., 1., 1., 1., 1., 1., 1., 1.,\n",
       "       1., 1., 1., 1., 1., 1., 1., 1., 1., 1., 1., 1., 1.])"
      ]
     },
     "execution_count": 141,
     "metadata": {},
     "output_type": "execute_result"
    }
   ],
   "source": [
    "y_pred_naive = 1 * np.ones(len(test))\n",
    "y_pred_naive"
   ]
  },
  {
   "cell_type": "markdown",
   "metadata": {},
   "source": [
    "**Задание 3.** Постройте модели ближайших соседей для 3, 5, 7 ближайших соседей. "
   ]
  },
  {
   "cell_type": "code",
   "execution_count": 150,
   "metadata": {},
   "outputs": [],
   "source": [
    "X_train = train[X].to_numpy()\n",
    "X_test = test[X].to_numpy()\n",
    "y_train = train.LikeDegree.to_numpy()\n",
    "y_test = test.LikeDegree.to_numpy()"
   ]
  },
  {
   "cell_type": "code",
   "execution_count": 152,
   "metadata": {},
   "outputs": [
    {
     "data": {
      "text/plain": [
       "array([1, 1, 1, 1, 1, 1, 1, 1, 1, 1, 1, 1, 1, 1, 1, 1, 1, 1, 1, 1, 1, 1,\n",
       "       1, 1, 1, 1, 1, 1, 1, 1, 1, 1, 1, 1, 1, 1, 1, 1, 1, 1, 1, 1, 1, 1,\n",
       "       1, 1, 1], dtype=int64)"
      ]
     },
     "execution_count": 152,
     "metadata": {},
     "output_type": "execute_result"
    }
   ],
   "source": [
    "from sklearn.neighbors import KNeighborsClassifier\n",
    "\n",
    "knn_3 = KNeighborsClassifier(n_neighbors = 3)\n",
    "knn_3.fit(X_train, y_train)\n",
    "\n",
    "y_pred_knn_3 = knn_3.predict(X_test)\n",
    "y_pred_knn_3"
   ]
  },
  {
   "cell_type": "code",
   "execution_count": 153,
   "metadata": {},
   "outputs": [
    {
     "data": {
      "text/plain": [
       "array([1, 1, 1, 1, 1, 1, 1, 1, 1, 1, 1, 1, 1, 1, 1, 1, 1, 1, 1, 1, 1, 1,\n",
       "       1, 1, 1, 1, 1, 1, 1, 1, 1, 1, 1, 1, 1, 1, 1, 1, 1, 1, 1, 1, 1, 1,\n",
       "       1, 1, 1], dtype=int64)"
      ]
     },
     "execution_count": 153,
     "metadata": {},
     "output_type": "execute_result"
    }
   ],
   "source": [
    "knn_5 = KNeighborsClassifier(n_neighbors = 5)\n",
    "knn_5.fit(X_train, y_train)\n",
    "\n",
    "y_pred_knn_5 = knn_5.predict(X_test)\n",
    "y_pred_knn_5"
   ]
  },
  {
   "cell_type": "code",
   "execution_count": 154,
   "metadata": {},
   "outputs": [
    {
     "data": {
      "text/plain": [
       "array([1, 1, 1, 1, 1, 1, 1, 1, 1, 1, 1, 1, 1, 1, 1, 1, 1, 1, 1, 1, 1, 1,\n",
       "       1, 1, 1, 1, 1, 1, 1, 1, 1, 1, 1, 1, 1, 1, 1, 1, 1, 1, 1, 1, 1, 1,\n",
       "       1, 1, 1], dtype=int64)"
      ]
     },
     "execution_count": 154,
     "metadata": {},
     "output_type": "execute_result"
    }
   ],
   "source": [
    "knn_7 = KNeighborsClassifier(n_neighbors = 7)\n",
    "knn_7.fit(X_train, y_train)\n",
    "\n",
    "y_pred_knn_7 = knn_7.predict(X_test)\n",
    "y_pred_knn_7"
   ]
  },
  {
   "cell_type": "markdown",
   "metadata": {},
   "source": [
    "Построила модели для 3, 5, 7 близжайших соседей"
   ]
  },
  {
   "cell_type": "markdown",
   "metadata": {},
   "source": [
    "**Задание 4.** Постройте метрики качества на тестовой выборке (3 известных вам) для моделей из 1 и 2 задания и сравните между собой. Какая победила? "
   ]
  },
  {
   "cell_type": "code",
   "execution_count": 155,
   "metadata": {},
   "outputs": [],
   "source": [
    "from sklearn.metrics import precision_score\n",
    "from sklearn.metrics import recall_score\n",
    "from sklearn.metrics import f1_score"
   ]
  },
  {
   "cell_type": "code",
   "execution_count": 163,
   "metadata": {},
   "outputs": [
    {
     "name": "stdout",
     "output_type": "stream",
     "text": [
      "0.9148936170212766 1.0 0.9555555555555556\n"
     ]
    }
   ],
   "source": [
    "precision_naive = precision_score(y_test, y_pred_naive)\n",
    "recall_naive = recall_score(y_test, y_pred_naive)\n",
    "f1_naive = f1_score(y_test, y_pred_naive)\n",
    "print(precision_naive, recall_naive, f1_naive)"
   ]
  },
  {
   "cell_type": "code",
   "execution_count": 160,
   "metadata": {},
   "outputs": [
    {
     "name": "stdout",
     "output_type": "stream",
     "text": [
      "0.9148936170212766 1.0 0.9555555555555556\n"
     ]
    }
   ],
   "source": [
    "precision_3 = precision_score(y_test, y_pred_knn_3)\n",
    "recall_3 = recall_score(y_test, y_pred_knn_3)\n",
    "f1_3 = f1_score(y_test, y_pred_knn_3)\n",
    "print(precision_3, recall_3, f1_3)"
   ]
  },
  {
   "cell_type": "code",
   "execution_count": 161,
   "metadata": {},
   "outputs": [
    {
     "name": "stdout",
     "output_type": "stream",
     "text": [
      "0.9148936170212766 1.0 0.9555555555555556\n"
     ]
    }
   ],
   "source": [
    "precision_5 = precision_score(y_test, y_pred_knn_5)\n",
    "recall_5 = recall_score(y_test, y_pred_knn_5)\n",
    "f1_5 = f1_score(y_test, y_pred_knn_5)\n",
    "print(precision_5, recall_5, f1_5)"
   ]
  },
  {
   "cell_type": "code",
   "execution_count": 162,
   "metadata": {},
   "outputs": [
    {
     "name": "stdout",
     "output_type": "stream",
     "text": [
      "0.9148936170212766 1.0 0.9555555555555556\n"
     ]
    }
   ],
   "source": [
    "precision_7 = precision_score(y_test, y_pred_knn_7)\n",
    "recall_7 = recall_score(y_test, y_pred_knn_7)\n",
    "f1_7 = f1_score(y_test, y_pred_knn_7)\n",
    "print(precision_7, recall_7, f1_7)"
   ]
  },
  {
   "cell_type": "markdown",
   "metadata": {},
   "source": [
    "По итогу значения всех метрик одинаковы между собой, что говорит о том, что модели предсказывают с одинаковой точностью, нельзя выбрать какую-то наиболее эффективную."
   ]
  },
  {
   "cell_type": "markdown",
   "metadata": {},
   "source": [
    "**Задание 5.** Примените шкалирование (MinMax, обучите его на обучающей выборке к факторам, затем примените к тестовой), снова постройте модели для нескольких вариантов соседей (3, 5, 7). Помогло ли шкалирование? "
   ]
  },
  {
   "cell_type": "code",
   "execution_count": 164,
   "metadata": {},
   "outputs": [],
   "source": [
    "from sklearn.preprocessing import MinMaxScaler\n",
    "scaler = MinMaxScaler( )\n",
    "scaler.fit(X_train) \n",
    "X_train_norm = scaler.transform(X_train) \n",
    "X_test_norm = scaler.transform(X_test)"
   ]
  },
  {
   "cell_type": "code",
   "execution_count": 165,
   "metadata": {},
   "outputs": [
    {
     "name": "stdout",
     "output_type": "stream",
     "text": [
      "[1 1 1 1 1 1 1 1 1 1 1 1 1 1 1 1 1 1 1 1 1 1 1 1 1 1 1 1 1 1 1 1 1 1 1 1 1\n",
      " 1 1 1 1 1 1 1 1 1 1]\n",
      "0.9148936170212766 1.0 0.9555555555555556\n"
     ]
    }
   ],
   "source": [
    "knn_3_scal = KNeighborsClassifier(n_neighbors = 3)\n",
    "knn_3_scal.fit(X_train_norm, y_train)\n",
    "\n",
    "y_pred_knn_3_scal = knn_3.predict(X_test_norm)\n",
    "print(y_pred_knn_3_scal)\n",
    "\n",
    "precision_3_scal = precision_score(y_test, y_pred_knn_3_scal)\n",
    "recall_3_scal = recall_score(y_test, y_pred_knn_3_scal)\n",
    "f1_3_scal = f1_score(y_test, y_pred_knn_3_scal)\n",
    "print(precision_3_scal, recall_3_scal, f1_3_scal)"
   ]
  },
  {
   "cell_type": "code",
   "execution_count": 166,
   "metadata": {},
   "outputs": [
    {
     "name": "stdout",
     "output_type": "stream",
     "text": [
      "[1 1 1 1 1 1 1 1 1 1 1 1 1 1 1 1 1 1 1 1 1 1 1 1 1 1 1 1 1 1 1 1 1 1 1 1 1\n",
      " 1 1 1 1 1 1 1 1 1 1]\n",
      "0.9148936170212766 1.0 0.9555555555555556\n"
     ]
    }
   ],
   "source": [
    "knn_5_scal = KNeighborsClassifier(n_neighbors = 5)\n",
    "knn_5_scal.fit(X_train_norm, y_train)\n",
    "\n",
    "y_pred_knn_5_scal = knn_5.predict(X_test_norm)\n",
    "print(y_pred_knn_5_scal)\n",
    "\n",
    "precision_5_scal = precision_score(y_test, y_pred_knn_5_scal)\n",
    "recall_5_scal = recall_score(y_test, y_pred_knn_5_scal)\n",
    "f1_5_scal = f1_score(y_test, y_pred_knn_5_scal)\n",
    "print(precision_5_scal, recall_5_scal, f1_5_scal)"
   ]
  },
  {
   "cell_type": "code",
   "execution_count": 167,
   "metadata": {},
   "outputs": [
    {
     "name": "stdout",
     "output_type": "stream",
     "text": [
      "[1 1 1 1 1 1 1 1 1 1 1 1 1 1 1 1 1 1 1 1 1 1 1 1 1 1 1 1 1 1 1 1 1 1 1 1 1\n",
      " 1 1 1 1 1 1 1 1 1 1]\n",
      "0.9148936170212766 1.0 0.9555555555555556\n"
     ]
    }
   ],
   "source": [
    "knn_7_scal = KNeighborsClassifier(n_neighbors = 7)\n",
    "knn_7_scal.fit(X_train_norm, y_train)\n",
    "\n",
    "y_pred_knn_7_scal = knn_7.predict(X_test_norm)\n",
    "print(y_pred_knn_7_scal)\n",
    "\n",
    "precision_7_scal = precision_score(y_test, y_pred_knn_7_scal)\n",
    "recall_7_scal = recall_score(y_test, y_pred_knn_7_scal)\n",
    "f1_7_scal = f1_score(y_test, y_pred_knn_7_scal)\n",
    "print(precision_7_scal, recall_7_scal, f1_7_scal)"
   ]
  },
  {
   "cell_type": "markdown",
   "metadata": {},
   "source": [
    "Вообще ничего абсолютно не изменилось... Опять нельзя выбрать \"лучшую\" модель"
   ]
  },
  {
   "cell_type": "markdown",
   "metadata": {},
   "source": [
    "**Задание 6.** Избавьтесь от выбросов в исходной выборке, затем снова разделите ее на тестовую и обучающую, постройте модель для нескольких вариантов числа соседей(3, 5, 7). Какое число соседей лучшее и почему? Улучшилось ли качество модели по сравнению со лучшей моделью, в которой было применено шкалирование из задания 5?"
   ]
  },
  {
   "cell_type": "code",
   "execution_count": 168,
   "metadata": {},
   "outputs": [],
   "source": [
    "train[X] = train[X].apply(lambda n: np.log(n + 1))\n",
    "test[X] = test[X].apply(lambda n: np.log(n + 1))\n",
    "X_train = train[X].to_numpy()\n",
    "X_test = test[X].to_numpy()"
   ]
  },
  {
   "cell_type": "markdown",
   "metadata": {},
   "source": [
    "Избавились с помощью логарифмирования, данный прием мы изучали на семинаре\n",
    "\n",
    "P.S. я решила перезаписать в трейн и тест, потому что ~~мне было лень создавать еще новые переменные, их и так уже слишком много~~ я подумала так будет удобнее ориентироватся в работе"
   ]
  },
  {
   "cell_type": "code",
   "execution_count": 172,
   "metadata": {},
   "outputs": [
    {
     "name": "stdout",
     "output_type": "stream",
     "text": [
      "[1 1 1 1 1 1 1 1 1 1 1 1 1 1 1 1 1 1 1 1 1 1 1 1 1 1 1 1 1 1 1 1 1 1 1 1 1\n",
      " 1 1 1 1 1 1 1 1 1 1]\n",
      "0.9148936170212766 1.0 0.9555555555555556\n"
     ]
    }
   ],
   "source": [
    "knn_3.fit(X_train, y_train)\n",
    "\n",
    "y_pred_knn_3 = knn_3.predict(X_test)\n",
    "print(y_pred_knn_3)\n",
    "\n",
    "precision_3 = precision_score(y_test, y_pred_knn_3)\n",
    "recall_3 = recall_score(y_test, y_pred_knn_3)\n",
    "f1_3 = f1_score(y_test, y_pred_knn_3)\n",
    "print(precision_3, recall_3, f1_3)"
   ]
  },
  {
   "cell_type": "code",
   "execution_count": 173,
   "metadata": {},
   "outputs": [
    {
     "name": "stdout",
     "output_type": "stream",
     "text": [
      "[1 1 1 1 1 1 1 1 1 1 1 1 1 1 1 1 1 1 1 1 1 1 1 1 1 1 1 1 1 1 1 1 1 1 1 1 1\n",
      " 1 1 1 1 1 1 1 1 1 1]\n",
      "0.9148936170212766 1.0 0.9555555555555556\n"
     ]
    }
   ],
   "source": [
    "knn_5.fit(X_train, y_train)\n",
    "\n",
    "y_pred_knn_5 = knn_5.predict(X_test)\n",
    "print(y_pred_knn_5)\n",
    "\n",
    "precision_5 = precision_score(y_test, y_pred_knn_5)\n",
    "recall_5 = recall_score(y_test, y_pred_knn_5)\n",
    "f1_5 = f1_score(y_test, y_pred_knn_5)\n",
    "print(precision_5, recall_5, f1_5)"
   ]
  },
  {
   "cell_type": "code",
   "execution_count": 174,
   "metadata": {},
   "outputs": [
    {
     "name": "stdout",
     "output_type": "stream",
     "text": [
      "[1 1 1 1 1 1 1 1 1 1 1 1 1 1 1 1 1 1 1 1 1 1 1 1 1 1 1 1 1 1 1 1 1 1 1 1 1\n",
      " 1 1 1 1 1 1 1 1 1 1]\n",
      "0.9148936170212766 1.0 0.9555555555555556\n"
     ]
    }
   ],
   "source": [
    "knn_7.fit(X_train, y_train)\n",
    "\n",
    "y_pred_knn_7 = knn_7.predict(X_test)\n",
    "print(y_pred_knn_7)\n",
    "\n",
    "precision_7 = precision_score(y_test, y_pred_knn_7)\n",
    "recall_7 = recall_score(y_test, y_pred_knn_7)\n",
    "f1_7 = f1_score(y_test, y_pred_knn_7)\n",
    "print(precision_7, recall_7, f1_7)"
   ]
  },
  {
   "cell_type": "markdown",
   "metadata": {},
   "source": [
    "Мда, вообще абсолютно ничего прям совсем нигде не изменилось и не улучшилось.\n",
    "Наверное, так произошло из-за неудачного разбиения на трейн и тест, но it is what it is"
   ]
  },
  {
   "cell_type": "markdown",
   "metadata": {},
   "source": [
    "**Задание 7.** Какая конфигурация модели получилась лучшей? Почему?Выбираем из всех построенных моделей, не забудьте про наивный прогноз и все рассмотренне варианты числа соседей. "
   ]
  },
  {
   "cell_type": "markdown",
   "metadata": {},
   "source": [
    "В моем случае абсолютно никакая конфигурация модели себя лучше не показала, поэтому, к сожалению, я не могу ответить на данные вопросы. Могу предположить, что при другом раскладе событий конфигурация модели (а какой точно, с 3, 5 или 7 соседями сказать не могу) с очищеными выбросами была бы лучше, так как исчезли бы \"помехи\" в решении. На самом деле обидно, что так получилось, потому что мне было интересно посмотреть на изменения и подумать над ними."
   ]
  },
  {
   "cell_type": "markdown",
   "metadata": {},
   "source": [
    "P.S. В данной работе я практически не пользовалась кодами из интернета, только гуглила синтаксис функций, так как мы практически все разбирали на семинарах, а что не разбирали я сама уже делала, так что ссылок на доп ресурсы нет"
   ]
  },
  {
   "attachments": {
    "photo_2022-06-19_23-27-16.jpg": {
     "image/jpeg": "[encoded data removed]"
    }
   },
   "cell_type": "markdown",
   "metadata": {},
   "source": [
    "![photo_2022-06-19_23-27-16.jpg](attachment:photo_2022-06-19_23-27-16.jpg)"
   ]
  },
  {
   "cell_type": "markdown",
   "metadata": {},
   "source": [
    "удачной сессии, здоровья, крепкого сна, большой зарплаты и вообще всего самого наилучшего🥰🥰🥰"
   ]
  },
  {
   "cell_type": "code",
   "execution_count": null,
   "metadata": {},
   "outputs": [],
   "source": []
  }
 ],
 "metadata": {
  "kernelspec": {
   "display_name": "Python 3 (ipykernel)",
   "language": "python",
   "name": "python3"
  },
  "language_info": {
   "codemirror_mode": {
    "name": "ipython",
    "version": 3
   },
   "file_extension": ".py",
   "mimetype": "text/x-python",
   "name": "python",
   "nbconvert_exporter": "python",
   "pygments_lexer": "ipython3",
   "version": "3.9.7"
  }
 },
 "nbformat": 4,
 "nbformat_minor": 4
}
