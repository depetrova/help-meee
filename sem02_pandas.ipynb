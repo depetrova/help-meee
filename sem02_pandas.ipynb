{
 "cells": [
  {
   "cell_type": "markdown",
   "metadata": {},
   "source": [
    "<img align=\"center\" src=\"https://raw.githubusercontent.com/FUlyankin/Parsers/master/images%20/cats.jpg\" height=\"1200\" width=\"1200\"> \n",
    "\n",
    "# Семинар 2:  продолжаем врываться в python\n",
    "\n",
    "Продолжаем аккуратно врываться в python и решать на нём различные задачки. __Наша цель на сегодня:__ \n",
    "\n",
    "* Повторить подвиг с запуском анакоды быстрее, чем за 20 минут...\n",
    "* Немного вспомнить что мы делали в прошлый раз, а ещё в домашке\n",
    "* Поработать с таблицами в pandas и поискать ответы на разные глупые вопросы\n",
    "\n",
    "В качестве датасета мы будем использовать датасет по ... вашим страницам вконтакте. Ох! Сколько же всего интересного можно найти в этом датасете..."
   ]
  },
  {
   "cell_type": "markdown",
   "metadata": {},
   "source": [
    "# 0. Разминка\n",
    "\n",
    "Немного вспомним, чем именно мы занимались на предыдущем семинаре! \n",
    "\n",
    "<img src=\"https://steemitimages.com/0x0/https://media.makeameme.org/created/repeat-repeat-repeat-5984a6.jpg\" height=\"350\" width=\"350\">"
   ]
  },
  {
   "cell_type": "markdown",
   "metadata": {},
   "source": [
    "Начнём с разминочной задачки :) \n",
    "\n",
    "## Разминочная задачка\n",
    "\n",
    "У Дори в глубинах океана есть кучка камней. Часть камней из этой кучки драгоценные. Недавно она пересчитала все драгоценные и забыла сколько их. Чтобы больше не забывать, Дори решила написать на питоне функцию, которая будет считать камни за неё.\n",
    "\n",
    "Напишите на python функцию, которая принимает на вход список драгоценных камней $J$ и список камней, которые есть у Дори $S$. На выход функция возвращает число драгоценных камней в запасах Дори.\n",
    "\n",
    "__Примеры:__ \n",
    "\n",
    "> Input: J = \"aA\", S = \"aAAbbbb\" <br />\n",
    "Output: 3\n",
    "\n",
    "Тут драгоценными считаются камни a и A. У Дори есть камни aAAbbbb. Среди них три драгоценных, aAA.\n",
    "\n",
    ">Input: J = \"z\", S = \"ZZ\" <br />\n",
    "Output: 0\n",
    "\n",
    "Драгоценными мы считаем только камень z. У Дори два камня, оба обычные."
   ]
  },
  {
   "cell_type": "code",
   "execution_count": null,
   "metadata": {},
   "outputs": [],
   "source": [
    "def numJewelsInStones(J, S):\n",
    "    \n",
    "    ### ╰( ͡° ͜ʖ ͡° )つ▬▬ι═══════  bzzzzzzzzzz\n",
    "    \n",
    "    return cn"
   ]
  },
  {
   "cell_type": "code",
   "execution_count": null,
   "metadata": {},
   "outputs": [],
   "source": [
    "J = \"aA\"\n",
    "S = \"aAAbbbb\"\n",
    "\n",
    "numJewelsInStones(J, S)"
   ]
  },
  {
   "cell_type": "markdown",
   "metadata": {},
   "source": [
    "# 1. Пакеты\n",
    "\n",
    "![](http://advaitaworld.com/uploads/images/00/13/28/2012/06/15/36a8a1.png)\n",
    "\n",
    "Разработчики языка Python придерживаются определённой философии программирования, называемой «The Zen of Python» («Дзен Питона», или «Дзен Пайтона»). \n",
    "\n",
    "Её текст можно поспотреть с помощью комнды import this (работает один раз за сессию). "
   ]
  },
  {
   "cell_type": "code",
   "execution_count": null,
   "metadata": {},
   "outputs": [],
   "source": [
    "import this"
   ]
  },
  {
   "cell_type": "markdown",
   "metadata": {},
   "source": [
    "что бы понять какие функции лежат в пакете можно написать\n",
    "мэтх. и нажать табуляцию то выпадет целый список функций\n"
   ]
  },
  {
   "cell_type": "markdown",
   "metadata": {},
   "source": [
    "Команда import позволяет подгрузить не только философию, но и какой-нибудь пакет с какими-нибудь командами.\n",
    "\n",
    "Попробуем подгрузить несколькими разными способами пакет math."
   ]
  },
  {
   "cell_type": "code",
   "execution_count": null,
   "metadata": {},
   "outputs": [],
   "source": [
    "import math \n",
    "math.sqrt(4)"
   ]
  },
  {
   "cell_type": "markdown",
   "metadata": {},
   "source": [
    "При таком способе загрузки обращение к каждой команде модуля делается через точку. В Python работает табуляция. Если написать название модуля, поставить точку, а после нажать Tab, то Jupyter Notebook подскажет какие ещё команды есть внутри модуля."
   ]
  },
  {
   "cell_type": "code",
   "execution_count": null,
   "metadata": {},
   "outputs": [],
   "source": [
    "math.sin(20)"
   ]
  },
  {
   "cell_type": "markdown",
   "metadata": {},
   "source": [
    "Приведенный синтаксис может оказаться неудобным, если вам часто приходится вызывать какие-то математические функции. Чтобы не писать каждый раз слово «math», можно импортировать из модуля конкретные функции."
   ]
  },
  {
   "cell_type": "code",
   "execution_count": null,
   "metadata": {},
   "outputs": [],
   "source": [
    "from math import sqrt\n",
    "\n",
    "sqrt(4)"
   ]
  },
  {
   "cell_type": "markdown",
   "metadata": {},
   "source": [
    "По аналогии можно импортировать из модуля абсолютно все функции, которые в нём есть с помощью команды *"
   ]
  },
  {
   "cell_type": "code",
   "execution_count": null,
   "metadata": {},
   "outputs": [],
   "source": [
    "from math import *\n",
    "pi"
   ]
  },
  {
   "cell_type": "markdown",
   "metadata": {},
   "source": [
    "Также можно подгрузить какой-нибудь модуль или пакет, но при этом изменить у него название на более короткое и пользоваться им."
   ]
  },
  {
   "cell_type": "code",
   "execution_count": null,
   "metadata": {},
   "outputs": [],
   "source": [
    "import math as mh\n",
    "mh.sqrt(4)"
   ]
  },
  {
   "cell_type": "markdown",
   "metadata": {},
   "source": [
    "# 2. Все любят панд\n",
    "\n",
    "Давайте подгрузим пакет для работы с таблицами, [pandas](http://pandas.pydata.org/) и попробуем немного поработать с данными, которые мы собрали о вас из социальных сеток. \n",
    "\n",
    "## 2.1 Смотрим на данные"
   ]
  },
  {
   "cell_type": "code",
   "execution_count": 5,
   "metadata": {},
   "outputs": [],
   "source": [
    "import pandas as pd  # подгружаем пакет для работы с таблицами"
   ]
  },
  {
   "cell_type": "markdown",
   "metadata": {},
   "source": [
    "По имени `pd` нам теперь доступна куча команд для работы с таблицами. Давайте подгрузим данные и посмотрим что лежит внутри нашей таблички. Делать это будем командой [pd.read_csv().](http://pandas.pydata.org/pandas-docs/stable/generated/pandas.read_csv.html#pandas.read_csv)\n",
    "\n",
    "Аргументов у нее очень много, критически важные:\n",
    "\n",
    " - **filepath_or_buffer** - текстовая строка с названием (адресом) файла\n",
    " - **sep** - разделитель между данными\n",
    " - **header** - номер строки, в которой в файле указаны названия столбцов, None, если нет\n",
    " - **names** - список с названиями колонок\n",
    " - **index_col** - или номер столбца, или список,  или ничего - названия строк"
   ]
  },
  {
   "cell_type": "code",
   "execution_count": 10,
   "metadata": {},
   "outputs": [
    {
     "ename": "SyntaxError",
     "evalue": "(unicode error) 'unicodeescape' codec can't decode bytes in position 2-3: truncated \\UXXXXXXXX escape (Temp/ipykernel_792/4039481610.py, line 1)",
     "output_type": "error",
     "traceback": [
      "\u001b[1;36m  File \u001b[1;32m\"C:\\Users\\DASHA\\AppData\\Local\\Temp/ipykernel_792/4039481610.py\"\u001b[1;36m, line \u001b[1;32m1\u001b[0m\n\u001b[1;33m    df = pd.read_csv('C:\\Users\\DASHA\\Downloads\\Telegram Desktop\\public_intro_to_DS_mba_hse-main\\public_intro_to_DS_mba_hse-main\\seminars\\week2_pandas', sep='\\t')\u001b[0m\n\u001b[1;37m                                                                                                                                                      ^\u001b[0m\n\u001b[1;31mSyntaxError\u001b[0m\u001b[1;31m:\u001b[0m (unicode error) 'unicodeescape' codec can't decode bytes in position 2-3: truncated \\UXXXXXXXX escape\n"
     ]
    }
   ],
   "source": [
    "df = pd.read_csv('C:\\Users\\DASHA\\Downloads\\Telegram Desktop\\public_intro_to_DS_mba_hse-main\\public_intro_to_DS_mba_hse-main\\seminars\\week2_pandas', sep='\\t')\n",
    "df.head(7) # метод head выводит на экран первые 7 строк :) "
   ]
  },
  {
   "cell_type": "code",
   "execution_count": 8,
   "metadata": {},
   "outputs": [
    {
     "data": {
      "text/html": [
       "<div>\n",
       "<style scoped>\n",
       "    .dataframe tbody tr th:only-of-type {\n",
       "        vertical-align: middle;\n",
       "    }\n",
       "\n",
       "    .dataframe tbody tr th {\n",
       "        vertical-align: top;\n",
       "    }\n",
       "\n",
       "    .dataframe thead th {\n",
       "        text-align: right;\n",
       "    }\n",
       "</style>\n",
       "<table border=\"1\" class=\"dataframe\">\n",
       "  <thead>\n",
       "    <tr style=\"text-align: right;\">\n",
       "      <th></th>\n",
       "      <th>Unnamed: 0</th>\n",
       "      <th>Film</th>\n",
       "      <th>Oscar Year</th>\n",
       "      <th>Film Studio/Producer(s)</th>\n",
       "      <th>Award</th>\n",
       "      <th>Year of Release</th>\n",
       "      <th>Movie Time</th>\n",
       "      <th>Movie Genre</th>\n",
       "      <th>IMDB Rating</th>\n",
       "      <th>IMDB Votes</th>\n",
       "      <th>...</th>\n",
       "      <th>Tomatometer Status</th>\n",
       "      <th>Tomatometer Rating</th>\n",
       "      <th>Tomatometer Count</th>\n",
       "      <th>Audience Status</th>\n",
       "      <th>Audience Rating</th>\n",
       "      <th>Audience Count</th>\n",
       "      <th>Tomatometer Top Critics Count</th>\n",
       "      <th>Tomatometer Fresh Critics Count</th>\n",
       "      <th>Tomatometer Rotten Critics Count</th>\n",
       "      <th>Film ID</th>\n",
       "    </tr>\n",
       "  </thead>\n",
       "  <tbody>\n",
       "    <tr>\n",
       "      <th>0</th>\n",
       "      <td>0</td>\n",
       "      <td>Wings</td>\n",
       "      <td>1927/28</td>\n",
       "      <td>Famous Players-Lasky</td>\n",
       "      <td>Winner</td>\n",
       "      <td>1927</td>\n",
       "      <td>144</td>\n",
       "      <td>Drama,Romance,War</td>\n",
       "      <td>7.5</td>\n",
       "      <td>12,221</td>\n",
       "      <td>...</td>\n",
       "      <td>Certified-Fresh</td>\n",
       "      <td>93.0</td>\n",
       "      <td>46.0</td>\n",
       "      <td>Upright</td>\n",
       "      <td>78.0</td>\n",
       "      <td>3530.0</td>\n",
       "      <td>9.0</td>\n",
       "      <td>43.0</td>\n",
       "      <td>3.0</td>\n",
       "      <td>2becf7d5-a3de-46ab-ae45-abdd6b588067</td>\n",
       "    </tr>\n",
       "    <tr>\n",
       "      <th>1</th>\n",
       "      <td>1</td>\n",
       "      <td>7th Heaven</td>\n",
       "      <td>1927/28</td>\n",
       "      <td>Fox</td>\n",
       "      <td>Nominee</td>\n",
       "      <td>1927</td>\n",
       "      <td>110</td>\n",
       "      <td>Drama,Romance</td>\n",
       "      <td>7.7</td>\n",
       "      <td>3,439</td>\n",
       "      <td>...</td>\n",
       "      <td>NaN</td>\n",
       "      <td>NaN</td>\n",
       "      <td>NaN</td>\n",
       "      <td>NaN</td>\n",
       "      <td>NaN</td>\n",
       "      <td>NaN</td>\n",
       "      <td>NaN</td>\n",
       "      <td>NaN</td>\n",
       "      <td>NaN</td>\n",
       "      <td>19ed3295-a878-4fd2-8e60-5cd7b5f93dad</td>\n",
       "    </tr>\n",
       "    <tr>\n",
       "      <th>2</th>\n",
       "      <td>2</td>\n",
       "      <td>The Racket</td>\n",
       "      <td>1927/28</td>\n",
       "      <td>The Caddo Company</td>\n",
       "      <td>Nominee</td>\n",
       "      <td>1928</td>\n",
       "      <td>84</td>\n",
       "      <td>Crime,Drama,Film-Noir</td>\n",
       "      <td>6.7</td>\n",
       "      <td>1,257</td>\n",
       "      <td>...</td>\n",
       "      <td>NaN</td>\n",
       "      <td>NaN</td>\n",
       "      <td>NaN</td>\n",
       "      <td>NaN</td>\n",
       "      <td>NaN</td>\n",
       "      <td>NaN</td>\n",
       "      <td>NaN</td>\n",
       "      <td>NaN</td>\n",
       "      <td>NaN</td>\n",
       "      <td>3111c2d8-0908-4093-8ff3-99c89f2f2f08</td>\n",
       "    </tr>\n",
       "    <tr>\n",
       "      <th>3</th>\n",
       "      <td>3</td>\n",
       "      <td>The Broadway Melody</td>\n",
       "      <td>1928/29</td>\n",
       "      <td>Metro-Goldwyn-Mayer</td>\n",
       "      <td>Winner</td>\n",
       "      <td>1929</td>\n",
       "      <td>100</td>\n",
       "      <td>Drama,Musical,Romance</td>\n",
       "      <td>5.7</td>\n",
       "      <td>6,890</td>\n",
       "      <td>...</td>\n",
       "      <td>Rotten</td>\n",
       "      <td>33.0</td>\n",
       "      <td>24.0</td>\n",
       "      <td>Spilled</td>\n",
       "      <td>21.0</td>\n",
       "      <td>1813.0</td>\n",
       "      <td>7.0</td>\n",
       "      <td>8.0</td>\n",
       "      <td>16.0</td>\n",
       "      <td>de063f3f-2d35-4e1c-8636-6eb4c16bd236</td>\n",
       "    </tr>\n",
       "    <tr>\n",
       "      <th>4</th>\n",
       "      <td>4</td>\n",
       "      <td>Alibi</td>\n",
       "      <td>1928/29</td>\n",
       "      <td>Feature Productions</td>\n",
       "      <td>Nominee</td>\n",
       "      <td>1929</td>\n",
       "      <td>91</td>\n",
       "      <td>Action,Crime,Romance</td>\n",
       "      <td>5.8</td>\n",
       "      <td>765</td>\n",
       "      <td>...</td>\n",
       "      <td>NaN</td>\n",
       "      <td>NaN</td>\n",
       "      <td>NaN</td>\n",
       "      <td>NaN</td>\n",
       "      <td>NaN</td>\n",
       "      <td>NaN</td>\n",
       "      <td>NaN</td>\n",
       "      <td>NaN</td>\n",
       "      <td>NaN</td>\n",
       "      <td>609887c2-877c-43a4-b88c-e40e31096a98</td>\n",
       "    </tr>\n",
       "    <tr>\n",
       "      <th>5</th>\n",
       "      <td>5</td>\n",
       "      <td>Hollywood Revue</td>\n",
       "      <td>1928/29</td>\n",
       "      <td>Metro-Goldwyn-Mayer</td>\n",
       "      <td>Nominee</td>\n",
       "      <td>1929</td>\n",
       "      <td>130</td>\n",
       "      <td>Comedy,Music</td>\n",
       "      <td>5.7</td>\n",
       "      <td>2,004</td>\n",
       "      <td>...</td>\n",
       "      <td>NaN</td>\n",
       "      <td>NaN</td>\n",
       "      <td>NaN</td>\n",
       "      <td>NaN</td>\n",
       "      <td>NaN</td>\n",
       "      <td>NaN</td>\n",
       "      <td>NaN</td>\n",
       "      <td>NaN</td>\n",
       "      <td>NaN</td>\n",
       "      <td>689f22d5-a700-4ce1-b9be-65652f32c186</td>\n",
       "    </tr>\n",
       "    <tr>\n",
       "      <th>6</th>\n",
       "      <td>6</td>\n",
       "      <td>In Old Arizona</td>\n",
       "      <td>1928/29</td>\n",
       "      <td>Fox</td>\n",
       "      <td>Nominee</td>\n",
       "      <td>1928</td>\n",
       "      <td>95</td>\n",
       "      <td>Western</td>\n",
       "      <td>5.6</td>\n",
       "      <td>1,019</td>\n",
       "      <td>...</td>\n",
       "      <td>Rotten</td>\n",
       "      <td>56.0</td>\n",
       "      <td>9.0</td>\n",
       "      <td>Spilled</td>\n",
       "      <td>38.0</td>\n",
       "      <td>356.0</td>\n",
       "      <td>2.0</td>\n",
       "      <td>5.0</td>\n",
       "      <td>4.0</td>\n",
       "      <td>a0644f19-a136-44c2-ab5d-50978ef19608</td>\n",
       "    </tr>\n",
       "  </tbody>\n",
       "</table>\n",
       "<p>7 rows × 30 columns</p>\n",
       "</div>"
      ],
      "text/plain": [
       "   Unnamed: 0                 Film Oscar Year Film Studio/Producer(s)  \\\n",
       "0           0                Wings    1927/28    Famous Players-Lasky   \n",
       "1           1           7th Heaven    1927/28                     Fox   \n",
       "2           2           The Racket    1927/28       The Caddo Company   \n",
       "3           3  The Broadway Melody    1928/29     Metro-Goldwyn-Mayer   \n",
       "4           4                Alibi    1928/29     Feature Productions   \n",
       "5           5      Hollywood Revue    1928/29     Metro-Goldwyn-Mayer   \n",
       "6           6       In Old Arizona    1928/29                     Fox   \n",
       "\n",
       "     Award  Year of Release  Movie Time            Movie Genre  IMDB Rating  \\\n",
       "0   Winner             1927         144      Drama,Romance,War          7.5   \n",
       "1  Nominee             1927         110          Drama,Romance          7.7   \n",
       "2  Nominee             1928          84  Crime,Drama,Film-Noir          6.7   \n",
       "3   Winner             1929         100  Drama,Musical,Romance          5.7   \n",
       "4  Nominee             1929          91   Action,Crime,Romance          5.8   \n",
       "5  Nominee             1929         130           Comedy,Music          5.7   \n",
       "6  Nominee             1928          95                Western          5.6   \n",
       "\n",
       "  IMDB Votes  ... Tomatometer Status Tomatometer Rating Tomatometer Count  \\\n",
       "0     12,221  ...    Certified-Fresh               93.0              46.0   \n",
       "1      3,439  ...                NaN                NaN               NaN   \n",
       "2      1,257  ...                NaN                NaN               NaN   \n",
       "3      6,890  ...             Rotten               33.0              24.0   \n",
       "4        765  ...                NaN                NaN               NaN   \n",
       "5      2,004  ...                NaN                NaN               NaN   \n",
       "6      1,019  ...             Rotten               56.0               9.0   \n",
       "\n",
       "  Audience Status Audience Rating Audience Count  \\\n",
       "0         Upright            78.0         3530.0   \n",
       "1             NaN             NaN            NaN   \n",
       "2             NaN             NaN            NaN   \n",
       "3         Spilled            21.0         1813.0   \n",
       "4             NaN             NaN            NaN   \n",
       "5             NaN             NaN            NaN   \n",
       "6         Spilled            38.0          356.0   \n",
       "\n",
       "  Tomatometer Top Critics Count Tomatometer Fresh Critics Count  \\\n",
       "0                           9.0                            43.0   \n",
       "1                           NaN                             NaN   \n",
       "2                           NaN                             NaN   \n",
       "3                           7.0                             8.0   \n",
       "4                           NaN                             NaN   \n",
       "5                           NaN                             NaN   \n",
       "6                           2.0                             5.0   \n",
       "\n",
       "  Tomatometer Rotten Critics Count                               Film ID  \n",
       "0                              3.0  2becf7d5-a3de-46ab-ae45-abdd6b588067  \n",
       "1                              NaN  19ed3295-a878-4fd2-8e60-5cd7b5f93dad  \n",
       "2                              NaN  3111c2d8-0908-4093-8ff3-99c89f2f2f08  \n",
       "3                             16.0  de063f3f-2d35-4e1c-8636-6eb4c16bd236  \n",
       "4                              NaN  609887c2-877c-43a4-b88c-e40e31096a98  \n",
       "5                              NaN  689f22d5-a700-4ce1-b9be-65652f32c186  \n",
       "6                              4.0  a0644f19-a136-44c2-ab5d-50978ef19608  \n",
       "\n",
       "[7 rows x 30 columns]"
      ]
     },
     "execution_count": 8,
     "metadata": {},
     "output_type": "execute_result"
    }
   ],
   "source": [
    "df = pd.read_csv('sem_2_oscars_df.csv', sep = ',' )\n",
    "df.head(7)"
   ]
  },
  {
   "cell_type": "markdown",
   "metadata": {},
   "source": [
    "В табличке есть огромное количество самых разных переменных. Их названия довольно интуитивны. Будем разбираться с тем, за что отвечает какая колонка по мере необходимости. Отметим пока только то, что все переменные разных типов."
   ]
  },
  {
   "cell_type": "markdown",
   "metadata": {},
   "source": [
    "---\n",
    "\n",
    "Есть несколько методов, которые мы используем сразу, как загрузили файл:\n",
    "- [head()](https://pandas.pydata.org/pandas-docs/stable/reference/api/pandas.DataFrame.head.html): выводит первые 5 строк таблицы. Если задать в скобках число, то покажет ровно столько строк :)\n",
    "- [info()](https://pandas.pydata.org/pandas-docs/stable/reference/api/pandas.DataFrame.info.html): показывает сводную информацию о таблице; сколько записей, сколько колонок, сколько непустых записей в таблице, \n",
    "- [tail()](https://pandas.pydata.org/pandas-docs/stable/reference/api/pandas.DataFrame.tail.html): работает как head(), только наоборот, печатает с конца\n",
    "\n",
    "На всякий случай, это **методы**. Их можно применять к датафрейму и столбцу, т.е. используем их так: <br>\n",
    "**[Имя датафрейма].[Название метода с круглыми скобками]**\n",
    "- df.head()\n",
    "- df.tail()\n",
    "- df.info()\n",
    "\n",
    "----\n",
    "\n",
    "\n",
    "На основную информацию по столбцам можно посмотреть с помощью метода `.info()`. Напротив каждого названия столбца можно увидеть, сколько в нём заполненных ячеек. Например, у $328$ человек из $425$ (общее число строк) заполнен город проживания `city`."
   ]
  },
  {
   "cell_type": "code",
   "execution_count": 11,
   "metadata": {},
   "outputs": [
    {
     "name": "stdout",
     "output_type": "stream",
     "text": [
      "<class 'pandas.core.frame.DataFrame'>\n",
      "RangeIndex: 571 entries, 0 to 570\n",
      "Data columns (total 30 columns):\n",
      " #   Column                            Non-Null Count  Dtype  \n",
      "---  ------                            --------------  -----  \n",
      " 0   Unnamed: 0                        571 non-null    int64  \n",
      " 1   Film                              571 non-null    object \n",
      " 2   Oscar Year                        571 non-null    object \n",
      " 3   Film Studio/Producer(s)           571 non-null    object \n",
      " 4   Award                             571 non-null    object \n",
      " 5   Year of Release                   571 non-null    int64  \n",
      " 6   Movie Time                        571 non-null    int64  \n",
      " 7   Movie Genre                       571 non-null    object \n",
      " 8   IMDB Rating                       571 non-null    float64\n",
      " 9   IMDB Votes                        571 non-null    object \n",
      " 10  Movie Info                        438 non-null    object \n",
      " 11  Genres                            439 non-null    object \n",
      " 12  Critic Consensus                  339 non-null    object \n",
      " 13  Content Rating                    439 non-null    object \n",
      " 14  Directors                         437 non-null    object \n",
      " 15  Authors                           437 non-null    object \n",
      " 16  Actors                            439 non-null    object \n",
      " 17  Original Release Date             439 non-null    object \n",
      " 18  Streaming Release Date            438 non-null    object \n",
      " 19  Production Company                439 non-null    object \n",
      " 20  Tomatometer Status                439 non-null    object \n",
      " 21  Tomatometer Rating                439 non-null    float64\n",
      " 22  Tomatometer Count                 439 non-null    float64\n",
      " 23  Audience Status                   436 non-null    object \n",
      " 24  Audience Rating                   439 non-null    float64\n",
      " 25  Audience Count                    439 non-null    float64\n",
      " 26  Tomatometer Top Critics Count     439 non-null    float64\n",
      " 27  Tomatometer Fresh Critics Count   439 non-null    float64\n",
      " 28  Tomatometer Rotten Critics Count  439 non-null    float64\n",
      " 29  Film ID                           571 non-null    object \n",
      "dtypes: float64(8), int64(3), object(19)\n",
      "memory usage: 134.0+ KB\n"
     ]
    }
   ],
   "source": [
    "df.info()"
   ]
  },
  {
   "cell_type": "markdown",
   "metadata": {},
   "source": [
    "Методов вроде `head()` и `info()` у табличек есть очень много. Давайте попробуем самые простые из них: \n",
    "\n",
    "### Задание 1.1:\n",
    "\n",
    "- Выведите на экран первые 10 строк таблички \n",
    "- Выведите последние 5 строк таблички (метод `tail()`)"
   ]
  },
  {
   "cell_type": "code",
   "execution_count": 33,
   "metadata": {},
   "outputs": [
    {
     "data": {
      "text/plain": [
       "0      7.5\n",
       "3      5.7\n",
       "8      8.1\n",
       "13     5.9\n",
       "18     7.4\n",
       "      ... \n",
       "520    8.1\n",
       "528    7.4\n",
       "537    7.3\n",
       "546    8.2\n",
       "554    8.6\n",
       "Name: IMDB Rating, Length: 93, dtype: float64"
      ]
     },
     "execution_count": 33,
     "metadata": {},
     "output_type": "execute_result"
    }
   ],
   "source": [
    "\n",
    "df[df['Award']==\"Winner\"]['IMDB Rating'] #мы оставляем строки в которых виннер, а потом забираем из остатков только одну колонку\n",
    "#это переменные ти па сириус"
   ]
  },
  {
   "cell_type": "code",
   "execution_count": 34,
   "metadata": {},
   "outputs": [
    {
     "data": {
      "text/plain": [
       "7.783870967741935"
      ]
     },
     "execution_count": 34,
     "metadata": {},
     "output_type": "execute_result"
    }
   ],
   "source": [
    "df[df['Award']==\"Winner\"]['IMDB Rating'].mean()"
   ]
  },
  {
   "cell_type": "code",
   "execution_count": 35,
   "metadata": {},
   "outputs": [
    {
     "data": {
      "text/plain": [
       "7.9"
      ]
     },
     "execution_count": 35,
     "metadata": {},
     "output_type": "execute_result"
    }
   ],
   "source": [
    "df[df['Award']==\"Winner\"]['IMDB Rating'].median()"
   ]
  },
  {
   "cell_type": "code",
   "execution_count": 36,
   "metadata": {},
   "outputs": [
    {
     "data": {
      "text/plain": [
       "0    8.1\n",
       "dtype: float64"
      ]
     },
     "execution_count": 36,
     "metadata": {},
     "output_type": "execute_result"
    }
   ],
   "source": [
    "df[df['Award']==\"Winner\"]['IMDB Rating'].mode()"
   ]
  },
  {
   "cell_type": "code",
   "execution_count": 37,
   "metadata": {},
   "outputs": [
    {
     "data": {
      "text/plain": [
       "7.783870967741935"
      ]
     },
     "execution_count": 37,
     "metadata": {},
     "output_type": "execute_result"
    }
   ],
   "source": [
    "df[df['Award']==\"Winner\"]['IMDB Rating'].sum()/df[df['Award']==\"Winner\"]['IMDB Rating'].shape[0]"
   ]
  },
  {
   "cell_type": "code",
   "execution_count": 38,
   "metadata": {},
   "outputs": [
    {
     "data": {
      "text/plain": [
       "0.4091935483870967"
      ]
     },
     "execution_count": 38,
     "metadata": {},
     "output_type": "execute_result"
    }
   ],
   "source": [
    "df[df['Award']==\"Winner\"]['IMDB Rating'].var() #дисперсия"
   ]
  },
  {
   "cell_type": "code",
   "execution_count": 39,
   "metadata": {},
   "outputs": [
    {
     "data": {
      "text/plain": [
       "0.6396823808634224"
      ]
     },
     "execution_count": 39,
     "metadata": {},
     "output_type": "execute_result"
    }
   ],
   "source": [
    "df[df['Award']==\"Winner\"]['IMDB Rating'].std() #ст откл"
   ]
  },
  {
   "cell_type": "code",
   "execution_count": 40,
   "metadata": {},
   "outputs": [
    {
     "data": {
      "text/html": [
       "<div>\n",
       "<style scoped>\n",
       "    .dataframe tbody tr th:only-of-type {\n",
       "        vertical-align: middle;\n",
       "    }\n",
       "\n",
       "    .dataframe tbody tr th {\n",
       "        vertical-align: top;\n",
       "    }\n",
       "\n",
       "    .dataframe thead th {\n",
       "        text-align: right;\n",
       "    }\n",
       "</style>\n",
       "<table border=\"1\" class=\"dataframe\">\n",
       "  <thead>\n",
       "    <tr style=\"text-align: right;\">\n",
       "      <th></th>\n",
       "      <th>Unnamed: 0</th>\n",
       "      <th>Year of Release</th>\n",
       "      <th>Movie Time</th>\n",
       "      <th>IMDB Rating</th>\n",
       "      <th>Tomatometer Rating</th>\n",
       "      <th>Tomatometer Count</th>\n",
       "      <th>Audience Rating</th>\n",
       "      <th>Audience Count</th>\n",
       "      <th>Tomatometer Top Critics Count</th>\n",
       "      <th>Tomatometer Fresh Critics Count</th>\n",
       "      <th>Tomatometer Rotten Critics Count</th>\n",
       "    </tr>\n",
       "  </thead>\n",
       "  <tbody>\n",
       "    <tr>\n",
       "      <th>count</th>\n",
       "      <td>571.000000</td>\n",
       "      <td>571.000000</td>\n",
       "      <td>571.000000</td>\n",
       "      <td>571.000000</td>\n",
       "      <td>439.000000</td>\n",
       "      <td>439.000000</td>\n",
       "      <td>439.000000</td>\n",
       "      <td>4.390000e+02</td>\n",
       "      <td>439.000000</td>\n",
       "      <td>439.000000</td>\n",
       "      <td>439.000000</td>\n",
       "    </tr>\n",
       "    <tr>\n",
       "      <th>mean</th>\n",
       "      <td>285.000000</td>\n",
       "      <td>1973.357268</td>\n",
       "      <td>124.894921</td>\n",
       "      <td>7.570403</td>\n",
       "      <td>87.503417</td>\n",
       "      <td>110.697039</td>\n",
       "      <td>82.428246</td>\n",
       "      <td>5.154145e+05</td>\n",
       "      <td>21.861048</td>\n",
       "      <td>98.471526</td>\n",
       "      <td>12.275626</td>\n",
       "    </tr>\n",
       "    <tr>\n",
       "      <th>std</th>\n",
       "      <td>164.977776</td>\n",
       "      <td>29.315738</td>\n",
       "      <td>26.322817</td>\n",
       "      <td>0.559652</td>\n",
       "      <td>11.690622</td>\n",
       "      <td>119.541406</td>\n",
       "      <td>10.927897</td>\n",
       "      <td>3.623107e+06</td>\n",
       "      <td>21.615492</td>\n",
       "      <td>107.798554</td>\n",
       "      <td>19.310232</td>\n",
       "    </tr>\n",
       "    <tr>\n",
       "      <th>min</th>\n",
       "      <td>0.000000</td>\n",
       "      <td>1927.000000</td>\n",
       "      <td>66.000000</td>\n",
       "      <td>5.600000</td>\n",
       "      <td>29.000000</td>\n",
       "      <td>5.000000</td>\n",
       "      <td>21.000000</td>\n",
       "      <td>6.000000e+00</td>\n",
       "      <td>0.000000</td>\n",
       "      <td>3.000000</td>\n",
       "      <td>0.000000</td>\n",
       "    </tr>\n",
       "    <tr>\n",
       "      <th>25%</th>\n",
       "      <td>142.500000</td>\n",
       "      <td>1944.000000</td>\n",
       "      <td>107.000000</td>\n",
       "      <td>7.300000</td>\n",
       "      <td>84.000000</td>\n",
       "      <td>25.000000</td>\n",
       "      <td>78.000000</td>\n",
       "      <td>6.637500e+03</td>\n",
       "      <td>5.000000</td>\n",
       "      <td>21.500000</td>\n",
       "      <td>2.000000</td>\n",
       "    </tr>\n",
       "    <tr>\n",
       "      <th>50%</th>\n",
       "      <td>285.000000</td>\n",
       "      <td>1972.000000</td>\n",
       "      <td>121.000000</td>\n",
       "      <td>7.600000</td>\n",
       "      <td>91.000000</td>\n",
       "      <td>54.000000</td>\n",
       "      <td>85.000000</td>\n",
       "      <td>3.716600e+04</td>\n",
       "      <td>11.000000</td>\n",
       "      <td>49.000000</td>\n",
       "      <td>5.000000</td>\n",
       "    </tr>\n",
       "    <tr>\n",
       "      <th>75%</th>\n",
       "      <td>427.500000</td>\n",
       "      <td>2001.000000</td>\n",
       "      <td>136.500000</td>\n",
       "      <td>7.900000</td>\n",
       "      <td>95.000000</td>\n",
       "      <td>199.000000</td>\n",
       "      <td>90.000000</td>\n",
       "      <td>1.255365e+05</td>\n",
       "      <td>45.000000</td>\n",
       "      <td>163.500000</td>\n",
       "      <td>15.000000</td>\n",
       "    </tr>\n",
       "    <tr>\n",
       "      <th>max</th>\n",
       "      <td>570.000000</td>\n",
       "      <td>2021.000000</td>\n",
       "      <td>238.000000</td>\n",
       "      <td>9.300000</td>\n",
       "      <td>100.000000</td>\n",
       "      <td>574.000000</td>\n",
       "      <td>98.000000</td>\n",
       "      <td>3.579764e+07</td>\n",
       "      <td>69.000000</td>\n",
       "      <td>495.000000</td>\n",
       "      <td>182.000000</td>\n",
       "    </tr>\n",
       "  </tbody>\n",
       "</table>\n",
       "</div>"
      ],
      "text/plain": [
       "       Unnamed: 0  Year of Release  Movie Time  IMDB Rating  \\\n",
       "count  571.000000       571.000000  571.000000   571.000000   \n",
       "mean   285.000000      1973.357268  124.894921     7.570403   \n",
       "std    164.977776        29.315738   26.322817     0.559652   \n",
       "min      0.000000      1927.000000   66.000000     5.600000   \n",
       "25%    142.500000      1944.000000  107.000000     7.300000   \n",
       "50%    285.000000      1972.000000  121.000000     7.600000   \n",
       "75%    427.500000      2001.000000  136.500000     7.900000   \n",
       "max    570.000000      2021.000000  238.000000     9.300000   \n",
       "\n",
       "       Tomatometer Rating  Tomatometer Count  Audience Rating  Audience Count  \\\n",
       "count          439.000000         439.000000       439.000000    4.390000e+02   \n",
       "mean            87.503417         110.697039        82.428246    5.154145e+05   \n",
       "std             11.690622         119.541406        10.927897    3.623107e+06   \n",
       "min             29.000000           5.000000        21.000000    6.000000e+00   \n",
       "25%             84.000000          25.000000        78.000000    6.637500e+03   \n",
       "50%             91.000000          54.000000        85.000000    3.716600e+04   \n",
       "75%             95.000000         199.000000        90.000000    1.255365e+05   \n",
       "max            100.000000         574.000000        98.000000    3.579764e+07   \n",
       "\n",
       "       Tomatometer Top Critics Count  Tomatometer Fresh Critics Count  \\\n",
       "count                     439.000000                       439.000000   \n",
       "mean                       21.861048                        98.471526   \n",
       "std                        21.615492                       107.798554   \n",
       "min                         0.000000                         3.000000   \n",
       "25%                         5.000000                        21.500000   \n",
       "50%                        11.000000                        49.000000   \n",
       "75%                        45.000000                       163.500000   \n",
       "max                        69.000000                       495.000000   \n",
       "\n",
       "       Tomatometer Rotten Critics Count  \n",
       "count                        439.000000  \n",
       "mean                          12.275626  \n",
       "std                           19.310232  \n",
       "min                            0.000000  \n",
       "25%                            2.000000  \n",
       "50%                            5.000000  \n",
       "75%                           15.000000  \n",
       "max                          182.000000  "
      ]
     },
     "execution_count": 40,
     "metadata": {},
     "output_type": "execute_result"
    }
   ],
   "source": [
    "df.describe()"
   ]
  },
  {
   "cell_type": "code",
   "execution_count": 42,
   "metadata": {},
   "outputs": [
    {
     "data": {
      "text/html": [
       "<div>\n",
       "<style scoped>\n",
       "    .dataframe tbody tr th:only-of-type {\n",
       "        vertical-align: middle;\n",
       "    }\n",
       "\n",
       "    .dataframe tbody tr th {\n",
       "        vertical-align: top;\n",
       "    }\n",
       "\n",
       "    .dataframe thead th {\n",
       "        text-align: right;\n",
       "    }\n",
       "</style>\n",
       "<table border=\"1\" class=\"dataframe\">\n",
       "  <thead>\n",
       "    <tr style=\"text-align: right;\">\n",
       "      <th></th>\n",
       "      <th>Film</th>\n",
       "      <th>Oscar Year</th>\n",
       "      <th>Film Studio/Producer(s)</th>\n",
       "      <th>Award</th>\n",
       "      <th>Movie Genre</th>\n",
       "      <th>IMDB Votes</th>\n",
       "      <th>Movie Info</th>\n",
       "      <th>Genres</th>\n",
       "      <th>Critic Consensus</th>\n",
       "      <th>Content Rating</th>\n",
       "      <th>Directors</th>\n",
       "      <th>Authors</th>\n",
       "      <th>Actors</th>\n",
       "      <th>Original Release Date</th>\n",
       "      <th>Streaming Release Date</th>\n",
       "      <th>Production Company</th>\n",
       "      <th>Tomatometer Status</th>\n",
       "      <th>Audience Status</th>\n",
       "      <th>Film ID</th>\n",
       "      <th>new_column</th>\n",
       "    </tr>\n",
       "  </thead>\n",
       "  <tbody>\n",
       "    <tr>\n",
       "      <th>count</th>\n",
       "      <td>571</td>\n",
       "      <td>571</td>\n",
       "      <td>571</td>\n",
       "      <td>571</td>\n",
       "      <td>571</td>\n",
       "      <td>571</td>\n",
       "      <td>571</td>\n",
       "      <td>439</td>\n",
       "      <td>339</td>\n",
       "      <td>439</td>\n",
       "      <td>437</td>\n",
       "      <td>437</td>\n",
       "      <td>439</td>\n",
       "      <td>439</td>\n",
       "      <td>438</td>\n",
       "      <td>439</td>\n",
       "      <td>439</td>\n",
       "      <td>436</td>\n",
       "      <td>571</td>\n",
       "      <td>571</td>\n",
       "    </tr>\n",
       "    <tr>\n",
       "      <th>unique</th>\n",
       "      <td>564</td>\n",
       "      <td>93</td>\n",
       "      <td>378</td>\n",
       "      <td>2</td>\n",
       "      <td>128</td>\n",
       "      <td>570</td>\n",
       "      <td>439</td>\n",
       "      <td>107</td>\n",
       "      <td>339</td>\n",
       "      <td>5</td>\n",
       "      <td>262</td>\n",
       "      <td>397</td>\n",
       "      <td>439</td>\n",
       "      <td>420</td>\n",
       "      <td>214</td>\n",
       "      <td>104</td>\n",
       "      <td>3</td>\n",
       "      <td>2</td>\n",
       "      <td>571</td>\n",
       "      <td>564</td>\n",
       "    </tr>\n",
       "    <tr>\n",
       "      <th>top</th>\n",
       "      <td>Cleopatra</td>\n",
       "      <td>1934</td>\n",
       "      <td>Metro-Goldwyn-Mayer</td>\n",
       "      <td>Nominee</td>\n",
       "      <td>Drama,Romance</td>\n",
       "      <td>147,893</td>\n",
       "      <td>No description</td>\n",
       "      <td>Drama</td>\n",
       "      <td>Subsequent war epics may have borrowed heavily...</td>\n",
       "      <td>R</td>\n",
       "      <td>William Wyler</td>\n",
       "      <td>Ernest Lehman</td>\n",
       "      <td>Clara Bow, Charles 'Buddy' Rogers, Richard Arl...</td>\n",
       "      <td>2002-12-27</td>\n",
       "      <td>2012-04-16</td>\n",
       "      <td>Paramount Pictures</td>\n",
       "      <td>Certified-Fresh</td>\n",
       "      <td>Upright</td>\n",
       "      <td>2becf7d5-a3de-46ab-ae45-abdd6b588067</td>\n",
       "      <td>Cleopatra Nominee</td>\n",
       "    </tr>\n",
       "    <tr>\n",
       "      <th>freq</th>\n",
       "      <td>2</td>\n",
       "      <td>12</td>\n",
       "      <td>40</td>\n",
       "      <td>478</td>\n",
       "      <td>62</td>\n",
       "      <td>2</td>\n",
       "      <td>133</td>\n",
       "      <td>78</td>\n",
       "      <td>1</td>\n",
       "      <td>138</td>\n",
       "      <td>11</td>\n",
       "      <td>5</td>\n",
       "      <td>1</td>\n",
       "      <td>3</td>\n",
       "      <td>35</td>\n",
       "      <td>33</td>\n",
       "      <td>263</td>\n",
       "      <td>417</td>\n",
       "      <td>1</td>\n",
       "      <td>2</td>\n",
       "    </tr>\n",
       "  </tbody>\n",
       "</table>\n",
       "</div>"
      ],
      "text/plain": [
       "             Film Oscar Year Film Studio/Producer(s)    Award    Movie Genre  \\\n",
       "count         571        571                     571      571            571   \n",
       "unique        564         93                     378        2            128   \n",
       "top     Cleopatra       1934     Metro-Goldwyn-Mayer  Nominee  Drama,Romance   \n",
       "freq            2         12                      40      478             62   \n",
       "\n",
       "       IMDB Votes      Movie Info Genres  \\\n",
       "count         571             571    439   \n",
       "unique        570             439    107   \n",
       "top       147,893  No description  Drama   \n",
       "freq            2             133     78   \n",
       "\n",
       "                                         Critic Consensus Content Rating  \\\n",
       "count                                                 339            439   \n",
       "unique                                                339              5   \n",
       "top     Subsequent war epics may have borrowed heavily...              R   \n",
       "freq                                                    1            138   \n",
       "\n",
       "            Directors        Authors  \\\n",
       "count             437            437   \n",
       "unique            262            397   \n",
       "top     William Wyler  Ernest Lehman   \n",
       "freq               11              5   \n",
       "\n",
       "                                                   Actors  \\\n",
       "count                                                 439   \n",
       "unique                                                439   \n",
       "top     Clara Bow, Charles 'Buddy' Rogers, Richard Arl...   \n",
       "freq                                                    1   \n",
       "\n",
       "       Original Release Date Streaming Release Date  Production Company  \\\n",
       "count                    439                    438                 439   \n",
       "unique                   420                    214                 104   \n",
       "top               2002-12-27             2012-04-16  Paramount Pictures   \n",
       "freq                       3                     35                  33   \n",
       "\n",
       "       Tomatometer Status Audience Status  \\\n",
       "count                 439             436   \n",
       "unique                  3               2   \n",
       "top       Certified-Fresh         Upright   \n",
       "freq                  263             417   \n",
       "\n",
       "                                     Film ID         new_column  \n",
       "count                                    571                571  \n",
       "unique                                   571                564  \n",
       "top     2becf7d5-a3de-46ab-ae45-abdd6b588067  Cleopatra Nominee  \n",
       "freq                                       1                  2  "
      ]
     },
     "execution_count": 42,
     "metadata": {},
     "output_type": "execute_result"
    }
   ],
   "source": [
    "df.describe(include='object')"
   ]
  },
  {
   "cell_type": "code",
   "execution_count": null,
   "metadata": {},
   "outputs": [],
   "source": []
  },
  {
   "cell_type": "code",
   "execution_count": null,
   "metadata": {},
   "outputs": [],
   "source": []
  },
  {
   "cell_type": "code",
   "execution_count": null,
   "metadata": {},
   "outputs": [],
   "source": []
  },
  {
   "cell_type": "markdown",
   "metadata": {},
   "source": [
    "еще мы должны были разобрать\n",
    "нон пай работает с матрицами, нужен больше для обработки данных чем для работы с алгоритмами"
   ]
  },
  {
   "cell_type": "code",
   "execution_count": null,
   "metadata": {},
   "outputs": [],
   "source": []
  },
  {
   "cell_type": "code",
   "execution_count": null,
   "metadata": {},
   "outputs": [],
   "source": []
  },
  {
   "cell_type": "code",
   "execution_count": null,
   "metadata": {},
   "outputs": [],
   "source": []
  },
  {
   "cell_type": "code",
   "execution_count": null,
   "metadata": {},
   "outputs": [],
   "source": []
  },
  {
   "cell_type": "code",
   "execution_count": null,
   "metadata": {},
   "outputs": [],
   "source": []
  },
  {
   "cell_type": "code",
   "execution_count": null,
   "metadata": {},
   "outputs": [],
   "source": []
  },
  {
   "cell_type": "markdown",
   "metadata": {},
   "source": [
    "----------\n",
    "### Поля\n",
    "Кроме методов, у датафреймом есть еще поля. Это справочная информация о датафрейме. Список полей\n",
    "<a href=\"https://pandas.pydata.org/pandas-docs/stable/reference/frame.html\"> здесь </a>.\n",
    "\n",
    "Чаще всего мы используем поля: \n",
    "- **columns**: названия колонок\n",
    "- **index**: названия строк\n",
    "- **shape**: размеры датафрейма, кол-во строк и столбцов\n",
    "\n",
    "Использование:\n",
    "\n",
    "**[Имя датафрейма].[Имя поля]**\n",
    "\n",
    "- df.columns\n",
    "- df.index\n",
    "- df.shape\n",
    "\n",
    "Обратите внимание: нет круглых скобок!"
   ]
  },
  {
   "cell_type": "code",
   "execution_count": null,
   "metadata": {},
   "outputs": [],
   "source": [
    "для дата фрейма нужно две квадратных скобки\n",
    "если будут только одни то это будут данные типпа serious"
   ]
  },
  {
   "cell_type": "code",
   "execution_count": 14,
   "metadata": {},
   "outputs": [
    {
     "data": {
      "text/html": [
       "<div>\n",
       "<style scoped>\n",
       "    .dataframe tbody tr th:only-of-type {\n",
       "        vertical-align: middle;\n",
       "    }\n",
       "\n",
       "    .dataframe tbody tr th {\n",
       "        vertical-align: top;\n",
       "    }\n",
       "\n",
       "    .dataframe thead th {\n",
       "        text-align: right;\n",
       "    }\n",
       "</style>\n",
       "<table border=\"1\" class=\"dataframe\">\n",
       "  <thead>\n",
       "    <tr style=\"text-align: right;\">\n",
       "      <th></th>\n",
       "      <th>Film</th>\n",
       "    </tr>\n",
       "  </thead>\n",
       "  <tbody>\n",
       "    <tr>\n",
       "      <th>0</th>\n",
       "      <td>Wings</td>\n",
       "    </tr>\n",
       "    <tr>\n",
       "      <th>1</th>\n",
       "      <td>7th Heaven</td>\n",
       "    </tr>\n",
       "    <tr>\n",
       "      <th>2</th>\n",
       "      <td>The Racket</td>\n",
       "    </tr>\n",
       "    <tr>\n",
       "      <th>3</th>\n",
       "      <td>The Broadway Melody</td>\n",
       "    </tr>\n",
       "    <tr>\n",
       "      <th>4</th>\n",
       "      <td>Alibi</td>\n",
       "    </tr>\n",
       "    <tr>\n",
       "      <th>...</th>\n",
       "      <td>...</td>\n",
       "    </tr>\n",
       "    <tr>\n",
       "      <th>566</th>\n",
       "      <td>Mank</td>\n",
       "    </tr>\n",
       "    <tr>\n",
       "      <th>567</th>\n",
       "      <td>Minari</td>\n",
       "    </tr>\n",
       "    <tr>\n",
       "      <th>568</th>\n",
       "      <td>Promising Young Woman</td>\n",
       "    </tr>\n",
       "    <tr>\n",
       "      <th>569</th>\n",
       "      <td>Sound of Metal</td>\n",
       "    </tr>\n",
       "    <tr>\n",
       "      <th>570</th>\n",
       "      <td>The Trial of the Chicago 7</td>\n",
       "    </tr>\n",
       "  </tbody>\n",
       "</table>\n",
       "<p>571 rows × 1 columns</p>\n",
       "</div>"
      ],
      "text/plain": [
       "                           Film\n",
       "0                         Wings\n",
       "1                    7th Heaven\n",
       "2                    The Racket\n",
       "3           The Broadway Melody\n",
       "4                         Alibi\n",
       "..                          ...\n",
       "566                        Mank\n",
       "567                      Minari\n",
       "568       Promising Young Woman\n",
       "569              Sound of Metal\n",
       "570  The Trial of the Chicago 7\n",
       "\n",
       "[571 rows x 1 columns]"
      ]
     },
     "execution_count": 14,
     "metadata": {},
     "output_type": "execute_result"
    }
   ],
   "source": [
    "df[['Film']]"
   ]
  },
  {
   "cell_type": "code",
   "execution_count": 15,
   "metadata": {},
   "outputs": [
    {
     "data": {
      "text/html": [
       "<div>\n",
       "<style scoped>\n",
       "    .dataframe tbody tr th:only-of-type {\n",
       "        vertical-align: middle;\n",
       "    }\n",
       "\n",
       "    .dataframe tbody tr th {\n",
       "        vertical-align: top;\n",
       "    }\n",
       "\n",
       "    .dataframe thead th {\n",
       "        text-align: right;\n",
       "    }\n",
       "</style>\n",
       "<table border=\"1\" class=\"dataframe\">\n",
       "  <thead>\n",
       "    <tr style=\"text-align: right;\">\n",
       "      <th></th>\n",
       "      <th>Film</th>\n",
       "      <th>Genres</th>\n",
       "    </tr>\n",
       "  </thead>\n",
       "  <tbody>\n",
       "    <tr>\n",
       "      <th>0</th>\n",
       "      <td>Wings</td>\n",
       "      <td>Action &amp; Adventure, Classics</td>\n",
       "    </tr>\n",
       "    <tr>\n",
       "      <th>1</th>\n",
       "      <td>7th Heaven</td>\n",
       "      <td>NaN</td>\n",
       "    </tr>\n",
       "    <tr>\n",
       "      <th>2</th>\n",
       "      <td>The Racket</td>\n",
       "      <td>NaN</td>\n",
       "    </tr>\n",
       "    <tr>\n",
       "      <th>3</th>\n",
       "      <td>The Broadway Melody</td>\n",
       "      <td>Musical &amp; Performing Arts, Romance</td>\n",
       "    </tr>\n",
       "    <tr>\n",
       "      <th>4</th>\n",
       "      <td>Alibi</td>\n",
       "      <td>NaN</td>\n",
       "    </tr>\n",
       "    <tr>\n",
       "      <th>...</th>\n",
       "      <td>...</td>\n",
       "      <td>...</td>\n",
       "    </tr>\n",
       "    <tr>\n",
       "      <th>566</th>\n",
       "      <td>Mank</td>\n",
       "      <td>NaN</td>\n",
       "    </tr>\n",
       "    <tr>\n",
       "      <th>567</th>\n",
       "      <td>Minari</td>\n",
       "      <td>NaN</td>\n",
       "    </tr>\n",
       "    <tr>\n",
       "      <th>568</th>\n",
       "      <td>Promising Young Woman</td>\n",
       "      <td>NaN</td>\n",
       "    </tr>\n",
       "    <tr>\n",
       "      <th>569</th>\n",
       "      <td>Sound of Metal</td>\n",
       "      <td>NaN</td>\n",
       "    </tr>\n",
       "    <tr>\n",
       "      <th>570</th>\n",
       "      <td>The Trial of the Chicago 7</td>\n",
       "      <td>NaN</td>\n",
       "    </tr>\n",
       "  </tbody>\n",
       "</table>\n",
       "<p>571 rows × 2 columns</p>\n",
       "</div>"
      ],
      "text/plain": [
       "                           Film                              Genres\n",
       "0                         Wings        Action & Adventure, Classics\n",
       "1                    7th Heaven                                 NaN\n",
       "2                    The Racket                                 NaN\n",
       "3           The Broadway Melody  Musical & Performing Arts, Romance\n",
       "4                         Alibi                                 NaN\n",
       "..                          ...                                 ...\n",
       "566                        Mank                                 NaN\n",
       "567                      Minari                                 NaN\n",
       "568       Promising Young Woman                                 NaN\n",
       "569              Sound of Metal                                 NaN\n",
       "570  The Trial of the Chicago 7                                 NaN\n",
       "\n",
       "[571 rows x 2 columns]"
      ]
     },
     "execution_count": 15,
     "metadata": {},
     "output_type": "execute_result"
    }
   ],
   "source": [
    "df[['Film', 'Genres']]"
   ]
  },
  {
   "cell_type": "markdown",
   "metadata": {},
   "source": [
    "### Задание 1.2: \n",
    "- Выясните сколько в таблице строк и столбцов (метод `shape`)\n",
    "- Выведите на экран названия всех колонок таблицы (метод `columns`)"
   ]
  },
  {
   "cell_type": "code",
   "execution_count": 18,
   "metadata": {},
   "outputs": [
    {
     "data": {
      "text/html": [
       "<div>\n",
       "<style scoped>\n",
       "    .dataframe tbody tr th:only-of-type {\n",
       "        vertical-align: middle;\n",
       "    }\n",
       "\n",
       "    .dataframe tbody tr th {\n",
       "        vertical-align: top;\n",
       "    }\n",
       "\n",
       "    .dataframe thead th {\n",
       "        text-align: right;\n",
       "    }\n",
       "</style>\n",
       "<table border=\"1\" class=\"dataframe\">\n",
       "  <thead>\n",
       "    <tr style=\"text-align: right;\">\n",
       "      <th></th>\n",
       "      <th>new_column</th>\n",
       "    </tr>\n",
       "  </thead>\n",
       "  <tbody>\n",
       "    <tr>\n",
       "      <th>0</th>\n",
       "      <td>Wings Winner</td>\n",
       "    </tr>\n",
       "    <tr>\n",
       "      <th>1</th>\n",
       "      <td>7th Heaven Nominee</td>\n",
       "    </tr>\n",
       "    <tr>\n",
       "      <th>2</th>\n",
       "      <td>The Racket Nominee</td>\n",
       "    </tr>\n",
       "    <tr>\n",
       "      <th>3</th>\n",
       "      <td>The Broadway Melody Winner</td>\n",
       "    </tr>\n",
       "    <tr>\n",
       "      <th>4</th>\n",
       "      <td>Alibi Nominee</td>\n",
       "    </tr>\n",
       "    <tr>\n",
       "      <th>...</th>\n",
       "      <td>...</td>\n",
       "    </tr>\n",
       "    <tr>\n",
       "      <th>566</th>\n",
       "      <td>Mank Nominee</td>\n",
       "    </tr>\n",
       "    <tr>\n",
       "      <th>567</th>\n",
       "      <td>Minari Nominee</td>\n",
       "    </tr>\n",
       "    <tr>\n",
       "      <th>568</th>\n",
       "      <td>Promising Young Woman Nominee</td>\n",
       "    </tr>\n",
       "    <tr>\n",
       "      <th>569</th>\n",
       "      <td>Sound of Metal Nominee</td>\n",
       "    </tr>\n",
       "    <tr>\n",
       "      <th>570</th>\n",
       "      <td>The Trial of the Chicago 7 Nominee</td>\n",
       "    </tr>\n",
       "  </tbody>\n",
       "</table>\n",
       "<p>571 rows × 1 columns</p>\n",
       "</div>"
      ],
      "text/plain": [
       "                             new_column\n",
       "0                          Wings Winner\n",
       "1                    7th Heaven Nominee\n",
       "2                    The Racket Nominee\n",
       "3            The Broadway Melody Winner\n",
       "4                         Alibi Nominee\n",
       "..                                  ...\n",
       "566                        Mank Nominee\n",
       "567                      Minari Nominee\n",
       "568       Promising Young Woman Nominee\n",
       "569              Sound of Metal Nominee\n",
       "570  The Trial of the Chicago 7 Nominee\n",
       "\n",
       "[571 rows x 1 columns]"
      ]
     },
     "execution_count": 18,
     "metadata": {},
     "output_type": "execute_result"
    }
   ],
   "source": [
    "df['new_column']= df['Film'] + ' ' + df['Award'] #добавление своего столбика\n",
    "df[['new_column']]"
   ]
  },
  {
   "cell_type": "code",
   "execution_count": 19,
   "metadata": {},
   "outputs": [
    {
     "data": {
      "text/plain": [
       "array(['Winner', 'Nominee'], dtype=object)"
      ]
     },
     "execution_count": 19,
     "metadata": {},
     "output_type": "execute_result"
    }
   ],
   "source": [
    "df['Award'].unique() #чтобы увидеть грубо говоря все множество значений которое есть в ячейках"
   ]
  },
  {
   "cell_type": "code",
   "execution_count": 20,
   "metadata": {},
   "outputs": [
    {
     "data": {
      "text/plain": [
       "Nominee    478\n",
       "Winner      93\n",
       "Name: Award, dtype: int64"
      ]
     },
     "execution_count": 20,
     "metadata": {},
     "output_type": "execute_result"
    }
   ],
   "source": [
    "df['Award'].value_counts() #грубо говоря как часто то или иное значение встречается в колонке\n"
   ]
  },
  {
   "cell_type": "code",
   "execution_count": 21,
   "metadata": {},
   "outputs": [
    {
     "data": {
      "text/html": [
       "<div>\n",
       "<style scoped>\n",
       "    .dataframe tbody tr th:only-of-type {\n",
       "        vertical-align: middle;\n",
       "    }\n",
       "\n",
       "    .dataframe tbody tr th {\n",
       "        vertical-align: top;\n",
       "    }\n",
       "\n",
       "    .dataframe thead th {\n",
       "        text-align: right;\n",
       "    }\n",
       "</style>\n",
       "<table border=\"1\" class=\"dataframe\">\n",
       "  <thead>\n",
       "    <tr style=\"text-align: right;\">\n",
       "      <th></th>\n",
       "      <th>Unnamed: 0</th>\n",
       "      <th>Film</th>\n",
       "      <th>Oscar Year</th>\n",
       "      <th>Film Studio/Producer(s)</th>\n",
       "      <th>Award</th>\n",
       "      <th>Year of Release</th>\n",
       "      <th>Movie Time</th>\n",
       "      <th>Movie Genre</th>\n",
       "      <th>IMDB Rating</th>\n",
       "      <th>IMDB Votes</th>\n",
       "      <th>...</th>\n",
       "      <th>Tomatometer Rating</th>\n",
       "      <th>Tomatometer Count</th>\n",
       "      <th>Audience Status</th>\n",
       "      <th>Audience Rating</th>\n",
       "      <th>Audience Count</th>\n",
       "      <th>Tomatometer Top Critics Count</th>\n",
       "      <th>Tomatometer Fresh Critics Count</th>\n",
       "      <th>Tomatometer Rotten Critics Count</th>\n",
       "      <th>Film ID</th>\n",
       "      <th>new_column</th>\n",
       "    </tr>\n",
       "  </thead>\n",
       "  <tbody>\n",
       "    <tr>\n",
       "      <th>0</th>\n",
       "      <td>0</td>\n",
       "      <td>Wings</td>\n",
       "      <td>1927/28</td>\n",
       "      <td>Famous Players-Lasky</td>\n",
       "      <td>Winner</td>\n",
       "      <td>1927</td>\n",
       "      <td>144</td>\n",
       "      <td>Drama,Romance,War</td>\n",
       "      <td>7.5</td>\n",
       "      <td>12,221</td>\n",
       "      <td>...</td>\n",
       "      <td>93.0</td>\n",
       "      <td>46.0</td>\n",
       "      <td>Upright</td>\n",
       "      <td>78.0</td>\n",
       "      <td>3530.0</td>\n",
       "      <td>9.0</td>\n",
       "      <td>43.0</td>\n",
       "      <td>3.0</td>\n",
       "      <td>2becf7d5-a3de-46ab-ae45-abdd6b588067</td>\n",
       "      <td>Wings Winner</td>\n",
       "    </tr>\n",
       "    <tr>\n",
       "      <th>3</th>\n",
       "      <td>3</td>\n",
       "      <td>The Broadway Melody</td>\n",
       "      <td>1928/29</td>\n",
       "      <td>Metro-Goldwyn-Mayer</td>\n",
       "      <td>Winner</td>\n",
       "      <td>1929</td>\n",
       "      <td>100</td>\n",
       "      <td>Drama,Musical,Romance</td>\n",
       "      <td>5.7</td>\n",
       "      <td>6,890</td>\n",
       "      <td>...</td>\n",
       "      <td>33.0</td>\n",
       "      <td>24.0</td>\n",
       "      <td>Spilled</td>\n",
       "      <td>21.0</td>\n",
       "      <td>1813.0</td>\n",
       "      <td>7.0</td>\n",
       "      <td>8.0</td>\n",
       "      <td>16.0</td>\n",
       "      <td>de063f3f-2d35-4e1c-8636-6eb4c16bd236</td>\n",
       "      <td>The Broadway Melody Winner</td>\n",
       "    </tr>\n",
       "    <tr>\n",
       "      <th>8</th>\n",
       "      <td>8</td>\n",
       "      <td>All Quiet on the Western Front</td>\n",
       "      <td>1929/30</td>\n",
       "      <td>Universal</td>\n",
       "      <td>Winner</td>\n",
       "      <td>1930</td>\n",
       "      <td>152</td>\n",
       "      <td>Drama,War</td>\n",
       "      <td>8.1</td>\n",
       "      <td>59,214</td>\n",
       "      <td>...</td>\n",
       "      <td>NaN</td>\n",
       "      <td>NaN</td>\n",
       "      <td>NaN</td>\n",
       "      <td>NaN</td>\n",
       "      <td>NaN</td>\n",
       "      <td>NaN</td>\n",
       "      <td>NaN</td>\n",
       "      <td>NaN</td>\n",
       "      <td>281742f9-3b4e-480d-b704-c8c15de6b721</td>\n",
       "      <td>All Quiet on the Western Front Winner</td>\n",
       "    </tr>\n",
       "    <tr>\n",
       "      <th>13</th>\n",
       "      <td>13</td>\n",
       "      <td>Cimarron</td>\n",
       "      <td>1930/31</td>\n",
       "      <td>RKO Radio</td>\n",
       "      <td>Winner</td>\n",
       "      <td>1931</td>\n",
       "      <td>123</td>\n",
       "      <td>Drama,Western</td>\n",
       "      <td>5.9</td>\n",
       "      <td>5,851</td>\n",
       "      <td>...</td>\n",
       "      <td>50.0</td>\n",
       "      <td>24.0</td>\n",
       "      <td>Spilled</td>\n",
       "      <td>25.0</td>\n",
       "      <td>1514.0</td>\n",
       "      <td>6.0</td>\n",
       "      <td>12.0</td>\n",
       "      <td>12.0</td>\n",
       "      <td>db2683c0-128e-4b5c-858f-d9f18c2fb9b9</td>\n",
       "      <td>Cimarron Winner</td>\n",
       "    </tr>\n",
       "    <tr>\n",
       "      <th>18</th>\n",
       "      <td>18</td>\n",
       "      <td>Grand Hotel</td>\n",
       "      <td>1931/32</td>\n",
       "      <td>Metro-Goldwyn-Mayer</td>\n",
       "      <td>Winner</td>\n",
       "      <td>1932</td>\n",
       "      <td>112</td>\n",
       "      <td>Drama,Romance</td>\n",
       "      <td>7.4</td>\n",
       "      <td>18,314</td>\n",
       "      <td>...</td>\n",
       "      <td>86.0</td>\n",
       "      <td>42.0</td>\n",
       "      <td>Upright</td>\n",
       "      <td>77.0</td>\n",
       "      <td>7014.0</td>\n",
       "      <td>10.0</td>\n",
       "      <td>36.0</td>\n",
       "      <td>6.0</td>\n",
       "      <td>be69f946-6adc-47e4-8491-79d6c033f59d</td>\n",
       "      <td>Grand Hotel Winner</td>\n",
       "    </tr>\n",
       "  </tbody>\n",
       "</table>\n",
       "<p>5 rows × 31 columns</p>\n",
       "</div>"
      ],
      "text/plain": [
       "    Unnamed: 0                            Film Oscar Year  \\\n",
       "0            0                           Wings    1927/28   \n",
       "3            3             The Broadway Melody    1928/29   \n",
       "8            8  All Quiet on the Western Front    1929/30   \n",
       "13          13                        Cimarron    1930/31   \n",
       "18          18                     Grand Hotel    1931/32   \n",
       "\n",
       "   Film Studio/Producer(s)   Award  Year of Release  Movie Time  \\\n",
       "0     Famous Players-Lasky  Winner             1927         144   \n",
       "3      Metro-Goldwyn-Mayer  Winner             1929         100   \n",
       "8                Universal  Winner             1930         152   \n",
       "13               RKO Radio  Winner             1931         123   \n",
       "18     Metro-Goldwyn-Mayer  Winner             1932         112   \n",
       "\n",
       "              Movie Genre  IMDB Rating IMDB Votes  ... Tomatometer Rating  \\\n",
       "0       Drama,Romance,War          7.5     12,221  ...               93.0   \n",
       "3   Drama,Musical,Romance          5.7      6,890  ...               33.0   \n",
       "8               Drama,War          8.1     59,214  ...                NaN   \n",
       "13          Drama,Western          5.9      5,851  ...               50.0   \n",
       "18          Drama,Romance          7.4     18,314  ...               86.0   \n",
       "\n",
       "   Tomatometer Count Audience Status Audience Rating Audience Count  \\\n",
       "0               46.0         Upright            78.0         3530.0   \n",
       "3               24.0         Spilled            21.0         1813.0   \n",
       "8                NaN             NaN             NaN            NaN   \n",
       "13              24.0         Spilled            25.0         1514.0   \n",
       "18              42.0         Upright            77.0         7014.0   \n",
       "\n",
       "   Tomatometer Top Critics Count Tomatometer Fresh Critics Count  \\\n",
       "0                            9.0                            43.0   \n",
       "3                            7.0                             8.0   \n",
       "8                            NaN                             NaN   \n",
       "13                           6.0                            12.0   \n",
       "18                          10.0                            36.0   \n",
       "\n",
       "   Tomatometer Rotten Critics Count                               Film ID  \\\n",
       "0                               3.0  2becf7d5-a3de-46ab-ae45-abdd6b588067   \n",
       "3                              16.0  de063f3f-2d35-4e1c-8636-6eb4c16bd236   \n",
       "8                               NaN  281742f9-3b4e-480d-b704-c8c15de6b721   \n",
       "13                             12.0  db2683c0-128e-4b5c-858f-d9f18c2fb9b9   \n",
       "18                              6.0  be69f946-6adc-47e4-8491-79d6c033f59d   \n",
       "\n",
       "                               new_column  \n",
       "0                            Wings Winner  \n",
       "3              The Broadway Melody Winner  \n",
       "8   All Quiet on the Western Front Winner  \n",
       "13                        Cimarron Winner  \n",
       "18                     Grand Hotel Winner  \n",
       "\n",
       "[5 rows x 31 columns]"
      ]
     },
     "execution_count": 21,
     "metadata": {},
     "output_type": "execute_result"
    }
   ],
   "source": [
    "df[df['Award']=='Winner'].head(5) #выводим только строки в которых виннер, head это первые пять виннеров"
   ]
  },
  {
   "cell_type": "code",
   "execution_count": 23,
   "metadata": {},
   "outputs": [
    {
     "data": {
      "text/html": [
       "<div>\n",
       "<style scoped>\n",
       "    .dataframe tbody tr th:only-of-type {\n",
       "        vertical-align: middle;\n",
       "    }\n",
       "\n",
       "    .dataframe tbody tr th {\n",
       "        vertical-align: top;\n",
       "    }\n",
       "\n",
       "    .dataframe thead th {\n",
       "        text-align: right;\n",
       "    }\n",
       "</style>\n",
       "<table border=\"1\" class=\"dataframe\">\n",
       "  <thead>\n",
       "    <tr style=\"text-align: right;\">\n",
       "      <th></th>\n",
       "      <th>Unnamed: 0</th>\n",
       "      <th>Film</th>\n",
       "      <th>Oscar Year</th>\n",
       "      <th>Film Studio/Producer(s)</th>\n",
       "      <th>Award</th>\n",
       "      <th>Year of Release</th>\n",
       "      <th>Movie Time</th>\n",
       "      <th>Movie Genre</th>\n",
       "      <th>IMDB Rating</th>\n",
       "      <th>IMDB Votes</th>\n",
       "      <th>...</th>\n",
       "      <th>Tomatometer Rating</th>\n",
       "      <th>Tomatometer Count</th>\n",
       "      <th>Audience Status</th>\n",
       "      <th>Audience Rating</th>\n",
       "      <th>Audience Count</th>\n",
       "      <th>Tomatometer Top Critics Count</th>\n",
       "      <th>Tomatometer Fresh Critics Count</th>\n",
       "      <th>Tomatometer Rotten Critics Count</th>\n",
       "      <th>Film ID</th>\n",
       "      <th>new_column</th>\n",
       "    </tr>\n",
       "  </thead>\n",
       "  <tbody>\n",
       "    <tr>\n",
       "      <th>420</th>\n",
       "      <td>420</td>\n",
       "      <td>Gladiator</td>\n",
       "      <td>2000</td>\n",
       "      <td>Douglas Wick, David Franzoni, and Branko Lustig</td>\n",
       "      <td>Winner</td>\n",
       "      <td>2000</td>\n",
       "      <td>155</td>\n",
       "      <td>Action,Adventure,Drama</td>\n",
       "      <td>8.5</td>\n",
       "      <td>1,393,352</td>\n",
       "      <td>...</td>\n",
       "      <td>77.0</td>\n",
       "      <td>199.0</td>\n",
       "      <td>Upright</td>\n",
       "      <td>87.0</td>\n",
       "      <td>34128168.0</td>\n",
       "      <td>49.0</td>\n",
       "      <td>153.0</td>\n",
       "      <td>46.0</td>\n",
       "      <td>3e67a3b9-f24a-420b-b9f8-78870126e1df</td>\n",
       "      <td>Gladiator Winner</td>\n",
       "    </tr>\n",
       "    <tr>\n",
       "      <th>425</th>\n",
       "      <td>425</td>\n",
       "      <td>A Beautiful Mind</td>\n",
       "      <td>2001</td>\n",
       "      <td>Brian Grazer and Ron Howard</td>\n",
       "      <td>Winner</td>\n",
       "      <td>2001</td>\n",
       "      <td>135</td>\n",
       "      <td>Biography,Drama</td>\n",
       "      <td>8.2</td>\n",
       "      <td>878,511</td>\n",
       "      <td>...</td>\n",
       "      <td>74.0</td>\n",
       "      <td>213.0</td>\n",
       "      <td>Upright</td>\n",
       "      <td>93.0</td>\n",
       "      <td>490923.0</td>\n",
       "      <td>47.0</td>\n",
       "      <td>158.0</td>\n",
       "      <td>55.0</td>\n",
       "      <td>69218a0a-fbd1-4a2b-a19b-fc194d43d435</td>\n",
       "      <td>A Beautiful Mind Winner</td>\n",
       "    </tr>\n",
       "    <tr>\n",
       "      <th>430</th>\n",
       "      <td>430</td>\n",
       "      <td>Chicago</td>\n",
       "      <td>2002</td>\n",
       "      <td>Martin Richards</td>\n",
       "      <td>Winner</td>\n",
       "      <td>2002</td>\n",
       "      <td>113</td>\n",
       "      <td>Comedy,Crime,Musical</td>\n",
       "      <td>7.2</td>\n",
       "      <td>221,622</td>\n",
       "      <td>...</td>\n",
       "      <td>86.0</td>\n",
       "      <td>257.0</td>\n",
       "      <td>Upright</td>\n",
       "      <td>83.0</td>\n",
       "      <td>439544.0</td>\n",
       "      <td>55.0</td>\n",
       "      <td>220.0</td>\n",
       "      <td>37.0</td>\n",
       "      <td>5ca65d3f-4b1e-4c9f-a629-06f111c3c7c2</td>\n",
       "      <td>Chicago Winner</td>\n",
       "    </tr>\n",
       "    <tr>\n",
       "      <th>435</th>\n",
       "      <td>435</td>\n",
       "      <td>The Lord of the Rings: The Return of the King</td>\n",
       "      <td>2003</td>\n",
       "      <td>Barrie M. Osborne, Peter Jackson, and Fran Walsh</td>\n",
       "      <td>Winner</td>\n",
       "      <td>2003</td>\n",
       "      <td>201</td>\n",
       "      <td>Action,Adventure,Drama</td>\n",
       "      <td>8.9</td>\n",
       "      <td>1,703,481</td>\n",
       "      <td>...</td>\n",
       "      <td>93.0</td>\n",
       "      <td>275.0</td>\n",
       "      <td>Upright</td>\n",
       "      <td>86.0</td>\n",
       "      <td>34679773.0</td>\n",
       "      <td>53.0</td>\n",
       "      <td>257.0</td>\n",
       "      <td>18.0</td>\n",
       "      <td>7591962a-1d5a-48dd-a362-8546b21ced73</td>\n",
       "      <td>The Lord of the Rings: The Return of the King ...</td>\n",
       "    </tr>\n",
       "    <tr>\n",
       "      <th>440</th>\n",
       "      <td>440</td>\n",
       "      <td>Million Dollar Baby</td>\n",
       "      <td>2004</td>\n",
       "      <td>Clint Eastwood, Albert S. Ruddy, and Tom Rosen...</td>\n",
       "      <td>Winner</td>\n",
       "      <td>2004</td>\n",
       "      <td>132</td>\n",
       "      <td>Drama,Sport</td>\n",
       "      <td>8.1</td>\n",
       "      <td>655,679</td>\n",
       "      <td>...</td>\n",
       "      <td>91.0</td>\n",
       "      <td>268.0</td>\n",
       "      <td>Upright</td>\n",
       "      <td>90.0</td>\n",
       "      <td>405053.0</td>\n",
       "      <td>58.0</td>\n",
       "      <td>243.0</td>\n",
       "      <td>25.0</td>\n",
       "      <td>a360a577-fb0b-4bd2-ae39-35fb5dbb3deb</td>\n",
       "      <td>Million Dollar Baby Winner</td>\n",
       "    </tr>\n",
       "  </tbody>\n",
       "</table>\n",
       "<p>5 rows × 31 columns</p>\n",
       "</div>"
      ],
      "text/plain": [
       "     Unnamed: 0                                           Film Oscar Year  \\\n",
       "420         420                                      Gladiator       2000   \n",
       "425         425                               A Beautiful Mind       2001   \n",
       "430         430                                        Chicago       2002   \n",
       "435         435  The Lord of the Rings: The Return of the King       2003   \n",
       "440         440                            Million Dollar Baby       2004   \n",
       "\n",
       "                               Film Studio/Producer(s)   Award  \\\n",
       "420    Douglas Wick, David Franzoni, and Branko Lustig  Winner   \n",
       "425                        Brian Grazer and Ron Howard  Winner   \n",
       "430                                    Martin Richards  Winner   \n",
       "435   Barrie M. Osborne, Peter Jackson, and Fran Walsh  Winner   \n",
       "440  Clint Eastwood, Albert S. Ruddy, and Tom Rosen...  Winner   \n",
       "\n",
       "     Year of Release  Movie Time             Movie Genre  IMDB Rating  \\\n",
       "420             2000         155  Action,Adventure,Drama          8.5   \n",
       "425             2001         135         Biography,Drama          8.2   \n",
       "430             2002         113    Comedy,Crime,Musical          7.2   \n",
       "435             2003         201  Action,Adventure,Drama          8.9   \n",
       "440             2004         132             Drama,Sport          8.1   \n",
       "\n",
       "    IMDB Votes  ... Tomatometer Rating Tomatometer Count Audience Status  \\\n",
       "420  1,393,352  ...               77.0             199.0         Upright   \n",
       "425    878,511  ...               74.0             213.0         Upright   \n",
       "430    221,622  ...               86.0             257.0         Upright   \n",
       "435  1,703,481  ...               93.0             275.0         Upright   \n",
       "440    655,679  ...               91.0             268.0         Upright   \n",
       "\n",
       "    Audience Rating Audience Count Tomatometer Top Critics Count  \\\n",
       "420            87.0     34128168.0                          49.0   \n",
       "425            93.0       490923.0                          47.0   \n",
       "430            83.0       439544.0                          55.0   \n",
       "435            86.0     34679773.0                          53.0   \n",
       "440            90.0       405053.0                          58.0   \n",
       "\n",
       "    Tomatometer Fresh Critics Count Tomatometer Rotten Critics Count  \\\n",
       "420                           153.0                             46.0   \n",
       "425                           158.0                             55.0   \n",
       "430                           220.0                             37.0   \n",
       "435                           257.0                             18.0   \n",
       "440                           243.0                             25.0   \n",
       "\n",
       "                                  Film ID  \\\n",
       "420  3e67a3b9-f24a-420b-b9f8-78870126e1df   \n",
       "425  69218a0a-fbd1-4a2b-a19b-fc194d43d435   \n",
       "430  5ca65d3f-4b1e-4c9f-a629-06f111c3c7c2   \n",
       "435  7591962a-1d5a-48dd-a362-8546b21ced73   \n",
       "440  a360a577-fb0b-4bd2-ae39-35fb5dbb3deb   \n",
       "\n",
       "                                            new_column  \n",
       "420                                   Gladiator Winner  \n",
       "425                            A Beautiful Mind Winner  \n",
       "430                                     Chicago Winner  \n",
       "435  The Lord of the Rings: The Return of the King ...  \n",
       "440                         Million Dollar Baby Winner  \n",
       "\n",
       "[5 rows x 31 columns]"
      ]
     },
     "execution_count": 23,
     "metadata": {},
     "output_type": "execute_result"
    }
   ],
   "source": [
    "df[(df['Award']=='Winner')&(df['Year of Release']>=2000)].head(5)  #сделали условие по двум колонкам\n",
    "#важно, без скобок каждого условия не будет работать\n",
    "# заки все те же что и во множествах"
   ]
  },
  {
   "cell_type": "code",
   "execution_count": 24,
   "metadata": {},
   "outputs": [
    {
     "data": {
      "text/html": [
       "<div>\n",
       "<style scoped>\n",
       "    .dataframe tbody tr th:only-of-type {\n",
       "        vertical-align: middle;\n",
       "    }\n",
       "\n",
       "    .dataframe tbody tr th {\n",
       "        vertical-align: top;\n",
       "    }\n",
       "\n",
       "    .dataframe thead th {\n",
       "        text-align: right;\n",
       "    }\n",
       "</style>\n",
       "<table border=\"1\" class=\"dataframe\">\n",
       "  <thead>\n",
       "    <tr style=\"text-align: right;\">\n",
       "      <th></th>\n",
       "      <th>Unnamed: 0</th>\n",
       "      <th>Film</th>\n",
       "      <th>Oscar Year</th>\n",
       "      <th>Film Studio/Producer(s)</th>\n",
       "      <th>Award</th>\n",
       "      <th>Year of Release</th>\n",
       "      <th>Movie Time</th>\n",
       "      <th>Movie Genre</th>\n",
       "      <th>IMDB Rating</th>\n",
       "      <th>IMDB Votes</th>\n",
       "      <th>...</th>\n",
       "      <th>Tomatometer Rating</th>\n",
       "      <th>Tomatometer Count</th>\n",
       "      <th>Audience Status</th>\n",
       "      <th>Audience Rating</th>\n",
       "      <th>Audience Count</th>\n",
       "      <th>Tomatometer Top Critics Count</th>\n",
       "      <th>Tomatometer Fresh Critics Count</th>\n",
       "      <th>Tomatometer Rotten Critics Count</th>\n",
       "      <th>Film ID</th>\n",
       "      <th>new_column</th>\n",
       "    </tr>\n",
       "  </thead>\n",
       "  <tbody>\n",
       "    <tr>\n",
       "      <th>0</th>\n",
       "      <td>False</td>\n",
       "      <td>False</td>\n",
       "      <td>False</td>\n",
       "      <td>False</td>\n",
       "      <td>False</td>\n",
       "      <td>False</td>\n",
       "      <td>False</td>\n",
       "      <td>False</td>\n",
       "      <td>False</td>\n",
       "      <td>False</td>\n",
       "      <td>...</td>\n",
       "      <td>False</td>\n",
       "      <td>False</td>\n",
       "      <td>False</td>\n",
       "      <td>False</td>\n",
       "      <td>False</td>\n",
       "      <td>False</td>\n",
       "      <td>False</td>\n",
       "      <td>False</td>\n",
       "      <td>False</td>\n",
       "      <td>False</td>\n",
       "    </tr>\n",
       "    <tr>\n",
       "      <th>1</th>\n",
       "      <td>False</td>\n",
       "      <td>False</td>\n",
       "      <td>False</td>\n",
       "      <td>False</td>\n",
       "      <td>False</td>\n",
       "      <td>False</td>\n",
       "      <td>False</td>\n",
       "      <td>False</td>\n",
       "      <td>False</td>\n",
       "      <td>False</td>\n",
       "      <td>...</td>\n",
       "      <td>True</td>\n",
       "      <td>True</td>\n",
       "      <td>True</td>\n",
       "      <td>True</td>\n",
       "      <td>True</td>\n",
       "      <td>True</td>\n",
       "      <td>True</td>\n",
       "      <td>True</td>\n",
       "      <td>False</td>\n",
       "      <td>False</td>\n",
       "    </tr>\n",
       "    <tr>\n",
       "      <th>2</th>\n",
       "      <td>False</td>\n",
       "      <td>False</td>\n",
       "      <td>False</td>\n",
       "      <td>False</td>\n",
       "      <td>False</td>\n",
       "      <td>False</td>\n",
       "      <td>False</td>\n",
       "      <td>False</td>\n",
       "      <td>False</td>\n",
       "      <td>False</td>\n",
       "      <td>...</td>\n",
       "      <td>True</td>\n",
       "      <td>True</td>\n",
       "      <td>True</td>\n",
       "      <td>True</td>\n",
       "      <td>True</td>\n",
       "      <td>True</td>\n",
       "      <td>True</td>\n",
       "      <td>True</td>\n",
       "      <td>False</td>\n",
       "      <td>False</td>\n",
       "    </tr>\n",
       "    <tr>\n",
       "      <th>3</th>\n",
       "      <td>False</td>\n",
       "      <td>False</td>\n",
       "      <td>False</td>\n",
       "      <td>False</td>\n",
       "      <td>False</td>\n",
       "      <td>False</td>\n",
       "      <td>False</td>\n",
       "      <td>False</td>\n",
       "      <td>False</td>\n",
       "      <td>False</td>\n",
       "      <td>...</td>\n",
       "      <td>False</td>\n",
       "      <td>False</td>\n",
       "      <td>False</td>\n",
       "      <td>False</td>\n",
       "      <td>False</td>\n",
       "      <td>False</td>\n",
       "      <td>False</td>\n",
       "      <td>False</td>\n",
       "      <td>False</td>\n",
       "      <td>False</td>\n",
       "    </tr>\n",
       "    <tr>\n",
       "      <th>4</th>\n",
       "      <td>False</td>\n",
       "      <td>False</td>\n",
       "      <td>False</td>\n",
       "      <td>False</td>\n",
       "      <td>False</td>\n",
       "      <td>False</td>\n",
       "      <td>False</td>\n",
       "      <td>False</td>\n",
       "      <td>False</td>\n",
       "      <td>False</td>\n",
       "      <td>...</td>\n",
       "      <td>True</td>\n",
       "      <td>True</td>\n",
       "      <td>True</td>\n",
       "      <td>True</td>\n",
       "      <td>True</td>\n",
       "      <td>True</td>\n",
       "      <td>True</td>\n",
       "      <td>True</td>\n",
       "      <td>False</td>\n",
       "      <td>False</td>\n",
       "    </tr>\n",
       "    <tr>\n",
       "      <th>...</th>\n",
       "      <td>...</td>\n",
       "      <td>...</td>\n",
       "      <td>...</td>\n",
       "      <td>...</td>\n",
       "      <td>...</td>\n",
       "      <td>...</td>\n",
       "      <td>...</td>\n",
       "      <td>...</td>\n",
       "      <td>...</td>\n",
       "      <td>...</td>\n",
       "      <td>...</td>\n",
       "      <td>...</td>\n",
       "      <td>...</td>\n",
       "      <td>...</td>\n",
       "      <td>...</td>\n",
       "      <td>...</td>\n",
       "      <td>...</td>\n",
       "      <td>...</td>\n",
       "      <td>...</td>\n",
       "      <td>...</td>\n",
       "      <td>...</td>\n",
       "    </tr>\n",
       "    <tr>\n",
       "      <th>566</th>\n",
       "      <td>False</td>\n",
       "      <td>False</td>\n",
       "      <td>False</td>\n",
       "      <td>False</td>\n",
       "      <td>False</td>\n",
       "      <td>False</td>\n",
       "      <td>False</td>\n",
       "      <td>False</td>\n",
       "      <td>False</td>\n",
       "      <td>False</td>\n",
       "      <td>...</td>\n",
       "      <td>True</td>\n",
       "      <td>True</td>\n",
       "      <td>True</td>\n",
       "      <td>True</td>\n",
       "      <td>True</td>\n",
       "      <td>True</td>\n",
       "      <td>True</td>\n",
       "      <td>True</td>\n",
       "      <td>False</td>\n",
       "      <td>False</td>\n",
       "    </tr>\n",
       "    <tr>\n",
       "      <th>567</th>\n",
       "      <td>False</td>\n",
       "      <td>False</td>\n",
       "      <td>False</td>\n",
       "      <td>False</td>\n",
       "      <td>False</td>\n",
       "      <td>False</td>\n",
       "      <td>False</td>\n",
       "      <td>False</td>\n",
       "      <td>False</td>\n",
       "      <td>False</td>\n",
       "      <td>...</td>\n",
       "      <td>True</td>\n",
       "      <td>True</td>\n",
       "      <td>True</td>\n",
       "      <td>True</td>\n",
       "      <td>True</td>\n",
       "      <td>True</td>\n",
       "      <td>True</td>\n",
       "      <td>True</td>\n",
       "      <td>False</td>\n",
       "      <td>False</td>\n",
       "    </tr>\n",
       "    <tr>\n",
       "      <th>568</th>\n",
       "      <td>False</td>\n",
       "      <td>False</td>\n",
       "      <td>False</td>\n",
       "      <td>False</td>\n",
       "      <td>False</td>\n",
       "      <td>False</td>\n",
       "      <td>False</td>\n",
       "      <td>False</td>\n",
       "      <td>False</td>\n",
       "      <td>False</td>\n",
       "      <td>...</td>\n",
       "      <td>True</td>\n",
       "      <td>True</td>\n",
       "      <td>True</td>\n",
       "      <td>True</td>\n",
       "      <td>True</td>\n",
       "      <td>True</td>\n",
       "      <td>True</td>\n",
       "      <td>True</td>\n",
       "      <td>False</td>\n",
       "      <td>False</td>\n",
       "    </tr>\n",
       "    <tr>\n",
       "      <th>569</th>\n",
       "      <td>False</td>\n",
       "      <td>False</td>\n",
       "      <td>False</td>\n",
       "      <td>False</td>\n",
       "      <td>False</td>\n",
       "      <td>False</td>\n",
       "      <td>False</td>\n",
       "      <td>False</td>\n",
       "      <td>False</td>\n",
       "      <td>False</td>\n",
       "      <td>...</td>\n",
       "      <td>True</td>\n",
       "      <td>True</td>\n",
       "      <td>True</td>\n",
       "      <td>True</td>\n",
       "      <td>True</td>\n",
       "      <td>True</td>\n",
       "      <td>True</td>\n",
       "      <td>True</td>\n",
       "      <td>False</td>\n",
       "      <td>False</td>\n",
       "    </tr>\n",
       "    <tr>\n",
       "      <th>570</th>\n",
       "      <td>False</td>\n",
       "      <td>False</td>\n",
       "      <td>False</td>\n",
       "      <td>False</td>\n",
       "      <td>False</td>\n",
       "      <td>False</td>\n",
       "      <td>False</td>\n",
       "      <td>False</td>\n",
       "      <td>False</td>\n",
       "      <td>False</td>\n",
       "      <td>...</td>\n",
       "      <td>True</td>\n",
       "      <td>True</td>\n",
       "      <td>True</td>\n",
       "      <td>True</td>\n",
       "      <td>True</td>\n",
       "      <td>True</td>\n",
       "      <td>True</td>\n",
       "      <td>True</td>\n",
       "      <td>False</td>\n",
       "      <td>False</td>\n",
       "    </tr>\n",
       "  </tbody>\n",
       "</table>\n",
       "<p>571 rows × 31 columns</p>\n",
       "</div>"
      ],
      "text/plain": [
       "     Unnamed: 0   Film  Oscar Year  Film Studio/Producer(s)  Award  \\\n",
       "0         False  False       False                    False  False   \n",
       "1         False  False       False                    False  False   \n",
       "2         False  False       False                    False  False   \n",
       "3         False  False       False                    False  False   \n",
       "4         False  False       False                    False  False   \n",
       "..          ...    ...         ...                      ...    ...   \n",
       "566       False  False       False                    False  False   \n",
       "567       False  False       False                    False  False   \n",
       "568       False  False       False                    False  False   \n",
       "569       False  False       False                    False  False   \n",
       "570       False  False       False                    False  False   \n",
       "\n",
       "     Year of Release  Movie Time  Movie Genre  IMDB Rating  IMDB Votes  ...  \\\n",
       "0              False       False        False        False       False  ...   \n",
       "1              False       False        False        False       False  ...   \n",
       "2              False       False        False        False       False  ...   \n",
       "3              False       False        False        False       False  ...   \n",
       "4              False       False        False        False       False  ...   \n",
       "..               ...         ...          ...          ...         ...  ...   \n",
       "566            False       False        False        False       False  ...   \n",
       "567            False       False        False        False       False  ...   \n",
       "568            False       False        False        False       False  ...   \n",
       "569            False       False        False        False       False  ...   \n",
       "570            False       False        False        False       False  ...   \n",
       "\n",
       "     Tomatometer Rating  Tomatometer Count  Audience Status  Audience Rating  \\\n",
       "0                 False              False            False            False   \n",
       "1                  True               True             True             True   \n",
       "2                  True               True             True             True   \n",
       "3                 False              False            False            False   \n",
       "4                  True               True             True             True   \n",
       "..                  ...                ...              ...              ...   \n",
       "566                True               True             True             True   \n",
       "567                True               True             True             True   \n",
       "568                True               True             True             True   \n",
       "569                True               True             True             True   \n",
       "570                True               True             True             True   \n",
       "\n",
       "     Audience Count  Tomatometer Top Critics Count  \\\n",
       "0             False                          False   \n",
       "1              True                           True   \n",
       "2              True                           True   \n",
       "3             False                          False   \n",
       "4              True                           True   \n",
       "..              ...                            ...   \n",
       "566            True                           True   \n",
       "567            True                           True   \n",
       "568            True                           True   \n",
       "569            True                           True   \n",
       "570            True                           True   \n",
       "\n",
       "     Tomatometer Fresh Critics Count  Tomatometer Rotten Critics Count  \\\n",
       "0                              False                             False   \n",
       "1                               True                              True   \n",
       "2                               True                              True   \n",
       "3                              False                             False   \n",
       "4                               True                              True   \n",
       "..                               ...                               ...   \n",
       "566                             True                              True   \n",
       "567                             True                              True   \n",
       "568                             True                              True   \n",
       "569                             True                              True   \n",
       "570                             True                              True   \n",
       "\n",
       "     Film ID  new_column  \n",
       "0      False       False  \n",
       "1      False       False  \n",
       "2      False       False  \n",
       "3      False       False  \n",
       "4      False       False  \n",
       "..       ...         ...  \n",
       "566    False       False  \n",
       "567    False       False  \n",
       "568    False       False  \n",
       "569    False       False  \n",
       "570    False       False  \n",
       "\n",
       "[571 rows x 31 columns]"
      ]
     },
     "execution_count": 24,
     "metadata": {},
     "output_type": "execute_result"
    }
   ],
   "source": [
    "df.isnull() #возвращает стремный массив данных где написано \"правда ли что значение ячейки пустое\""
   ]
  },
  {
   "cell_type": "code",
   "execution_count": 25,
   "metadata": {},
   "outputs": [
    {
     "data": {
      "text/plain": [
       "Unnamed: 0                            0\n",
       "Film                                  0\n",
       "Oscar Year                            0\n",
       "Film Studio/Producer(s)               0\n",
       "Award                                 0\n",
       "Year of Release                       0\n",
       "Movie Time                            0\n",
       "Movie Genre                           0\n",
       "IMDB Rating                           0\n",
       "IMDB Votes                            0\n",
       "Movie Info                          133\n",
       "Genres                              132\n",
       "Critic Consensus                    232\n",
       "Content Rating                      132\n",
       "Directors                           134\n",
       "Authors                             134\n",
       "Actors                              132\n",
       "Original Release Date               132\n",
       "Streaming Release Date              133\n",
       "Production Company                  132\n",
       "Tomatometer Status                  132\n",
       "Tomatometer Rating                  132\n",
       "Tomatometer Count                   132\n",
       "Audience Status                     135\n",
       "Audience Rating                     132\n",
       "Audience Count                      132\n",
       "Tomatometer Top Critics Count       132\n",
       "Tomatometer Fresh Critics Count     132\n",
       "Tomatometer Rotten Critics Count    132\n",
       "Film ID                               0\n",
       "new_column                            0\n",
       "dtype: int64"
      ]
     },
     "execution_count": 25,
     "metadata": {},
     "output_type": "execute_result"
    }
   ],
   "source": [
    "df.isnull().sum() #ну буквально сумма таких ячеек по колонкам"
   ]
  },
  {
   "cell_type": "code",
   "execution_count": 27,
   "metadata": {},
   "outputs": [],
   "source": [
    "df1 = df.dropna() #дропнули все строки где ничего нет (даже пробела)"
   ]
  },
  {
   "cell_type": "code",
   "execution_count": 28,
   "metadata": {},
   "outputs": [
    {
     "data": {
      "text/plain": [
       "(333, 31)"
      ]
     },
     "execution_count": 28,
     "metadata": {},
     "output_type": "execute_result"
    }
   ],
   "source": [
    "df1.shape"
   ]
  },
  {
   "cell_type": "code",
   "execution_count": null,
   "metadata": {},
   "outputs": [],
   "source": [
    "#подмена пустого значения чем угодно"
   ]
  },
  {
   "cell_type": "code",
   "execution_count": 29,
   "metadata": {},
   "outputs": [],
   "source": [
    "df['Movie Info'] = df['Movie Info'].fillna('No description')"
   ]
  },
  {
   "cell_type": "code",
   "execution_count": 30,
   "metadata": {},
   "outputs": [
    {
     "data": {
      "text/plain": [
       "0"
      ]
     },
     "execution_count": 30,
     "metadata": {},
     "output_type": "execute_result"
    }
   ],
   "source": [
    "df['Movie Info'].isnull().sum()"
   ]
  },
  {
   "cell_type": "code",
   "execution_count": null,
   "metadata": {},
   "outputs": [],
   "source": []
  },
  {
   "cell_type": "code",
   "execution_count": null,
   "metadata": {},
   "outputs": [],
   "source": []
  },
  {
   "cell_type": "code",
   "execution_count": null,
   "metadata": {},
   "outputs": [],
   "source": []
  },
  {
   "cell_type": "code",
   "execution_count": null,
   "metadata": {},
   "outputs": [],
   "source": []
  },
  {
   "cell_type": "code",
   "execution_count": null,
   "metadata": {},
   "outputs": [],
   "source": []
  },
  {
   "cell_type": "code",
   "execution_count": null,
   "metadata": {},
   "outputs": [],
   "source": []
  },
  {
   "cell_type": "code",
   "execution_count": null,
   "metadata": {},
   "outputs": [],
   "source": []
  },
  {
   "cell_type": "code",
   "execution_count": 13,
   "metadata": {},
   "outputs": [
    {
     "data": {
      "text/plain": [
       "(571, 30)"
      ]
     },
     "execution_count": 13,
     "metadata": {},
     "output_type": "execute_result"
    }
   ],
   "source": [
    "### ╰( ͡° ͜ʖ ͡° )つ▬▬ι═══════  bzzzzzzzzzz\n",
    "df.shape #выводит количество строк и столбцов\n"
   ]
  },
  {
   "cell_type": "code",
   "execution_count": null,
   "metadata": {},
   "outputs": [],
   "source": [
    "### ╰( ͡° ͜ʖ ͡° )つ▬▬ι═══════  bzzzzzzzzzz\n",
    "df.shape[0] #можем только колво строк взять, можно еще записать в переменную"
   ]
  },
  {
   "cell_type": "markdown",
   "metadata": {},
   "source": [
    "## 2.2 Базовые навыки по работе с табличками\n",
    "\n",
    "### Выбор колонки\n",
    "\n",
    "Чтобы вытащить столбец, у нему нужно через квадратные скобки обратиться по имени."
   ]
  },
  {
   "cell_type": "code",
   "execution_count": null,
   "metadata": {},
   "outputs": [],
   "source": [
    "# цепляем head(), чтобы не получить слишком много напечатанных имен\n",
    "df['first_name'].head()"
   ]
  },
  {
   "cell_type": "markdown",
   "metadata": {},
   "source": [
    "Можно вытащить сразу несколько колонок и применить к ним какой-нибудь метод:"
   ]
  },
  {
   "cell_type": "code",
   "execution_count": null,
   "metadata": {},
   "outputs": [],
   "source": [
    "# обратите внимание, что в квадратные скобки мы записали только 1 объект - лист с названиями колонок. \n",
    "df[['first_name', 'last_name', 'city']].head()"
   ]
  },
  {
   "cell_type": "markdown",
   "metadata": {},
   "source": [
    "Можно создавать новые колонки. Например, мы можем взять все имена и фамилии, записать их через пробел и положить в новую колонку."
   ]
  },
  {
   "cell_type": "code",
   "execution_count": null,
   "metadata": {},
   "outputs": [],
   "source": [
    "df['first_last_name'] = df['first_name'] + ' ' + df['last_name']\n",
    "df.head()"
   ]
  },
  {
   "cell_type": "markdown",
   "metadata": {},
   "source": [
    "### Выбор подряд идущих строк\n",
    "\n",
    "Если в квадратных скобках указать диапазон, то можно выбрать несколько строк, идущих друг за другом"
   ]
  },
  {
   "cell_type": "code",
   "execution_count": null,
   "metadata": {},
   "outputs": [],
   "source": [
    "df[:2]"
   ]
  },
  {
   "cell_type": "code",
   "execution_count": null,
   "metadata": {},
   "outputs": [],
   "source": [
    "df[1:10]"
   ]
  },
  {
   "cell_type": "markdown",
   "metadata": {},
   "source": [
    "---\n",
    "### Уникальные значения и частотые таблицы\n",
    "\n",
    "Очень частой операцией является нахождение уникальных значений в колонке. В зависимости от задачи есть два метода. \n",
    "- [unique()](https://pandas.pydata.org/pandas-docs/stable/reference/api/pandas.DataFrame.unique.html): возвращает массив уникальных значений в колонке - к нему можем применять только обычный питон\n",
    "- [drop_duplicates()](https://pandas.pydata.org/pandas-docs/stable/reference/api/pandas.DataFrame.drop_duplicates.html): удаляет дублирующиеся строчки в датафрейме/колонке и возвращает соответственно датафрейм или колонку - к ним можем дальше применять пандасовские методы"
   ]
  },
  {
   "cell_type": "markdown",
   "metadata": {},
   "source": [
    "- [value_counts()](https://pandas.pydata.org/pandas-docs/stable/reference/api/pandas.DataFrame.value_counts.html): считает частотную таблицу, т.е. сколько раз мы встретили значение в колонке"
   ]
  },
  {
   "cell_type": "markdown",
   "metadata": {},
   "source": [
    "### Задание 2:\n",
    "\n",
    "- Вытащите из таблички колону с городом (city), примените к ней метод, который оставит в колонке только уникальные названия городов, `.unique()`\n",
    "- Сколько всего городов есть в данных? "
   ]
  },
  {
   "cell_type": "code",
   "execution_count": null,
   "metadata": {},
   "outputs": [],
   "source": [
    "### ╰( ͡° ͜ʖ ͡° )つ▬▬ι═══════  bzzzzzzzzzz"
   ]
  },
  {
   "cell_type": "code",
   "execution_count": null,
   "metadata": {},
   "outputs": [],
   "source": [
    "### ╰( ͡° ͜ʖ ͡° )つ▬▬ι═══════  bzzzzzzzzzz"
   ]
  },
  {
   "cell_type": "markdown",
   "metadata": {},
   "source": [
    "- Попробуйте вытащить ту же самую колонку и посчитать по ней, как часто, какой город встречается в данных, `.value_counts()`\n",
    "- Выведите на экран $5$ самых популярных городов для жизни студентов первого курса"
   ]
  },
  {
   "cell_type": "code",
   "execution_count": null,
   "metadata": {},
   "outputs": [],
   "source": [
    "### ╰( ͡° ͜ʖ ͡° )つ▬▬ι═══════  bzzzzzzzzzz"
   ]
  },
  {
   "cell_type": "markdown",
   "metadata": {},
   "source": [
    "----------"
   ]
  },
  {
   "cell_type": "markdown",
   "metadata": {},
   "source": [
    "Вот мы и добрались до самого главного. В pandas можно пытаться искать ответы на разные интересующие вас вопросы. Например, когда я смотрю на нашу табличку, у меня возникает вопрос:  \n",
    "\n",
    "> Сколько девушек с именем отличающимся от \"Аня\" указали в профиле ссылку на свой инстаграм? "
   ]
  },
  {
   "cell_type": "markdown",
   "metadata": {},
   "source": [
    "Нас интересуют только девушки. Информация о поле лежит в колонке `male_dummy`. Если перед нами девушка, в этой колонке будет написан $0$. Сравним все значения в этой колонке с нулём. Если внутри правда $0$, на экране будет True."
   ]
  },
  {
   "cell_type": "code",
   "execution_count": null,
   "metadata": {},
   "outputs": [],
   "source": [
    "df['male_dummy'] == 0"
   ]
  },
  {
   "cell_type": "markdown",
   "metadata": {},
   "source": [
    "Сделаем срез. Оставим в табличке только те строчки, где стоит True: "
   ]
  },
  {
   "cell_type": "code",
   "execution_count": null,
   "metadata": {},
   "outputs": [],
   "source": [
    "df[df['male_dummy'] == 0].head()"
   ]
  },
  {
   "cell_type": "markdown",
   "metadata": {},
   "source": [
    "Обратите внимание на номера строк. Видно, что $2$, $4$ и $5$ строчки были про мальчиков. Давайте теперь из этой, более маленькой таблички оставим только тех девушек, у которых есть инстаграм. Для этого нужен второй срез по колонке `instagram_dummy`. Если в ней стоит $1$, значит инстаграм есть.  Знак `&` между срезами говорит, что должны выполниться оба условия. Он читается как союз `и`.\n",
    "\n",
    "Если мы хотим, чтобы выполнялось хотя бы одно из условий, можно использовать союз `или`, который обозначается значком `|`. "
   ]
  },
  {
   "cell_type": "code",
   "execution_count": null,
   "metadata": {},
   "outputs": [],
   "source": [
    "df[(df['male_dummy'] == 0) & (df['instagram_dummy'] == 1)].head()"
   ]
  },
  {
   "cell_type": "markdown",
   "metadata": {},
   "source": [
    "Выбросили ещё больше строк. Осталось добавить срез на имена. Нам нужно, чтобы девушка была с именем отличающимся от \"Аня\". Значки `!=` отвечают за $\\neq$."
   ]
  },
  {
   "cell_type": "code",
   "execution_count": null,
   "metadata": {},
   "outputs": [],
   "source": [
    "df[(df['first_name'] != \"Аня\") & (df['first_name'] != \"Анна\")].head()"
   ]
  },
  {
   "cell_type": "markdown",
   "metadata": {},
   "source": [
    "Так мы вытащим табличку без Ань. Объединяем всё вместе."
   ]
  },
  {
   "cell_type": "code",
   "execution_count": null,
   "metadata": {},
   "outputs": [],
   "source": [
    "# Можно аккуратно переносить строки кода в питоне для улучшения читаемости.\n",
    "df[\n",
    "    (df['instagram_dummy'] == 1)\n",
    "    & (df['male_dummy'] == 0)\n",
    "    & (df['first_name'] != \"Аня\") & (df['first_name'] != \"Анна\")\n",
    "].head()"
   ]
  },
  {
   "cell_type": "markdown",
   "metadata": {},
   "source": [
    "Сами условия важно не забывать оборачивать в круглые скобки `()`, чтобы питон не запутался, что с чем сравнивается. Также они определяют порядок действий, как в математике.\n",
    "\n",
    "То есть мы командой \n",
    "\n",
    "`(df['instagram_dummy'] == 1) & (df['male_dummy'] == 0) & (df['first_name'] != \"Аня\") & (df['first_name'] != \"Анна\")` \n",
    "\n",
    "говорим табличке: \n",
    "\n",
    "`(у них есть инстаграм) И (они девушки) И (их зовут НЕ аня) И (их зовут НЕ анна))` \n",
    "\n",
    "И на выход получаем маленькую подтаблицу, где __все__ эти условия выполнены.\n",
    "\n",
    "__Важно__: если вы хотите вывести все строки в таблице, где столбец попадает в какой-то _диапазон_ значений, придётся написать $2$ условия на этот столбец (двойное неравенство не прокатит, увы). Например, выведем всех людей, у которых количество друзей, посещающих этот курс, от $100$ до $153$:"
   ]
  },
  {
   "cell_type": "code",
   "execution_count": null,
   "metadata": {},
   "outputs": [],
   "source": [
    "df[(df['friends_from_course_cnt'] > 100) & (df['friends_from_course_cnt'] < 153)].head()"
   ]
  },
  {
   "cell_type": "markdown",
   "metadata": {},
   "source": [
    "## 2.3 Работа с пропусками \n",
    "\n",
    "\n",
    "Пропуски в данных возникают по разным причинам. Кто-то забыл измерить, записать или в принципе таких данных в природе не существовало. Когда мы будем учить алгоритмы машинного обучения, нам придётся все эти пропуски заполнять. \n",
    "\n",
    "Количество пропусков в данных можно узнать с помощью метода [.isnull()](https://pandas.pydata.org/pandas-docs/stable/reference/api/pandas.DataFrame.isnull.html)"
   ]
  },
  {
   "cell_type": "code",
   "execution_count": null,
   "metadata": {},
   "outputs": [],
   "source": [
    "df.isnull().head() # возвращает True, если в ячейке пропуск, иначе --- False"
   ]
  },
  {
   "cell_type": "code",
   "execution_count": null,
   "metadata": {},
   "outputs": [],
   "source": [
    "df.isnull().sum()  # суммарное количество пропусков в каждом столбце"
   ]
  },
  {
   "cell_type": "code",
   "execution_count": null,
   "metadata": {},
   "outputs": [],
   "source": [
    "# отсортировали число пропусков по убыванию и вывели топ-10 \n",
    "df.isnull().sum().sort_values(ascending=False).head(10)"
   ]
  },
  {
   "cell_type": "markdown",
   "metadata": {},
   "source": [
    "Метод `.fillna(что-то)` позволяет заполнить пропуски чем-нибудь нейтральным. Например, посмотрим на колонку `city`. В ней сейчас есть пропуски. "
   ]
  },
  {
   "cell_type": "code",
   "execution_count": null,
   "metadata": {},
   "outputs": [],
   "source": [
    "df['city'].head()"
   ]
  },
  {
   "cell_type": "markdown",
   "metadata": {},
   "source": [
    "Давайте заполним их значением \"не указано\". "
   ]
  },
  {
   "cell_type": "code",
   "execution_count": null,
   "metadata": {},
   "outputs": [],
   "source": [
    "df['city'] = df['city'].fillna('Не указано')\n",
    "df['city'].head()"
   ]
  },
  {
   "cell_type": "markdown",
   "metadata": {},
   "source": [
    "## 2.4 Поиск ответов на глупые вопросы \n",
    "\n",
    "Комбинируя все те знания, которые мы с вами добыли выше, можно искать ответы на разные вопросы.\n",
    "\n",
    "### Задание 3\n",
    "\n",
    "- Сколько студентов закрыли свой профиль (колонка `is_closed`)? "
   ]
  },
  {
   "cell_type": "code",
   "execution_count": null,
   "metadata": {},
   "outputs": [],
   "source": [
    "### ╰( ͡° ͜ʖ ͡° )つ▬▬ι═══════  bzzzzzzzzzz"
   ]
  },
  {
   "cell_type": "markdown",
   "metadata": {},
   "source": [
    "- Сколько всего в таблице студентов? "
   ]
  },
  {
   "cell_type": "code",
   "execution_count": null,
   "metadata": {},
   "outputs": [],
   "source": [
    "### ╰( ͡° ͜ʖ ͡° )つ▬▬ι═══════  bzzzzzzzzzz"
   ]
  },
  {
   "cell_type": "markdown",
   "metadata": {},
   "source": [
    "- Какая доля студентов закрыла профиль? "
   ]
  },
  {
   "cell_type": "code",
   "execution_count": null,
   "metadata": {},
   "outputs": [],
   "source": [
    "### ╰( ͡° ͜ʖ ͡° )つ▬▬ι═══════  bzzzzzzzzzz"
   ]
  },
  {
   "cell_type": "markdown",
   "metadata": {},
   "source": [
    "- Сколько уникальных мужских имён встречается на первом курсе? "
   ]
  },
  {
   "cell_type": "code",
   "execution_count": null,
   "metadata": {},
   "outputs": [],
   "source": [
    "### ╰( ͡° ͜ʖ ͡° )つ▬▬ι═══════  bzzzzzzzzzz"
   ]
  },
  {
   "cell_type": "markdown",
   "metadata": {},
   "source": [
    "- Выведите три самых популярных женских имени среди студентов"
   ]
  },
  {
   "cell_type": "code",
   "execution_count": null,
   "metadata": {},
   "outputs": [],
   "source": [
    "### ╰( ͡° ͜ʖ ͡° )つ▬▬ι═══════  bzzzzzzzzzz"
   ]
  },
  {
   "cell_type": "markdown",
   "metadata": {},
   "source": [
    "- Сколько в среднем лайков ставят под мемы девушки (колонка `likes_memes`) "
   ]
  },
  {
   "cell_type": "code",
   "execution_count": null,
   "metadata": {},
   "outputs": [],
   "source": [
    "### ╰( ͡° ͜ʖ ͡° )つ▬▬ι═══════  bzzzzzzzzzz"
   ]
  },
  {
   "cell_type": "markdown",
   "metadata": {},
   "source": [
    "- Сколько суммарно лайков оставили студенты в группе с мемами? "
   ]
  },
  {
   "cell_type": "code",
   "execution_count": null,
   "metadata": {},
   "outputs": [],
   "source": [
    "### ╰( ͡° ͜ʖ ͡° )つ▬▬ι═══════  bzzzzzzzzzz"
   ]
  },
  {
   "cell_type": "markdown",
   "metadata": {},
   "source": [
    "- Сколько в среднем лайков приходится на одного человека, подписанного на группу (колонка `in_hse_memes_group`)"
   ]
  },
  {
   "cell_type": "code",
   "execution_count": null,
   "metadata": {},
   "outputs": [],
   "source": [
    "### ╰( ͡° ͜ʖ ͡° )つ▬▬ι═══════  bzzzzzzzzzz"
   ]
  },
  {
   "cell_type": "markdown",
   "metadata": {},
   "source": [
    "- Сколько лайков поставили люди, которые не подписаны на группу? "
   ]
  },
  {
   "cell_type": "code",
   "execution_count": null,
   "metadata": {},
   "outputs": [],
   "source": [
    "### ╰( ͡° ͜ʖ ͡° )つ▬▬ι═══════  bzzzzzzzzzz"
   ]
  },
  {
   "cell_type": "markdown",
   "metadata": {},
   "source": [
    "- Выведите на экран колонки, в которых нет ни одного пропуска."
   ]
  },
  {
   "cell_type": "code",
   "execution_count": null,
   "metadata": {},
   "outputs": [],
   "source": [
    "### ╰( ͡° ͜ʖ ͡° )つ▬▬ι═══════  bzzzzzzzzzz"
   ]
  },
  {
   "cell_type": "markdown",
   "metadata": {},
   "source": [
    "- Выведите на экран 3 случайных записей для пользователей, которые приехали в Москву (`home_town` - откуда приехали, `city` - где живут сейчас)"
   ]
  },
  {
   "cell_type": "code",
   "execution_count": null,
   "metadata": {},
   "outputs": [],
   "source": [
    "### ╰( ͡° ͜ʖ ͡° )つ▬▬ι═══════  bzzzzzzzzzz"
   ]
  },
  {
   "cell_type": "markdown",
   "metadata": {},
   "source": [
    "- Среди двух полов найдите лидера по числу выложенных фоток (в колонке `photo_month_mean` среднемесячное кол-во фоток)"
   ]
  },
  {
   "cell_type": "code",
   "execution_count": null,
   "metadata": {},
   "outputs": [],
   "source": [
    "### ╰( ͡° ͜ʖ ͡° )つ▬▬ι═══════  bzzzzzzzzzz"
   ]
  },
  {
   "cell_type": "markdown",
   "metadata": {},
   "source": [
    "- Сейчас число лайков измеряется по шкале от $0$ до $1081$. В машинном обучении довольно часто возникает желание поменять у данных шкалу, в которой они измерены. Такая процедура называется скалированием. Давайте переведём лайки с отрезка $[0, 1081]$ на отрезок $[0, 1]$. Делать это будем по формуле: \n",
    "\n",
    "        x_new = (x-min)/(max-min)\n",
    "    \n",
    "        min = минимальный элемент в столбце\n",
    "        max = максимальный элемент в столбце\n",
    "        \n",
    "Получившийся результат запишем в колонку `like_memes_scal`."
   ]
  },
  {
   "cell_type": "code",
   "execution_count": null,
   "metadata": {},
   "outputs": [],
   "source": [
    "### ╰( ͡° ͜ʖ ͡° )つ▬▬ι═══════  bzzzzzzzzzz"
   ]
  },
  {
   "cell_type": "markdown",
   "metadata": {},
   "source": [
    "На последок вот вам __пара панд.__ Ведь именно в честь них (на самом деле в честь panel data) назван пакет pandas.\n",
    "\n",
    "![](http://www.hughlansdown.com/photos/wildlife/mammals/pair-of-red-pandas.jpg)"
   ]
  },
  {
   "cell_type": "markdown",
   "metadata": {},
   "source": [
    " "
   ]
  }
 ],
 "metadata": {
  "kernelspec": {
   "display_name": "Python 3 (ipykernel)",
   "language": "python",
   "name": "python3"
  },
  "language_info": {
   "codemirror_mode": {
    "name": "ipython",
    "version": 3
   },
   "file_extension": ".py",
   "mimetype": "text/x-python",
   "name": "python",
   "nbconvert_exporter": "python",
   "pygments_lexer": "ipython3",
   "version": "3.9.7"
  },
  "toc": {
   "base_numbering": 1,
   "nav_menu": {},
   "number_sections": false,
   "sideBar": true,
   "skip_h1_title": false,
   "title_cell": "Table of Contents",
   "title_sidebar": "Contents",
   "toc_cell": false,
   "toc_position": {
    "height": "calc(100% - 180px)",
    "left": "10px",
    "top": "150px",
    "width": "264.796875px"
   },
   "toc_section_display": true,
   "toc_window_display": true
  }
 },
 "nbformat": 4,
 "nbformat_minor": 2
}
