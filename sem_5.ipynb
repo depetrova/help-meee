{
 "cells": [
  {
   "cell_type": "markdown",
   "metadata": {},
   "source": [
    "## Семинар 5 - Проверка гипотез"
   ]
  },
  {
   "cell_type": "markdown",
   "metadata": {},
   "source": [
    "*Где используется проверка гипотез?*\n",
    "\n",
    " * в медицине для изучения эффективности клинических испытаний\n",
    " * маркетологами, менеджерами, дизайнерами при A/B тестировании\n",
    " * в машинном обучении для отбора признаков\n",
    " * в курсах по математической статистике и анализу данных"
   ]
  },
  {
   "cell_type": "markdown",
   "metadata": {},
   "source": [
    "<center>\n",
    "<img src=\"final-1.jpg\" width=\"800\" height=\"400\">\n",
    "</center>"
   ]
  },
  {
   "cell_type": "markdown",
   "metadata": {},
   "source": [
    "*Теперь давайте вспомним!*"
   ]
  },
  {
   "cell_type": "markdown",
   "metadata": {},
   "source": [
    "**Статистическая гипотеза** — это определённое предположение о распределении вероятностей, лежащем в основе наблюдаемой выборки данных."
   ]
  },
  {
   "cell_type": "markdown",
   "metadata": {},
   "source": [
    "**Проверка статистической гипотезы** — это процесс принятия решения о том, противоречит ли рассматриваемая статистическая гипотеза наблюдаемой выборке данных."
   ]
  },
  {
   "cell_type": "markdown",
   "metadata": {},
   "source": [
    "**Статистический тест или  критерий** — строгое математическое правило, по которому принимается или отвергается статистическая гипотеза."
   ]
  },
  {
   "cell_type": "markdown",
   "metadata": {},
   "source": [
    "Если гипотез всего две, то одну из них принято называть основной, а другую — альтернативой, или отклонением от основной гипотезы.\n",
    "\n",
    "$$ H_0 - \\textit{основная гипотеза}$$ \n",
    "$$ H_a - \\textit{альтернативная гипотеза}$$"
   ]
  },
  {
   "cell_type": "markdown",
   "metadata": {},
   "source": [
    "<center>\n",
    "<img src=\"alter_h.png\" width=\"800\" height=\"400\">\n",
    "</center>"
   ]
  },
  {
   "cell_type": "markdown",
   "metadata": {},
   "source": [
    "\n",
    "\n",
    "Типы гипотез:\n",
    "\n",
    "* Выбор из нескольких простых гипотез:\n",
    "\n",
    "$$ H_1: \\{F = F_1\\} $$\n",
    "$$ H_2: \\{F = F_2\\} $$\n",
    "\n",
    "* Простая основная гипотеза и сложная альтернатива:\n",
    "\n",
    "$$ H_1: \\{F = F_1\\} $$\n",
    "$$ H_2: \\{F \\neq F_1\\} $$\n",
    "\n",
    "* Сложная основная гипотеза и сложная альтернатива:\n",
    "\n",
    "$$ H_1: \\{F \\in \\mathbb{F}\\} $$\n",
    "$$ H_2: \\{F \\notin \\mathbb{F}\\} $$\n",
    "\n",
    "* а также гипотезы однородности, независимости и случайности выборок\n"
   ]
  },
  {
   "cell_type": "markdown",
   "metadata": {},
   "source": [
    "**Важно помнить:**\n",
    "\n",
    "* Статистический тест не отвечает на вопрос, верна ли гипотеза, а выясняет противоречат ли имеющиеся данные выдвинутой гипотезе.\n",
    "\n",
    "* Вывод «данные противоречат гипотезе» всегда весомее, чем вывод «данные не противоречат гипотезе»"
   ]
  },
  {
   "cell_type": "markdown",
   "metadata": {},
   "source": [
    "<center>\n",
    "<img src=\"sem_5_p2.png\" width=\"800\" height=\"400\">\n",
    "</center>"
   ]
  },
  {
   "cell_type": "markdown",
   "metadata": {},
   "source": [
    "\n",
    "**Самые популярные тесты:**\n",
    "\n",
    "* Z-тест\n",
    "* T-тест\n",
    "* ANOVA\n",
    "* Хи-квадрат тест \n",
    "\n",
    "В данном семинаре будем использовать первые два: Z-тест и T-тест"
   ]
  },
  {
   "cell_type": "markdown",
   "metadata": {},
   "source": [
    "* T-тест: сравнение двух групп/категорий числовых переменных с небольшим размером выборки\n",
    "* Z-тест: сравнение двух групп/категорий числовых переменных с большим размером выборки\n",
    "* Тест ANOVA: сравнение разницы между двумя или более группами/категориями числовых переменных\n",
    "* Тест Chi-Squared: исследование взаимосвязи между двумя категориальными переменными\n",
    "* Корреляция: исследование взаимосвязи между двумя числовыми переменными"
   ]
  },
  {
   "cell_type": "markdown",
   "metadata": {},
   "source": [
    "**Простой пример с монеткой**\n",
    "\n",
    "У вас есть монета, и вы не знаете, \"правильная\" ли она.\n",
    "\n",
    "$$ H_0: \\textit{монета правильная} $$ \n",
    "$$ H_a: \\textit{монета неправильная} $$ \n",
    "\n",
    "\n",
    "\n"
   ]
  },
  {
   "cell_type": "markdown",
   "metadata": {},
   "source": [
    "## 4 шага для проверки гипотезы"
   ]
  },
  {
   "cell_type": "markdown",
   "metadata": {},
   "source": [
    "Шаг 1: Сформулировать гипотезу\n",
    "\n",
    "Шаг 2: Выбрать критерий\n",
    "\n",
    "Шаг 3: Посчитать тестовую статистику\n",
    "\n",
    "Шаг 4: Сделать вывод"
   ]
  },
  {
   "cell_type": "markdown",
   "metadata": {},
   "source": [
    "**Разберем на примере** *(особенно актуальном для студентов)*"
   ]
  },
  {
   "cell_type": "markdown",
   "metadata": {},
   "source": [
    "## Z-тест"
   ]
  },
  {
   "cell_type": "markdown",
   "metadata": {},
   "source": [
    "Для применения данного критерия необходимо, чтобы:\n",
    "\n",
    "* исходные данные имели **нормальное распределение**\n",
    "* была **известна дисперсия** генеральной совокупности"
   ]
  },
  {
   "cell_type": "markdown",
   "metadata": {},
   "source": [
    "Проверим гипотезу, что **в среднем человек спит 7 часов в сутки.**"
   ]
  },
  {
   "cell_type": "markdown",
   "metadata": {},
   "source": [
    "Тогда генеральная совокупность - это все люди.\n",
    "\n",
    "Предположим, что мы провели опрос и выяснили, что в среднем опрошенные респонденты спят 7.5 часов, что на полчаса больше, чем мы изначально предположили, а стандартное отклонение равно 1 часу.\n",
    "\n",
    "Теперь необходимо сформулировать гипотезу. \n",
    "\n",
    "$$ H_0: \\mu = 7 \\textit{, в среднем человек спит 7 часов в сутки}$$ \n",
    "\n",
    "Для альтернативной гипотезы есть 3 варианта: \n",
    "\n",
    "$$ H_a: \\mu \\neq 7 \\textit{, в среднем человек спит не 7 часов в сутки}$$ \n",
    "\n",
    "$$ H_a: \\mu > 7 \\textit{, в среднем человек спит больше 7 часов в сутки}$$ \n",
    "\n",
    "$$ H_a: \\mu < 7 \\textit{, в среднем человек спит меньше 7 часов в сутки}$$ \n",
    "\n",
    "\n",
    "\n"
   ]
  },
  {
   "cell_type": "markdown",
   "metadata": {},
   "source": [
    "**Шаг 1**\n",
    "\n",
    "Выберем первый вариант альтернативной гипотезы:\n",
    "$$ H_0: \\mu = 7 $$ \n",
    "$$ H_a: \\mu \\neq 7 $$ "
   ]
  },
  {
   "cell_type": "markdown",
   "metadata": {},
   "source": [
    "**Шаг 2**\n",
    "\n",
    "Зафиксируем уровень значимости: $\\alpha = 5\\%$\n",
    "как правило, чемм меньше ошибка 1 рода, тем больше ошибка 2. Альфа это как раз про 1 ошибку, бету не фиксируем, она автоматически устанавливается на уровне 20% и че то такое"
   ]
  },
  {
   "cell_type": "markdown",
   "metadata": {},
   "source": [
    "Так как при альтернативной гипотезе значение может быть как больше, так и меньше 7, тест будет двусторонний.\n",
    "Уровень доверия 95% говорит о том, что в 95% случаев мы не отвергаем основную гипотезу.\n",
    "Тогда по 2.5% будет приходиться на хвосты распределения на картинке, то есть на области, где основная гипотеза отвергается."
   ]
  },
  {
   "cell_type": "markdown",
   "metadata": {},
   "source": [
    "<center>\n",
    "<img src=\"Z-2_tailed.png\" width=\"800\" height=\"400\">\n",
    "</center>"
   ]
  },
  {
   "cell_type": "markdown",
   "metadata": {},
   "source": [
    "Чтобы найти критические значения, начиная с которых будет отвергаться основная гипотеза, воспользуемся таблицей нормального распределения и выберем значение, которое приближает площадь под кривой к 0.0250. В данном случае это значение равно 1.96.\n",
    "Если значение нашей статистики больше 1.96 стандартных отклонений или меньше -1.96 стандартных отклонений, мы будем находиться в зоне отклонения и основная гипотеза будет отвергаться."
   ]
  },
  {
   "cell_type": "markdown",
   "metadata": {},
   "source": [
    "<center>\n",
    "<img src=\"n_table.png\" width=\"800\" height=\"400\">\n",
    "</center>"
   ]
  },
  {
   "cell_type": "markdown",
   "metadata": {},
   "source": [
    "Границы, где основная гипотеза не отвергается определены: [-1.96, 1.96]"
   ]
  },
  {
   "cell_type": "code",
   "execution_count": 2,
   "metadata": {},
   "outputs": [],
   "source": [
    "# импорт библиотек\n",
    "import numpy as np \n",
    "import pandas as pd    \n",
    "from scipy.stats import norm #тут лежат всякие статистические штуки полезные, вы подпакете статс лежат статкритерии\n",
    "#норм будет генирировать случайные числа из нормального распределения из воздуха"
   ]
  },
  {
   "cell_type": "code",
   "execution_count": 3,
   "metadata": {},
   "outputs": [
    {
     "name": "stdout",
     "output_type": "stream",
     "text": [
      "-1.9599639845400545 1.959963984540054\n"
     ]
    }
   ],
   "source": [
    "print(norm.ppf(0.025),norm.ppf(0.975))\n",
    "#ппф принимает на вход уровень квантиля и выдаст \"начало\" критической области"
   ]
  },
  {
   "cell_type": "markdown",
   "metadata": {},
   "source": [
    "**Шаг 3**\n",
    "\n",
    "Теперь посчитаем тестовую статистику (в предположении, что у нас 100 наблюдений).\n",
    "\n",
    "$$\n",
    "Z_{stat} = \\frac{M - \\mu}{\\sigma / \\sqrt{n}} = \\frac{7.5 - 7}{1 / \\sqrt{100}} = 5 \n",
    "$$"
   ]
  },
  {
   "cell_type": "markdown",
   "metadata": {},
   "source": [
    "**Шаг 4**\n",
    "\n",
    "Осталось только сделать вывод: тестовая статистика равна 5 и она не принадлежит принадлежит интервалу [-1.96, 1.96].\n",
    "\n",
    "Следовательно, основная гипотеза о том, что в среднем человек спит 7 часов в сутки, не принимается.\n"
   ]
  },
  {
   "cell_type": "markdown",
   "metadata": {},
   "source": [
    "**Задание**\n",
    "\n",
    "А теперь предположите, что опрос проводился среди студентов ВШЭ во время сессии.\n",
    "Проведите повторный тест. Изменился ли Ваш ответ?"
   ]
  },
  {
   "cell_type": "markdown",
   "metadata": {},
   "source": [
    "**Переходим к коду:**"
   ]
  },
  {
   "cell_type": "code",
   "execution_count": 6,
   "metadata": {},
   "outputs": [
    {
     "name": "stdout",
     "output_type": "stream",
     "text": [
      "Z-statistics = 4.649        \n",
      " p-value = 0.0\n"
     ]
    }
   ],
   "source": [
    "from statsmodels.stats.weightstats import ztest\n",
    "\n",
    "# сгенерируем данные из нормального распределения с заданными параметрами\n",
    "\n",
    "mu, sigma = 7.5, 1 #мю это мы получили а 7.0 это наше предположение\n",
    "\n",
    "np.random.seed(123) #это чтоб постоянно выводил одну выборку а не рандосные каждый раз\n",
    "data = np.random.normal(mu, sigma, 100)\n",
    "\n",
    "# Z-тест:\n",
    "#   data - выборка\n",
    "#   value - значение нулевой гипотезы\n",
    "#   alternative - тип альтернативной гипотезы: 'two-sided', 'larger', 'smaller'\n",
    "\n",
    "result = ztest(data, value = 7.0, alternative = 'two-sided')\n",
    "\n",
    "print(f'Z-statistics = {round(result[0],3)}\\\n",
    "        \\n p-value = {round(result[1],3)}')\n",
    "#выдает значение з-статистики и пи вэлью, "
   ]
  },
  {
   "cell_type": "markdown",
   "metadata": {},
   "source": [
    "Про **p-value** будем подробнее говорить на следующем семинаре, но забегая немного вперед, фактически, это вероятность ошибки при отклонении нулевой гипотезы или наименьшее значение уровня значимости, для которого рассчитанная статистика ведет к отказу от нулевой гипотезы."
   ]
  },
  {
   "cell_type": "markdown",
   "metadata": {},
   "source": [
    "Задание на Z-test: поэкспериментируйте с типом альтернативной гипотезы"
   ]
  },
  {
   "cell_type": "code",
   "execution_count": 8,
   "metadata": {},
   "outputs": [
    {
     "name": "stdout",
     "output_type": "stream",
     "text": [
      "Z-statistics = 4.649        \n",
      " p-value = 1.0\n"
     ]
    }
   ],
   "source": [
    "# YOUR CODE\n",
    "result = ztest(data, value = 7.0, alternative = 'smaller')\n",
    "\n",
    "print(f'Z-statistics = {round(result[0],3)}\\\n",
    "        \\n p-value = {round(result[1],3)}')"
   ]
  },
  {
   "cell_type": "code",
   "execution_count": 9,
   "metadata": {},
   "outputs": [
    {
     "name": "stdout",
     "output_type": "stream",
     "text": [
      "Z-statistics = 4.649        \n",
      " p-value = 0.0\n"
     ]
    }
   ],
   "source": [
    "result = ztest(data, value = 7.0, alternative = 'larger')\n",
    "\n",
    "print(f'Z-statistics = {round(result[0],3)}\\\n",
    "        \\n p-value = {round(result[1],3)}')"
   ]
  },
  {
   "cell_type": "markdown",
   "metadata": {},
   "source": [
    "зафиксирую, если Н1 smaller, то  заштриховываем левый хвост H0: M=M0 H1: M<M0, если larger то заштриховываем правый M>M0\n",
    "просто это три разных Н1 и мы каждый отдельный вариант рассматриваем"
   ]
  },
  {
   "cell_type": "markdown",
   "metadata": {},
   "source": [
    "**Задача**\n",
    "\n",
    "Студенты в конце учебного года сдают итоговое тестирование по английскому языку по 10-бальной шкале. \n",
    "Вы предполагаете, что средняя оценка равна 6 и решаете опросить несколько старшекурсников.\n",
    "Получилась следующая выборка: 9, 7, 5, 10, 4, 6, 8.\n",
    "Также из наблюдений прошлых лет известно, что дисперсия равна 1.\n",
    "\n",
    "Проверьте гипотезу, что среднее равно 6 на уровне значимости 1% против односторонней альтернативы, что средний балл больше 6."
   ]
  },
  {
   "cell_type": "code",
   "execution_count": 11,
   "metadata": {},
   "outputs": [],
   "source": [
    "# YOUR CODE\n",
    "obs = [9, 7, 5, 10, 4, 6, 8]\n",
    "sigma = 1\n",
    "m_0 = 6\n",
    "\n",
    "#H0: m=m_0   H1: m>m_0"
   ]
  },
  {
   "cell_type": "code",
   "execution_count": 12,
   "metadata": {},
   "outputs": [
    {
     "data": {
      "text/plain": [
       "7.0"
      ]
     },
     "execution_count": 12,
     "metadata": {},
     "output_type": "execute_result"
    }
   ],
   "source": [
    "np.mean(obs)"
   ]
  },
  {
   "cell_type": "code",
   "execution_count": 14,
   "metadata": {},
   "outputs": [],
   "source": [
    "np.random.seed(82729)\n",
    "obs_norm = np.random.normal(np.mean(obs), sigma, 7) "
   ]
  },
  {
   "cell_type": "code",
   "execution_count": 15,
   "metadata": {},
   "outputs": [
    {
     "data": {
      "text/plain": [
       "7.563491700773459"
      ]
     },
     "execution_count": 15,
     "metadata": {},
     "output_type": "execute_result"
    }
   ],
   "source": [
    "np.mean(obs_norm)"
   ]
  },
  {
   "cell_type": "code",
   "execution_count": 17,
   "metadata": {},
   "outputs": [
    {
     "name": "stdout",
     "output_type": "stream",
     "text": [
      "Z-statistics = 2.357        \n",
      " p-value = 0.009\n"
     ]
    }
   ],
   "source": [
    "result = ztest(obs_norm, value = 6, alternative = 'larger')\n",
    "\n",
    "print(f'Z-statistics = {round(result[0],3)}\\\n",
    "        \\n p-value = {round(result[1],3)}')"
   ]
  },
  {
   "cell_type": "code",
   "execution_count": 19,
   "metadata": {},
   "outputs": [
    {
     "data": {
      "text/plain": [
       "2.3263478740408408"
      ]
     },
     "execution_count": 19,
     "metadata": {},
     "output_type": "execute_result"
    }
   ],
   "source": [
    "norm.ppf(0.99) #отвергаем Н0"
   ]
  },
  {
   "cell_type": "markdown",
   "metadata": {},
   "source": [
    "**Теперь немного о финансах...**"
   ]
  },
  {
   "cell_type": "markdown",
   "metadata": {},
   "source": [
    " Загрузим данные котировок акций и проверим гипотезу на реальных данных."
   ]
  },
  {
   "cell_type": "code",
   "execution_count": 21,
   "metadata": {},
   "outputs": [
    {
     "name": "stdout",
     "output_type": "stream",
     "text": [
      "Collecting quandl\n",
      "  Downloading Quandl-3.7.0-py2.py3-none-any.whl (26 kB)\n",
      "Requirement already satisfied: more-itertools in c:\\users\\dasha\\anaconda3\\lib\\site-packages (from quandl) (8.10.0)\n",
      "Requirement already satisfied: six in c:\\users\\dasha\\anaconda3\\lib\\site-packages (from quandl) (1.16.0)\n",
      "Requirement already satisfied: requests>=2.7.0 in c:\\users\\dasha\\anaconda3\\lib\\site-packages (from quandl) (2.26.0)\n",
      "Requirement already satisfied: pandas>=0.14 in c:\\users\\dasha\\anaconda3\\lib\\site-packages (from quandl) (1.3.4)\n",
      "Requirement already satisfied: python-dateutil in c:\\users\\dasha\\anaconda3\\lib\\site-packages (from quandl) (2.8.2)\n",
      "Requirement already satisfied: numpy>=1.8 in c:\\users\\dasha\\anaconda3\\lib\\site-packages (from quandl) (1.20.3)\n",
      "Requirement already satisfied: inflection>=0.3.1 in c:\\users\\dasha\\anaconda3\\lib\\site-packages (from quandl) (0.5.1)\n",
      "Requirement already satisfied: pytz>=2017.3 in c:\\users\\dasha\\anaconda3\\lib\\site-packages (from pandas>=0.14->quandl) (2021.3)\n",
      "Requirement already satisfied: charset-normalizer~=2.0.0 in c:\\users\\dasha\\anaconda3\\lib\\site-packages (from requests>=2.7.0->quandl) (2.0.4)\n",
      "Requirement already satisfied: urllib3<1.27,>=1.21.1 in c:\\users\\dasha\\anaconda3\\lib\\site-packages (from requests>=2.7.0->quandl) (1.26.7)\n",
      "Requirement already satisfied: idna<4,>=2.5 in c:\\users\\dasha\\anaconda3\\lib\\site-packages (from requests>=2.7.0->quandl) (3.2)\n",
      "Requirement already satisfied: certifi>=2017.4.17 in c:\\users\\dasha\\anaconda3\\lib\\site-packages (from requests>=2.7.0->quandl) (2021.10.8)\n",
      "Installing collected packages: quandl\n",
      "Successfully installed quandl-3.7.0\n",
      "Note: you may need to restart the kernel to use updated packages.\n"
     ]
    }
   ],
   "source": [
    "pip install quandl"
   ]
  },
  {
   "cell_type": "code",
   "execution_count": 23,
   "metadata": {},
   "outputs": [
    {
     "ename": "LimitExceededError",
     "evalue": "(Status 429) (Quandl Error QELx04) You have exceeded the API speed limit of 20 calls per 10 minutes. Please slow down your requests.",
     "output_type": "error",
     "traceback": [
      "\u001b[1;31m---------------------------------------------------------------------------\u001b[0m",
      "\u001b[1;31mLimitExceededError\u001b[0m                        Traceback (most recent call last)",
      "\u001b[1;32m~\\AppData\\Local\\Temp/ipykernel_20420/2132666885.py\u001b[0m in \u001b[0;36m<module>\u001b[1;34m\u001b[0m\n\u001b[0;32m      1\u001b[0m \u001b[1;32mimport\u001b[0m \u001b[0mquandl\u001b[0m\u001b[1;33m\u001b[0m\u001b[1;33m\u001b[0m\u001b[0m\n\u001b[0;32m      2\u001b[0m \u001b[1;31m# Загрузим данные котировок акций Apple с Quandl\u001b[0m\u001b[1;33m\u001b[0m\u001b[1;33m\u001b[0m\u001b[0m\n\u001b[1;32m----> 3\u001b[1;33m \u001b[0mdata\u001b[0m \u001b[1;33m=\u001b[0m \u001b[0mquandl\u001b[0m\u001b[1;33m.\u001b[0m\u001b[0mget\u001b[0m\u001b[1;33m(\u001b[0m\u001b[1;34m'WIKI/AAPL'\u001b[0m\u001b[1;33m)\u001b[0m\u001b[1;33m\u001b[0m\u001b[1;33m\u001b[0m\u001b[0m\n\u001b[0m\u001b[0;32m      4\u001b[0m \u001b[0mprint\u001b[0m\u001b[1;33m(\u001b[0m\u001b[0mdata\u001b[0m\u001b[1;33m.\u001b[0m\u001b[0minfo\u001b[0m\u001b[1;33m(\u001b[0m\u001b[1;33m)\u001b[0m\u001b[1;33m)\u001b[0m\u001b[1;33m\u001b[0m\u001b[1;33m\u001b[0m\u001b[0m\n\u001b[0;32m      5\u001b[0m \u001b[1;31m#не работает потому что не загружена на комп эта библиотека лол\u001b[0m\u001b[1;33m\u001b[0m\u001b[1;33m\u001b[0m\u001b[0m\n",
      "\u001b[1;32m~\\anaconda3\\lib\\site-packages\\quandl\\get.py\u001b[0m in \u001b[0;36mget\u001b[1;34m(dataset, **kwargs)\u001b[0m\n\u001b[0;32m     46\u001b[0m         \u001b[1;32mif\u001b[0m \u001b[0mdataset_args\u001b[0m\u001b[1;33m[\u001b[0m\u001b[1;34m'column_index'\u001b[0m\u001b[1;33m]\u001b[0m \u001b[1;32mis\u001b[0m \u001b[1;32mnot\u001b[0m \u001b[1;32mNone\u001b[0m\u001b[1;33m:\u001b[0m\u001b[1;33m\u001b[0m\u001b[1;33m\u001b[0m\u001b[0m\n\u001b[0;32m     47\u001b[0m             \u001b[0mkwargs\u001b[0m\u001b[1;33m.\u001b[0m\u001b[0mupdate\u001b[0m\u001b[1;33m(\u001b[0m\u001b[1;33m{\u001b[0m\u001b[1;34m'column_index'\u001b[0m\u001b[1;33m:\u001b[0m \u001b[0mdataset_args\u001b[0m\u001b[1;33m[\u001b[0m\u001b[1;34m'column_index'\u001b[0m\u001b[1;33m]\u001b[0m\u001b[1;33m}\u001b[0m\u001b[1;33m)\u001b[0m\u001b[1;33m\u001b[0m\u001b[1;33m\u001b[0m\u001b[0m\n\u001b[1;32m---> 48\u001b[1;33m         \u001b[0mdata\u001b[0m \u001b[1;33m=\u001b[0m \u001b[0mDataset\u001b[0m\u001b[1;33m(\u001b[0m\u001b[0mdataset_args\u001b[0m\u001b[1;33m[\u001b[0m\u001b[1;34m'code'\u001b[0m\u001b[1;33m]\u001b[0m\u001b[1;33m)\u001b[0m\u001b[1;33m.\u001b[0m\u001b[0mdata\u001b[0m\u001b[1;33m(\u001b[0m\u001b[0mparams\u001b[0m\u001b[1;33m=\u001b[0m\u001b[0mkwargs\u001b[0m\u001b[1;33m,\u001b[0m \u001b[0mhandle_column_not_found\u001b[0m\u001b[1;33m=\u001b[0m\u001b[1;32mTrue\u001b[0m\u001b[1;33m)\u001b[0m\u001b[1;33m\u001b[0m\u001b[1;33m\u001b[0m\u001b[0m\n\u001b[0m\u001b[0;32m     49\u001b[0m     \u001b[1;31m# Array\u001b[0m\u001b[1;33m\u001b[0m\u001b[1;33m\u001b[0m\u001b[0m\n\u001b[0;32m     50\u001b[0m     \u001b[1;32melif\u001b[0m \u001b[0misinstance\u001b[0m\u001b[1;33m(\u001b[0m\u001b[0mdataset\u001b[0m\u001b[1;33m,\u001b[0m \u001b[0mlist\u001b[0m\u001b[1;33m)\u001b[0m\u001b[1;33m:\u001b[0m\u001b[1;33m\u001b[0m\u001b[1;33m\u001b[0m\u001b[0m\n",
      "\u001b[1;32m~\\anaconda3\\lib\\site-packages\\quandl\\model\\dataset.py\u001b[0m in \u001b[0;36mdata\u001b[1;34m(self, **options)\u001b[0m\n\u001b[0;32m     45\u001b[0m         \u001b[0mupdated_options\u001b[0m \u001b[1;33m=\u001b[0m \u001b[0mUtil\u001b[0m\u001b[1;33m.\u001b[0m\u001b[0mmerge_options\u001b[0m\u001b[1;33m(\u001b[0m\u001b[1;34m'params'\u001b[0m\u001b[1;33m,\u001b[0m \u001b[0mparams\u001b[0m\u001b[1;33m,\u001b[0m \u001b[1;33m**\u001b[0m\u001b[0moptions\u001b[0m\u001b[1;33m)\u001b[0m\u001b[1;33m\u001b[0m\u001b[1;33m\u001b[0m\u001b[0m\n\u001b[0;32m     46\u001b[0m         \u001b[1;32mtry\u001b[0m\u001b[1;33m:\u001b[0m\u001b[1;33m\u001b[0m\u001b[1;33m\u001b[0m\u001b[0m\n\u001b[1;32m---> 47\u001b[1;33m             \u001b[1;32mreturn\u001b[0m \u001b[0mData\u001b[0m\u001b[1;33m.\u001b[0m\u001b[0mall\u001b[0m\u001b[1;33m(\u001b[0m\u001b[1;33m**\u001b[0m\u001b[0mupdated_options\u001b[0m\u001b[1;33m)\u001b[0m\u001b[1;33m\u001b[0m\u001b[1;33m\u001b[0m\u001b[0m\n\u001b[0m\u001b[0;32m     48\u001b[0m         \u001b[1;32mexcept\u001b[0m \u001b[0mNotFoundError\u001b[0m\u001b[1;33m:\u001b[0m\u001b[1;33m\u001b[0m\u001b[1;33m\u001b[0m\u001b[0m\n\u001b[0;32m     49\u001b[0m             \u001b[1;32mif\u001b[0m \u001b[0mhandle_not_found_error\u001b[0m\u001b[1;33m:\u001b[0m\u001b[1;33m\u001b[0m\u001b[1;33m\u001b[0m\u001b[0m\n",
      "\u001b[1;32m~\\anaconda3\\lib\\site-packages\\quandl\\operations\\list.py\u001b[0m in \u001b[0;36mall\u001b[1;34m(cls, **options)\u001b[0m\n\u001b[0;32m     13\u001b[0m             \u001b[0moptions\u001b[0m\u001b[1;33m[\u001b[0m\u001b[1;34m'params'\u001b[0m\u001b[1;33m]\u001b[0m \u001b[1;33m=\u001b[0m \u001b[1;33m{\u001b[0m\u001b[1;33m}\u001b[0m\u001b[1;33m\u001b[0m\u001b[1;33m\u001b[0m\u001b[0m\n\u001b[0;32m     14\u001b[0m         \u001b[0mpath\u001b[0m \u001b[1;33m=\u001b[0m \u001b[0mUtil\u001b[0m\u001b[1;33m.\u001b[0m\u001b[0mconstructed_path\u001b[0m\u001b[1;33m(\u001b[0m\u001b[0mcls\u001b[0m\u001b[1;33m.\u001b[0m\u001b[0mlist_path\u001b[0m\u001b[1;33m(\u001b[0m\u001b[1;33m)\u001b[0m\u001b[1;33m,\u001b[0m \u001b[0moptions\u001b[0m\u001b[1;33m[\u001b[0m\u001b[1;34m'params'\u001b[0m\u001b[1;33m]\u001b[0m\u001b[1;33m)\u001b[0m\u001b[1;33m\u001b[0m\u001b[1;33m\u001b[0m\u001b[0m\n\u001b[1;32m---> 15\u001b[1;33m         \u001b[0mr\u001b[0m \u001b[1;33m=\u001b[0m \u001b[0mConnection\u001b[0m\u001b[1;33m.\u001b[0m\u001b[0mrequest\u001b[0m\u001b[1;33m(\u001b[0m\u001b[1;34m'get'\u001b[0m\u001b[1;33m,\u001b[0m \u001b[0mpath\u001b[0m\u001b[1;33m,\u001b[0m \u001b[1;33m**\u001b[0m\u001b[0moptions\u001b[0m\u001b[1;33m)\u001b[0m\u001b[1;33m\u001b[0m\u001b[1;33m\u001b[0m\u001b[0m\n\u001b[0m\u001b[0;32m     16\u001b[0m         \u001b[0mresponse_data\u001b[0m \u001b[1;33m=\u001b[0m \u001b[0mr\u001b[0m\u001b[1;33m.\u001b[0m\u001b[0mjson\u001b[0m\u001b[1;33m(\u001b[0m\u001b[1;33m)\u001b[0m\u001b[1;33m\u001b[0m\u001b[1;33m\u001b[0m\u001b[0m\n\u001b[0;32m     17\u001b[0m         \u001b[0mUtil\u001b[0m\u001b[1;33m.\u001b[0m\u001b[0mconvert_to_dates\u001b[0m\u001b[1;33m(\u001b[0m\u001b[0mresponse_data\u001b[0m\u001b[1;33m)\u001b[0m\u001b[1;33m\u001b[0m\u001b[1;33m\u001b[0m\u001b[0m\n",
      "\u001b[1;32m~\\anaconda3\\lib\\site-packages\\quandl\\connection.py\u001b[0m in \u001b[0;36mrequest\u001b[1;34m(cls, http_verb, url, **options)\u001b[0m\n\u001b[0;32m     36\u001b[0m         \u001b[0mabs_url\u001b[0m \u001b[1;33m=\u001b[0m \u001b[1;34m'%s/%s'\u001b[0m \u001b[1;33m%\u001b[0m \u001b[1;33m(\u001b[0m\u001b[0mApiConfig\u001b[0m\u001b[1;33m.\u001b[0m\u001b[0mapi_base\u001b[0m\u001b[1;33m,\u001b[0m \u001b[0murl\u001b[0m\u001b[1;33m)\u001b[0m\u001b[1;33m\u001b[0m\u001b[1;33m\u001b[0m\u001b[0m\n\u001b[0;32m     37\u001b[0m \u001b[1;33m\u001b[0m\u001b[0m\n\u001b[1;32m---> 38\u001b[1;33m         \u001b[1;32mreturn\u001b[0m \u001b[0mcls\u001b[0m\u001b[1;33m.\u001b[0m\u001b[0mexecute_request\u001b[0m\u001b[1;33m(\u001b[0m\u001b[0mhttp_verb\u001b[0m\u001b[1;33m,\u001b[0m \u001b[0mabs_url\u001b[0m\u001b[1;33m,\u001b[0m \u001b[1;33m**\u001b[0m\u001b[0moptions\u001b[0m\u001b[1;33m)\u001b[0m\u001b[1;33m\u001b[0m\u001b[1;33m\u001b[0m\u001b[0m\n\u001b[0m\u001b[0;32m     39\u001b[0m \u001b[1;33m\u001b[0m\u001b[0m\n\u001b[0;32m     40\u001b[0m     \u001b[1;33m@\u001b[0m\u001b[0mclassmethod\u001b[0m\u001b[1;33m\u001b[0m\u001b[1;33m\u001b[0m\u001b[0m\n",
      "\u001b[1;32m~\\anaconda3\\lib\\site-packages\\quandl\\connection.py\u001b[0m in \u001b[0;36mexecute_request\u001b[1;34m(cls, http_verb, url, **options)\u001b[0m\n\u001b[0;32m     48\u001b[0m                                        **options)\n\u001b[0;32m     49\u001b[0m             \u001b[1;32mif\u001b[0m \u001b[0mresponse\u001b[0m\u001b[1;33m.\u001b[0m\u001b[0mstatus_code\u001b[0m \u001b[1;33m<\u001b[0m \u001b[1;36m200\u001b[0m \u001b[1;32mor\u001b[0m \u001b[0mresponse\u001b[0m\u001b[1;33m.\u001b[0m\u001b[0mstatus_code\u001b[0m \u001b[1;33m>=\u001b[0m \u001b[1;36m300\u001b[0m\u001b[1;33m:\u001b[0m\u001b[1;33m\u001b[0m\u001b[1;33m\u001b[0m\u001b[0m\n\u001b[1;32m---> 50\u001b[1;33m                 \u001b[0mcls\u001b[0m\u001b[1;33m.\u001b[0m\u001b[0mhandle_api_error\u001b[0m\u001b[1;33m(\u001b[0m\u001b[0mresponse\u001b[0m\u001b[1;33m)\u001b[0m\u001b[1;33m\u001b[0m\u001b[1;33m\u001b[0m\u001b[0m\n\u001b[0m\u001b[0;32m     51\u001b[0m             \u001b[1;32melse\u001b[0m\u001b[1;33m:\u001b[0m\u001b[1;33m\u001b[0m\u001b[1;33m\u001b[0m\u001b[0m\n\u001b[0;32m     52\u001b[0m                 \u001b[1;32mreturn\u001b[0m \u001b[0mresponse\u001b[0m\u001b[1;33m\u001b[0m\u001b[1;33m\u001b[0m\u001b[0m\n",
      "\u001b[1;32m~\\anaconda3\\lib\\site-packages\\quandl\\connection.py\u001b[0m in \u001b[0;36mhandle_api_error\u001b[1;34m(cls, resp)\u001b[0m\n\u001b[0;32m    112\u001b[0m         \u001b[0mklass\u001b[0m \u001b[1;33m=\u001b[0m \u001b[0md_klass\u001b[0m\u001b[1;33m.\u001b[0m\u001b[0mget\u001b[0m\u001b[1;33m(\u001b[0m\u001b[0mcode_letter\u001b[0m\u001b[1;33m,\u001b[0m \u001b[0mQuandlError\u001b[0m\u001b[1;33m)\u001b[0m\u001b[1;33m\u001b[0m\u001b[1;33m\u001b[0m\u001b[0m\n\u001b[0;32m    113\u001b[0m \u001b[1;33m\u001b[0m\u001b[0m\n\u001b[1;32m--> 114\u001b[1;33m         \u001b[1;32mraise\u001b[0m \u001b[0mklass\u001b[0m\u001b[1;33m(\u001b[0m\u001b[0mmessage\u001b[0m\u001b[1;33m,\u001b[0m \u001b[0mresp\u001b[0m\u001b[1;33m.\u001b[0m\u001b[0mstatus_code\u001b[0m\u001b[1;33m,\u001b[0m \u001b[0mresp\u001b[0m\u001b[1;33m.\u001b[0m\u001b[0mtext\u001b[0m\u001b[1;33m,\u001b[0m \u001b[0mresp\u001b[0m\u001b[1;33m.\u001b[0m\u001b[0mheaders\u001b[0m\u001b[1;33m,\u001b[0m \u001b[0mcode\u001b[0m\u001b[1;33m)\u001b[0m\u001b[1;33m\u001b[0m\u001b[1;33m\u001b[0m\u001b[0m\n\u001b[0m",
      "\u001b[1;31mLimitExceededError\u001b[0m: (Status 429) (Quandl Error QELx04) You have exceeded the API speed limit of 20 calls per 10 minutes. Please slow down your requests."
     ]
    }
   ],
   "source": [
    "import quandl\n",
    "# Загрузим данные котировок акций Apple с Quandl\n",
    "data = quandl.get('WIKI/AAPL')\n",
    "print(data.info())\n",
    "#не работает потому что не загружена на комп эта библиотека лол"
   ]
  },
  {
   "cell_type": "code",
   "execution_count": 48,
   "metadata": {},
   "outputs": [
    {
     "name": "stdout",
     "output_type": "stream",
     "text": [
      "<class 'pandas.core.frame.DataFrame'>\n",
      "DatetimeIndex: 9400 entries, 1980-12-12 to 2018-03-27\n",
      "Data columns (total 12 columns):\n",
      " #   Column       Non-Null Count  Dtype  \n",
      "---  ------       --------------  -----  \n",
      " 0   Open         9400 non-null   float64\n",
      " 1   High         9400 non-null   float64\n",
      " 2   Low          9400 non-null   float64\n",
      " 3   Close        9400 non-null   float64\n",
      " 4   Volume       9400 non-null   float64\n",
      " 5   Ex-Dividend  9400 non-null   float64\n",
      " 6   Split Ratio  9400 non-null   float64\n",
      " 7   Adj. Open    9400 non-null   float64\n",
      " 8   Adj. High    9400 non-null   float64\n",
      " 9   Adj. Low     9400 non-null   float64\n",
      " 10  Adj. Close   9400 non-null   float64\n",
      " 11  Adj. Volume  9400 non-null   float64\n",
      "dtypes: float64(12)\n",
      "memory usage: 954.7 KB\n",
      "None\n"
     ]
    }
   ],
   "source": [
    "import quandl\n",
    "# Загрузим данные котировок акций Apple с Quandl\n",
    "data = quandl.get('WIKI/AAPL')\n",
    "print(data.info())"
   ]
  },
  {
   "cell_type": "code",
   "execution_count": 49,
   "metadata": {},
   "outputs": [
    {
     "data": {
      "text/plain": [
       "DatetimeIndex(['1980-12-12', '1980-12-15', '1980-12-16', '1980-12-17',\n",
       "               '1980-12-18', '1980-12-19', '1980-12-22', '1980-12-23',\n",
       "               '1980-12-24', '1980-12-26',\n",
       "               ...\n",
       "               '2018-03-14', '2018-03-15', '2018-03-16', '2018-03-19',\n",
       "               '2018-03-20', '2018-03-21', '2018-03-22', '2018-03-23',\n",
       "               '2018-03-26', '2018-03-27'],\n",
       "              dtype='datetime64[ns]', name='Date', length=9400, freq=None)"
      ]
     },
     "execution_count": 49,
     "metadata": {},
     "output_type": "execute_result"
    }
   ],
   "source": [
    "# Данные с 1980 по 2018 год\n",
    "data.index"
   ]
  },
  {
   "cell_type": "code",
   "execution_count": 79,
   "metadata": {},
   "outputs": [
    {
     "data": {
      "text/plain": [
       "<AxesSubplot:xlabel='Date'>"
      ]
     },
     "execution_count": 79,
     "metadata": {},
     "output_type": "execute_result"
    },
    {
     "data": {
      "image/png": "[encoded data removed]",
      "text/plain": [
       "<Figure size 1080x360 with 1 Axes>"
      ]
     },
     "metadata": {
      "needs_background": "light"
     },
     "output_type": "display_data"
    }
   ],
   "source": [
    "# Возьмем цены закрытия c 2016 года\n",
    "\n",
    "prices = data['2016-01-01':]['Close']\n",
    "prices.plot(figsize=(15, 5))"
   ]
  },
  {
   "cell_type": "code",
   "execution_count": 80,
   "metadata": {},
   "outputs": [],
   "source": [
    "def log_returns(df):\n",
    "    \n",
    "    '''Calcualate log returns from close prices'''\n",
    "    \n",
    "    return np.log(1+df.pct_change())"
   ]
  },
  {
   "cell_type": "code",
   "execution_count": 81,
   "metadata": {},
   "outputs": [
    {
     "data": {
      "text/plain": [
       "<AxesSubplot:>"
      ]
     },
     "execution_count": 81,
     "metadata": {},
     "output_type": "execute_result"
    },
    {
     "data": {
      "image/png": "[encoded data removed]",
      "text/plain": [
       "<Figure size 1080x360 with 1 Axes>"
      ]
     },
     "metadata": {
      "needs_background": "light"
     },
     "output_type": "display_data"
    }
   ],
   "source": [
    "# рассчитаем ежедневную логарифмическую доходность и изобразим распределение на гистограмме\n",
    "returns = log_returns(prices).dropna()\n",
    "returns.hist(figsize=(15, 5), bins = 30)"
   ]
  },
  {
   "cell_type": "code",
   "execution_count": 82,
   "metadata": {},
   "outputs": [
    {
     "data": {
      "text/plain": [
       "<AxesSubplot:xlabel='Date'>"
      ]
     },
     "execution_count": 82,
     "metadata": {},
     "output_type": "execute_result"
    },
    {
     "data": {
      "image/png": "[encoded data removed]",
      "text/plain": [
       "<Figure size 1080x360 with 1 Axes>"
      ]
     },
     "metadata": {
      "needs_background": "light"
     },
     "output_type": "display_data"
    }
   ],
   "source": [
    "returns.plot(figsize=(15, 5))"
   ]
  },
  {
   "cell_type": "code",
   "execution_count": 73,
   "metadata": {},
   "outputs": [
    {
     "name": "stdout",
     "output_type": "stream",
     "text": [
      "Z-statistics = 1.465        \n",
      " p-value = 0.072\n"
     ]
    }
   ],
   "source": [
    "# простестируем гипотезу, что среднее по выборке равно 0, против альтернативной гипотезы, что среднее больше 0\n",
    "\n",
    "result = ztest(returns_2016.values, value = 0, alternative = 'larger')\n",
    "\n",
    "print(f'Z-statistics = {round(result[0],3)}\\\n",
    "        \\n p-value = {round(result[1],3)}')\n"
   ]
  },
  {
   "cell_type": "markdown",
   "metadata": {},
   "source": [
    "Отвергается ли основная гипотеза? На каком уровне значимости?"
   ]
  },
  {
   "cell_type": "markdown",
   "metadata": {},
   "source": [
    "Попробуйте выбрать более широкое окно данных и повторить тест\n"
   ]
  },
  {
   "cell_type": "code",
   "execution_count": null,
   "metadata": {},
   "outputs": [],
   "source": [
    "# YOUR CODE"
   ]
  },
  {
   "cell_type": "markdown",
   "metadata": {},
   "source": [
    "**Проверка гипотезы о доле**"
   ]
  },
  {
   "cell_type": "markdown",
   "metadata": {},
   "source": [
    "Проверка гипотезы $H_0: p=p_0$ о доле $p$ признака в генеральной совокупности также проводится с помощью z-статистики."
   ]
  },
  {
   "cell_type": "markdown",
   "metadata": {},
   "source": [
    "$$ z = \\frac{m-n p_0}{\\sqrt{n p_0 q_0} } $$"
   ]
  },
  {
   "cell_type": "markdown",
   "metadata": {},
   "source": [
    "Резюмируя, **Z-тест** имеет смысл использовать если:\n",
    "* размер вашей выборки больше 30, в противном случае используйте t-тест.\n",
    "* элементы выборки независимы, то есть одно наблюдение не связано или не влияет на другое.\n",
    "* данные должны быть нормально распределены (при больших объемах выборки это не всегда имеет значение).\n",
    "* данные должны быть случайно выбраны из совокупности, где каждый элемент имеет равные шансы быть выбранным."
   ]
  },
  {
   "cell_type": "markdown",
   "metadata": {},
   "source": [
    "### T-тест"
   ]
  },
  {
   "cell_type": "markdown",
   "metadata": {},
   "source": [
    "*T-тест используется для проверки связей между числовой и категориальной переменной.* \n",
    "\n",
    "Существует три основных типа Т-теста:\n",
    "\n",
    "* по одной выборке: проверка равенства среднего значения заданному\n",
    "* для двух независимых выборок: проверка разницы средних двух выборок\n",
    "* для двух парных выборок: проверка разницы средних между двумя измерениями одного и того же объекта\n"
   ]
  },
  {
   "cell_type": "code",
   "execution_count": 25,
   "metadata": {},
   "outputs": [],
   "source": [
    "from scipy.stats import ttest_1samp"
   ]
  },
  {
   "cell_type": "markdown",
   "metadata": {},
   "source": [
    "Формула для **Т-статистики**:\n",
    "\n",
    "$$ T_{stat} = \\frac{M - \\mu}{\\hat{\\sigma} / \\sqrt{n}} $$\n",
    "\n",
    "$$ n - \\textit{размер выборки}$$"
   ]
  },
  {
   "cell_type": "markdown",
   "metadata": {},
   "source": [
    "В данном случае алгоритм такой же, как у Z-теста"
   ]
  },
  {
   "cell_type": "markdown",
   "metadata": {},
   "source": [
    "Простой пример: \n",
    "\n",
    "Проверяем гипотезу, что в среднем человек потребляет в сутки 2500 ккал в сутки (двусторонняя).\n",
    "\n",
    "Имеются данные опроса 12 человек."
   ]
  },
  {
   "cell_type": "code",
   "execution_count": 28,
   "metadata": {},
   "outputs": [],
   "source": [
    "data = [2000, 1900, 2800, 2600, 2500, 2000, 2200, 2300, 2700, 3000, 2400, 2600]"
   ]
  },
  {
   "cell_type": "code",
   "execution_count": 30,
   "metadata": {},
   "outputs": [
    {
     "data": {
      "text/plain": [
       "Ttest_1sampResult(statistic=-0.8343875188697228, pvalue=0.421813505286054)"
      ]
     },
     "execution_count": 30,
     "metadata": {},
     "output_type": "execute_result"
    }
   ],
   "source": [
    "ttest_1samp(data, popmean = 2500, alternative='two-sided')"
   ]
  },
  {
   "cell_type": "markdown",
   "metadata": {},
   "source": [
    "Следовательно, основная гипотеза не отвергается на любом разумном уровне значимости."
   ]
  },
  {
   "cell_type": "markdown",
   "metadata": {},
   "source": [
    "Теперь вспомним про данные по фильмам"
   ]
  },
  {
   "cell_type": "code",
   "execution_count": 32,
   "metadata": {},
   "outputs": [],
   "source": [
    "oscars = pd.read_csv('oscars_df.csv', sep=',')"
   ]
  },
  {
   "cell_type": "code",
   "execution_count": 33,
   "metadata": {},
   "outputs": [
    {
     "data": {
      "text/plain": [
       "Index(['Unnamed: 0', 'Film', 'Oscar Year', 'Film Studio/Producer(s)', 'Award',\n",
       "       'Year of Release', 'Movie Time', 'Movie Genre', 'IMDB Rating',\n",
       "       'IMDB Votes', 'Movie Info', 'Genres', 'Critic Consensus',\n",
       "       'Content Rating', 'Directors', 'Authors', 'Actors',\n",
       "       'Original Release Date', 'Streaming Release Date', 'Production Company',\n",
       "       'Tomatometer Status', 'Tomatometer Rating', 'Tomatometer Count',\n",
       "       'Audience Status', 'Audience Rating', 'Audience Count',\n",
       "       'Tomatometer Top Critics Count', 'Tomatometer Fresh Critics Count',\n",
       "       'Tomatometer Rotten Critics Count', 'Film ID'],\n",
       "      dtype='object')"
      ]
     },
     "execution_count": 33,
     "metadata": {},
     "output_type": "execute_result"
    }
   ],
   "source": [
    "oscars.columns"
   ]
  },
  {
   "cell_type": "code",
   "execution_count": 34,
   "metadata": {},
   "outputs": [
    {
     "data": {
      "text/plain": [
       "7.570402802101572"
      ]
     },
     "execution_count": 34,
     "metadata": {},
     "output_type": "execute_result"
    }
   ],
   "source": [
    "oscars['IMDB Rating'].mean()"
   ]
  },
  {
   "cell_type": "markdown",
   "metadata": {},
   "source": [
    "Проверим гипотезу, что средний IMDB рейтинг равен 7.5, против альтернативной гипотезы, что рейтинг больше."
   ]
  },
  {
   "cell_type": "code",
   "execution_count": 35,
   "metadata": {},
   "outputs": [
    {
     "data": {
      "text/plain": [
       "Ttest_1sampResult(statistic=3.006007491707009, pvalue=0.0013817734209566274)"
      ]
     },
     "execution_count": 35,
     "metadata": {},
     "output_type": "execute_result"
    }
   ],
   "source": [
    "# alternative: 'less', 'greater' or 'two-sided'\n",
    "ttest_1samp(oscars['IMDB Rating'], popmean = 7.5, alternative = 'greater')"
   ]
  },
  {
   "cell_type": "code",
   "execution_count": 36,
   "metadata": {},
   "outputs": [
    {
     "data": {
      "text/plain": [
       "1.6448536269514722"
      ]
     },
     "execution_count": 36,
     "metadata": {},
     "output_type": "execute_result"
    }
   ],
   "source": [
    "norm.ppf(0.95)"
   ]
  },
  {
   "cell_type": "markdown",
   "metadata": {},
   "source": [
    "Сформулируйте и проверьте любую свою гипотезу с помощью T-теста"
   ]
  },
  {
   "cell_type": "code",
   "execution_count": 37,
   "metadata": {},
   "outputs": [
    {
     "data": {
      "text/plain": [
       "82.42824601366742"
      ]
     },
     "execution_count": 37,
     "metadata": {},
     "output_type": "execute_result"
    }
   ],
   "source": [
    "oscars['Audience Rating'].mean()"
   ]
  },
  {
   "cell_type": "code",
   "execution_count": 38,
   "metadata": {},
   "outputs": [],
   "source": [
    "oscars['Audience Rating div'] = oscars['Audience Rating']/10"
   ]
  },
  {
   "cell_type": "code",
   "execution_count": 39,
   "metadata": {},
   "outputs": [
    {
     "data": {
      "text/plain": [
       "8.242824601366744"
      ]
     },
     "execution_count": 39,
     "metadata": {},
     "output_type": "execute_result"
    }
   ],
   "source": [
    "oscars['Audience Rating div'].mean()"
   ]
  },
  {
   "cell_type": "code",
   "execution_count": 42,
   "metadata": {},
   "outputs": [],
   "source": [
    "rating= oscars[['Audience Rating div']].dropna() "
   ]
  },
  {
   "cell_type": "code",
   "execution_count": 43,
   "metadata": {},
   "outputs": [
    {
     "data": {
      "text/html": [
       "<div>\n",
       "<style scoped>\n",
       "    .dataframe tbody tr th:only-of-type {\n",
       "        vertical-align: middle;\n",
       "    }\n",
       "\n",
       "    .dataframe tbody tr th {\n",
       "        vertical-align: top;\n",
       "    }\n",
       "\n",
       "    .dataframe thead th {\n",
       "        text-align: right;\n",
       "    }\n",
       "</style>\n",
       "<table border=\"1\" class=\"dataframe\">\n",
       "  <thead>\n",
       "    <tr style=\"text-align: right;\">\n",
       "      <th></th>\n",
       "      <th>Audience Rating div</th>\n",
       "    </tr>\n",
       "  </thead>\n",
       "  <tbody>\n",
       "    <tr>\n",
       "      <th>0</th>\n",
       "      <td>7.8</td>\n",
       "    </tr>\n",
       "    <tr>\n",
       "      <th>3</th>\n",
       "      <td>2.1</td>\n",
       "    </tr>\n",
       "    <tr>\n",
       "      <th>6</th>\n",
       "      <td>3.8</td>\n",
       "    </tr>\n",
       "    <tr>\n",
       "      <th>9</th>\n",
       "      <td>6.9</td>\n",
       "    </tr>\n",
       "    <tr>\n",
       "      <th>13</th>\n",
       "      <td>2.5</td>\n",
       "    </tr>\n",
       "    <tr>\n",
       "      <th>...</th>\n",
       "      <td>...</td>\n",
       "    </tr>\n",
       "    <tr>\n",
       "      <th>552</th>\n",
       "      <td>7.9</td>\n",
       "    </tr>\n",
       "    <tr>\n",
       "      <th>553</th>\n",
       "      <td>6.0</td>\n",
       "    </tr>\n",
       "    <tr>\n",
       "      <th>557</th>\n",
       "      <td>8.6</td>\n",
       "    </tr>\n",
       "    <tr>\n",
       "      <th>559</th>\n",
       "      <td>8.8</td>\n",
       "    </tr>\n",
       "    <tr>\n",
       "      <th>561</th>\n",
       "      <td>8.5</td>\n",
       "    </tr>\n",
       "  </tbody>\n",
       "</table>\n",
       "<p>439 rows × 1 columns</p>\n",
       "</div>"
      ],
      "text/plain": [
       "     Audience Rating div\n",
       "0                    7.8\n",
       "3                    2.1\n",
       "6                    3.8\n",
       "9                    6.9\n",
       "13                   2.5\n",
       "..                   ...\n",
       "552                  7.9\n",
       "553                  6.0\n",
       "557                  8.6\n",
       "559                  8.8\n",
       "561                  8.5\n",
       "\n",
       "[439 rows x 1 columns]"
      ]
     },
     "execution_count": 43,
     "metadata": {},
     "output_type": "execute_result"
    }
   ],
   "source": [
    "rating"
   ]
  },
  {
   "cell_type": "code",
   "execution_count": 45,
   "metadata": {},
   "outputs": [
    {
     "data": {
      "text/plain": [
       "Ttest_1sampResult(statistic=12.325035195299069, pvalue=1.7907797400746775e-30)"
      ]
     },
     "execution_count": 45,
     "metadata": {},
     "output_type": "execute_result"
    }
   ],
   "source": [
    "ttest_1samp(rating['Audience Rating div'], popmean = 7.6, alternative = 'greater')"
   ]
  },
  {
   "cell_type": "markdown",
   "metadata": {},
   "source": [
    "# Теперь вспомним про данные по котировкам акций. \n",
    "\n",
    "* Повторите T-тест для той же гипотезы\n",
    "* Сравните среднее значение в кризисный и некризисный периоды\n"
   ]
  },
  {
   "cell_type": "code",
   "execution_count": null,
   "metadata": {},
   "outputs": [],
   "source": [
    "# YOUR CODE"
   ]
  },
  {
   "cell_type": "markdown",
   "metadata": {},
   "source": [
    "Что почитать, где потренироваться:"
   ]
  },
  {
   "cell_type": "markdown",
   "metadata": {},
   "source": [
    "https://machinelearningmastery.com/parametric-statistical-significance-tests-in-python/\n",
    "\n",
    "https://towardsdatascience.com/an-interactive-guide-to-hypothesis-testing-in-python-979f4d62d85\n",
    "\n",
    "https://towardsdatascience.com/hypothesis-testing-z-scores-337fb06e26ab\n",
    "\n"
   ]
  }
 ],
 "metadata": {
  "kernelspec": {
   "display_name": "Python 3 (ipykernel)",
   "language": "python",
   "name": "python3"
  },
  "language_info": {
   "codemirror_mode": {
    "name": "ipython",
    "version": 3
   },
   "file_extension": ".py",
   "mimetype": "text/x-python",
   "name": "python",
   "nbconvert_exporter": "python",
   "pygments_lexer": "ipython3",
   "version": "3.9.7"
  }
 },
 "nbformat": 4,
 "nbformat_minor": 4
}
